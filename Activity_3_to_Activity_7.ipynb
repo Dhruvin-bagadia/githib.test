{
  "nbformat": 4,
  "nbformat_minor": 0,
  "metadata": {
    "colab": {
      "name": "Activity 3 to Activity_7",
      "provenance": [],
      "collapsed_sections": [],
      "authorship_tag": "ABX9TyNLvv3jVvNQD62lCrflsWpR",
      "include_colab_link": true
    },
    "kernelspec": {
      "name": "python3",
      "display_name": "Python 3"
    }
  },
  "cells": [
    {
      "cell_type": "markdown",
      "metadata": {
        "id": "view-in-github",
        "colab_type": "text"
      },
      "source": [
        "<a href=\"https://colab.research.google.com/github/Dhruvin-bagadia/githib.test/blob/main/Activity_3_to_Activity_7.ipynb\" target=\"_parent\"><img src=\"https://colab.research.google.com/assets/colab-badge.svg\" alt=\"Open In Colab\"/></a>"
      ]
    },
    {
      "cell_type": "code",
      "metadata": {
        "id": "Fg3D7TxItk5n",
        "outputId": "03bc0315-f4a4-4096-9bb3-04fc496cbbf7",
        "colab": {
          "base_uri": "https://localhost:8080/"
        }
      },
      "source": [
        "pip install tensorflow==1.15.0"
      ],
      "execution_count": 70,
      "outputs": [
        {
          "output_type": "stream",
          "text": [
            "Requirement already satisfied: tensorflow==1.15.0 in /usr/local/lib/python3.6/dist-packages (1.15.0)\n",
            "Requirement already satisfied: termcolor>=1.1.0 in /usr/local/lib/python3.6/dist-packages (from tensorflow==1.15.0) (1.1.0)\n",
            "Requirement already satisfied: google-pasta>=0.1.6 in /usr/local/lib/python3.6/dist-packages (from tensorflow==1.15.0) (0.2.0)\n",
            "Requirement already satisfied: keras-applications>=1.0.8 in /usr/local/lib/python3.6/dist-packages (from tensorflow==1.15.0) (1.0.8)\n",
            "Requirement already satisfied: wrapt>=1.11.1 in /usr/local/lib/python3.6/dist-packages (from tensorflow==1.15.0) (1.12.1)\n",
            "Requirement already satisfied: protobuf>=3.6.1 in /usr/local/lib/python3.6/dist-packages (from tensorflow==1.15.0) (3.12.4)\n",
            "Requirement already satisfied: keras-preprocessing>=1.0.5 in /usr/local/lib/python3.6/dist-packages (from tensorflow==1.15.0) (1.1.2)\n",
            "Requirement already satisfied: six>=1.10.0 in /usr/local/lib/python3.6/dist-packages (from tensorflow==1.15.0) (1.15.0)\n",
            "Requirement already satisfied: tensorflow-estimator==1.15.1 in /usr/local/lib/python3.6/dist-packages (from tensorflow==1.15.0) (1.15.1)\n",
            "Requirement already satisfied: opt-einsum>=2.3.2 in /usr/local/lib/python3.6/dist-packages (from tensorflow==1.15.0) (3.3.0)\n",
            "Requirement already satisfied: grpcio>=1.8.6 in /usr/local/lib/python3.6/dist-packages (from tensorflow==1.15.0) (1.33.1)\n",
            "Requirement already satisfied: gast==0.2.2 in /usr/local/lib/python3.6/dist-packages (from tensorflow==1.15.0) (0.2.2)\n",
            "Requirement already satisfied: wheel>=0.26 in /usr/local/lib/python3.6/dist-packages (from tensorflow==1.15.0) (0.35.1)\n",
            "Requirement already satisfied: absl-py>=0.7.0 in /usr/local/lib/python3.6/dist-packages (from tensorflow==1.15.0) (0.10.0)\n",
            "Requirement already satisfied: tensorboard<1.16.0,>=1.15.0 in /usr/local/lib/python3.6/dist-packages (from tensorflow==1.15.0) (1.15.0)\n",
            "Requirement already satisfied: astor>=0.6.0 in /usr/local/lib/python3.6/dist-packages (from tensorflow==1.15.0) (0.8.1)\n",
            "Requirement already satisfied: numpy<2.0,>=1.16.0 in /usr/local/lib/python3.6/dist-packages (from tensorflow==1.15.0) (1.18.5)\n",
            "Requirement already satisfied: h5py in /usr/local/lib/python3.6/dist-packages (from keras-applications>=1.0.8->tensorflow==1.15.0) (2.10.0)\n",
            "Requirement already satisfied: setuptools in /usr/local/lib/python3.6/dist-packages (from protobuf>=3.6.1->tensorflow==1.15.0) (50.3.2)\n",
            "Requirement already satisfied: markdown>=2.6.8 in /usr/local/lib/python3.6/dist-packages (from tensorboard<1.16.0,>=1.15.0->tensorflow==1.15.0) (3.3.2)\n",
            "Requirement already satisfied: werkzeug>=0.11.15 in /usr/local/lib/python3.6/dist-packages (from tensorboard<1.16.0,>=1.15.0->tensorflow==1.15.0) (1.0.1)\n",
            "Requirement already satisfied: importlib-metadata; python_version < \"3.8\" in /usr/local/lib/python3.6/dist-packages (from markdown>=2.6.8->tensorboard<1.16.0,>=1.15.0->tensorflow==1.15.0) (2.0.0)\n",
            "Requirement already satisfied: zipp>=0.5 in /usr/local/lib/python3.6/dist-packages (from importlib-metadata; python_version < \"3.8\"->markdown>=2.6.8->tensorboard<1.16.0,>=1.15.0->tensorflow==1.15.0) (3.3.1)\n"
          ],
          "name": "stdout"
        }
      ]
    },
    {
      "cell_type": "code",
      "metadata": {
        "id": "BGXxI5NY6NOr"
      },
      "source": [
        "import tqdm\n",
        "import os\n",
        "import tensorflow as tf\n",
        "os.environ['TF_CPP_MIN_LOG_LEVEL'] = '2'\n",
        "tf.compat.v1.logging.set_verbosity(tf.compat.v1.logging.ERROR)"
      ],
      "execution_count": 133,
      "outputs": []
    },
    {
      "cell_type": "code",
      "metadata": {
        "id": "heur53Rq6Sdz",
        "outputId": "3b7a67d0-968d-4c88-81ec-78d345f73dff",
        "colab": {
          "base_uri": "https://localhost:8080/"
        }
      },
      "source": [
        "from google.colab import drive\n",
        "drive.mount(\"/content/drive\", force_remount=True)"
      ],
      "execution_count": 134,
      "outputs": [
        {
          "output_type": "stream",
          "text": [
            "Mounted at /content/drive\n"
          ],
          "name": "stdout"
        }
      ]
    },
    {
      "cell_type": "code",
      "metadata": {
        "id": "MAeB_YEA6UhD"
      },
      "source": [
        "\"\"\"\n",
        "Series of normalization functions useful\n",
        "for normalizing time-series data.\n",
        "\n",
        "Author: Luis Capelo\n",
        "\"\"\"\n",
        "def z_score(series):\n",
        "    \"\"\"\n",
        "    Computes the normalized value using the Z-score\n",
        "    technique. The Z-score is a technique used for\n",
        "    normalizing Gaussian distributions representing\n",
        "    each observation in relation to the distribution's\n",
        "    mean and standard deviation. For precise definitions,\n",
        "    see the Wikipedia article:\n",
        "    \n",
        "        https://en.wikipedia.org/wiki/Standard_score\n",
        "    \n",
        "    Parameters\n",
        "    ----------\n",
        "    serie: list\n",
        "        List with sequential values to use.\n",
        "    \n",
        "    Returns\n",
        "    -------\n",
        "    result: list\n",
        "        List with the normalized results.\n",
        "    \"\"\"\n",
        "    result = (series - series.mean()) / series.std(ddof=0)\n",
        "    return result\n",
        "\n",
        "def point_relative_normalization(series):\n",
        "    \"\"\"\n",
        "    Computes the normalized value for the values of a\n",
        "    given series by using the first element of the serie as p_0\n",
        "    as a reference for each p_i.\n",
        "    \n",
        "    This technique comes from Siraj Raval's YouTube video\n",
        "    \"How to Predict Stock Prices Easily - Intro to Deep Learning #7\",\n",
        "    available at:\n",
        "    \n",
        "        https://www.youtube.com/watch?v=ftMq5ps503w\n",
        "    \n",
        "    Parameters\n",
        "    ----------\n",
        "    serie: list\n",
        "        List with sequential values to use.\n",
        "    \n",
        "    Returns\n",
        "    -------\n",
        "    result: list\n",
        "        List with the normalized results.\n",
        "    \"\"\"\n",
        "    result = (series / series.values[0]) - 1\n",
        "    return result\n",
        "\n",
        "def maximum_and_minimum_normalization(series, boundary=(0, 1)):\n",
        "    \"\"\"\n",
        "    Computes the normalized value for the values of a\n",
        "    given serie by using that series maximum and minimum\n",
        "    values.\n",
        "    \n",
        "    This technique is a direct implementation from \n",
        "    scikit-learn, available at:\n",
        "    \n",
        "        http://scikit-learn.org/stable/modules/generated/\\\n",
        "            sklearn.preprocessing.MinMaxScaler.html\n",
        "    \n",
        "    Parameters\n",
        "    ----------\n",
        "    serie: list\n",
        "        List with sequential values to use.\n",
        "    \n",
        "    boundary: set\n",
        "        Maximum and minimum values used to\n",
        "        scale the series.\n",
        "        \n",
        "    Returns\n",
        "    -------\n",
        "    result: list\n",
        "        List with the normalized results.\n",
        "    \"\"\"\n",
        "    range_min, range_max = boundary\n",
        "    standard_deviation = (series - series.min(axis=0)) / (series.max(axis=0) - series.min(axis=0))\n",
        "    result = standard_deviation * (range_max - range_min) + range_min\n",
        "\n",
        "    return result\n"
      ],
      "execution_count": 135,
      "outputs": []
    },
    {
      "cell_type": "code",
      "metadata": {
        "id": "gGv_A3pIBi1W",
        "outputId": "0acd5bce-be82-4add-dc62-ba92ab11d27f",
        "colab": {
          "base_uri": "https://localhost:8080/"
        }
      },
      "source": [
        "!pip install normalizations"
      ],
      "execution_count": 136,
      "outputs": [
        {
          "output_type": "stream",
          "text": [
            "\u001b[31mERROR: Could not find a version that satisfies the requirement normalizations (from versions: none)\u001b[0m\n",
            "\u001b[31mERROR: No matching distribution found for normalizations\u001b[0m\n"
          ],
          "name": "stdout"
        }
      ]
    },
    {
      "cell_type": "code",
      "metadata": {
        "id": "jls8jyTp7kDS",
        "outputId": "108c8fce-7ec1-4f8a-da6e-e2aa17111e2a",
        "colab": {
          "base_uri": "https://localhost:8080/",
          "height": 35
        }
      },
      "source": [
        "%autosave 5\n",
        "\n",
        "#  Import required libraries\n",
        "import numpy as np\n",
        "import pandas as pd\n",
        "%matplotlib inline\n",
        "\n",
        "#  Import our custom set of normalization functions\n",
        "import normalizations"
      ],
      "execution_count": 137,
      "outputs": [
        {
          "output_type": "display_data",
          "data": {
            "application/javascript": [
              "IPython.notebook.set_autosave_interval(5000)"
            ]
          },
          "metadata": {
            "tags": []
          }
        },
        {
          "output_type": "stream",
          "text": [
            "Autosaving every 5 seconds\n"
          ],
          "name": "stdout"
        }
      ]
    },
    {
      "cell_type": "code",
      "metadata": {
        "id": "o-0orgrKJzdl",
        "outputId": "2d26226b-d24b-41b2-cdde-34a85c8f4b42",
        "colab": {
          "base_uri": "https://localhost:8080/",
          "height": 202
        }
      },
      "source": [
        "#  Load the dataset as a pandas DataFrame\n",
        "bitcoin = pd.read_csv('/content/drive/My Drive/Data/Data/bitcoin_historical_prices.csv')\n",
        "\n",
        "#  Change `date` column to datetime type\n",
        "bitcoin['date'] = pd.to_datetime(bitcoin['date'])\n",
        "bitcoin.head()"
      ],
      "execution_count": 138,
      "outputs": [
        {
          "output_type": "execute_result",
          "data": {
            "text/html": [
              "<div>\n",
              "<style scoped>\n",
              "    .dataframe tbody tr th:only-of-type {\n",
              "        vertical-align: middle;\n",
              "    }\n",
              "\n",
              "    .dataframe tbody tr th {\n",
              "        vertical-align: top;\n",
              "    }\n",
              "\n",
              "    .dataframe thead th {\n",
              "        text-align: right;\n",
              "    }\n",
              "</style>\n",
              "<table border=\"1\" class=\"dataframe\">\n",
              "  <thead>\n",
              "    <tr style=\"text-align: right;\">\n",
              "      <th></th>\n",
              "      <th>date</th>\n",
              "      <th>iso_week</th>\n",
              "      <th>open</th>\n",
              "      <th>high</th>\n",
              "      <th>low</th>\n",
              "      <th>close</th>\n",
              "      <th>volume</th>\n",
              "      <th>market_capitalization</th>\n",
              "    </tr>\n",
              "  </thead>\n",
              "  <tbody>\n",
              "    <tr>\n",
              "      <th>0</th>\n",
              "      <td>2013-04-28</td>\n",
              "      <td>2013-17</td>\n",
              "      <td>135.30</td>\n",
              "      <td>135.98</td>\n",
              "      <td>132.10</td>\n",
              "      <td>134.21</td>\n",
              "      <td>NaN</td>\n",
              "      <td>1.500520e+09</td>\n",
              "    </tr>\n",
              "    <tr>\n",
              "      <th>1</th>\n",
              "      <td>2013-04-29</td>\n",
              "      <td>2013-17</td>\n",
              "      <td>134.44</td>\n",
              "      <td>147.49</td>\n",
              "      <td>134.00</td>\n",
              "      <td>144.54</td>\n",
              "      <td>NaN</td>\n",
              "      <td>1.491160e+09</td>\n",
              "    </tr>\n",
              "    <tr>\n",
              "      <th>2</th>\n",
              "      <td>2013-04-30</td>\n",
              "      <td>2013-17</td>\n",
              "      <td>144.00</td>\n",
              "      <td>146.93</td>\n",
              "      <td>134.05</td>\n",
              "      <td>139.00</td>\n",
              "      <td>NaN</td>\n",
              "      <td>1.597780e+09</td>\n",
              "    </tr>\n",
              "    <tr>\n",
              "      <th>3</th>\n",
              "      <td>2013-05-01</td>\n",
              "      <td>2013-17</td>\n",
              "      <td>139.00</td>\n",
              "      <td>139.89</td>\n",
              "      <td>107.72</td>\n",
              "      <td>116.99</td>\n",
              "      <td>NaN</td>\n",
              "      <td>1.542820e+09</td>\n",
              "    </tr>\n",
              "    <tr>\n",
              "      <th>4</th>\n",
              "      <td>2013-05-02</td>\n",
              "      <td>2013-17</td>\n",
              "      <td>116.38</td>\n",
              "      <td>125.60</td>\n",
              "      <td>92.28</td>\n",
              "      <td>105.21</td>\n",
              "      <td>NaN</td>\n",
              "      <td>1.292190e+09</td>\n",
              "    </tr>\n",
              "  </tbody>\n",
              "</table>\n",
              "</div>"
            ],
            "text/plain": [
              "        date iso_week    open  ...   close  volume  market_capitalization\n",
              "0 2013-04-28  2013-17  135.30  ...  134.21     NaN           1.500520e+09\n",
              "1 2013-04-29  2013-17  134.44  ...  144.54     NaN           1.491160e+09\n",
              "2 2013-04-30  2013-17  144.00  ...  139.00     NaN           1.597780e+09\n",
              "3 2013-05-01  2013-17  139.00  ...  116.99     NaN           1.542820e+09\n",
              "4 2013-05-02  2013-17  116.38  ...  105.21     NaN           1.292190e+09\n",
              "\n",
              "[5 rows x 8 columns]"
            ]
          },
          "metadata": {
            "tags": []
          },
          "execution_count": 138
        }
      ]
    },
    {
      "cell_type": "code",
      "metadata": {
        "id": "GlXAeOPnWOzb"
      },
      "source": [
        "### EXPLORATION"
      ],
      "execution_count": null,
      "outputs": []
    },
    {
      "cell_type": "code",
      "metadata": {
        "id": "2ojr6aDMXpV5",
        "outputId": "3d23e8ec-2be7-4373-8926-00d20f72218e",
        "colab": {
          "base_uri": "https://localhost:8080/",
          "height": 276
        }
      },
      "source": [
        "#  Time-series plot for `close` variable\n",
        "bitcoin.set_index('date')['close'].plot(\n",
        "    linewidth=2,\n",
        "    figsize=(14, 4),\n",
        "    color='#d35400');"
      ],
      "execution_count": 139,
      "outputs": [
        {
          "output_type": "display_data",
          "data": {
            "image/png": "[encoded data removed]",
            "text/plain": [
              "<Figure size 1008x288 with 1 Axes>"
            ]
          },
          "metadata": {
            "tags": [],
            "needs_background": "light"
          }
        }
      ]
    },
    {
      "cell_type": "code",
      "metadata": {
        "id": "aEyVyuOdX7c7"
      },
      "source": [
        "#  TASK:\n",
        "#  Make a time-series plot for `volume` variable here.\n",
        "#  How different is the volume data compared to \n",
        "#  the closing prices every day?\n",
        "#"
      ],
      "execution_count": 140,
      "outputs": []
    },
    {
      "cell_type": "code",
      "metadata": {
        "id": "Udu_Sn-LYApZ"
      },
      "source": [
        "###Preparing Dataset for Model"
      ],
      "execution_count": 141,
      "outputs": []
    },
    {
      "cell_type": "code",
      "metadata": {
        "id": "LMuTWTwaYLEN"
      },
      "source": [
        "# Filter for newer or equal to Jan 1, 2016\n",
        "bitcoin_recent = bitcoin[bitcoin['date'] >= '2016-01-01']"
      ],
      "execution_count": 142,
      "outputs": []
    },
    {
      "cell_type": "code",
      "metadata": {
        "id": "Qid3PAx8YOC2"
      },
      "source": [
        "#  Keep only the `close` and `volume` variables\n",
        "bitcoin_recent = bitcoin_recent[['date', 'iso_week', 'close', 'volume']]"
      ],
      "execution_count": 143,
      "outputs": []
    },
    {
      "cell_type": "code",
      "metadata": {
        "id": "7WtaOxNZYS9r"
      },
      "source": [
        "#  Normalize our data for the the `close` variable.\n",
        "bitcoin_recent['close_point_relative_normalization'] = bitcoin_recent.groupby('iso_week')['close'].apply(\n",
        "    lambda x: normalizations.maximum_and_minimum_normalization(x))        "
      ],
      "execution_count": 144,
      "outputs": []
    },
    {
      "cell_type": "code",
      "metadata": {
        "id": "rT4UWZcmcl0U",
        "outputId": "86e36e12-a4cc-4aec-cc73-02f6dac1af2e",
        "colab": {
          "base_uri": "https://localhost:8080/",
          "height": 287
        }
      },
      "source": [
        "#  Plot for normalized variable `close_point_relative_normalization`\n",
        "bitcoin_recent.set_index('date')['close_point_relative_normalization'].plot(figsize=(14, 4), color='#d35400');"
      ],
      "execution_count": 145,
      "outputs": [
        {
          "output_type": "display_data",
          "data": {
            "image/png": "[encoded data removed]",
            "text/plain": [
              "<Figure size 1008x288 with 1 Axes>"
            ]
          },
          "metadata": {
            "tags": [],
            "needs_background": "light"
          }
        }
      ]
    },
    {
      "cell_type": "code",
      "metadata": {
        "id": "W_Yg4ms0cq48"
      },
      "source": [
        "#  TASK:\n",
        "#  Normalize our data for the the `volume` variable.\n",
        "#  Use the name: `volume_point_relative_normalization`\n",
        "#\n"
      ],
      "execution_count": 146,
      "outputs": []
    },
    {
      "cell_type": "code",
      "metadata": {
        "id": "RmoijPslctRz"
      },
      "source": [
        "#  TASK:\n",
        "#  Plot for normalized variable `volume_point_relative_normalization` \n",
        "#  in the same way as above\n",
        "#"
      ],
      "execution_count": 147,
      "outputs": []
    },
    {
      "cell_type": "code",
      "metadata": {
        "id": "imnsnv-NcwTz"
      },
      "source": [
        "### TRAINING AND TESTING SETS\n"
      ],
      "execution_count": 148,
      "outputs": []
    },
    {
      "cell_type": "code",
      "metadata": {
        "id": "G-AH5BfjczsD",
        "outputId": "a52f6ecb-1ce9-419c-d657-e25e45f10d1f",
        "colab": {
          "base_uri": "https://localhost:8080/"
        }
      },
      "source": [
        "#  Use the last 20% of available weeks as a test set and the first 80% as a training set.\n",
        "boundary = int(0.8 * bitcoin_recent['iso_week'].nunique())\n",
        "train_set_weeks = bitcoin_recent['iso_week'].unique()[0:boundary]\n",
        "test_set_weeks = bitcoin_recent[~bitcoin_recent['iso_week'].isin(train_set_weeks)]['iso_week'].unique()\n",
        "\n",
        "print(train_set_weeks)\n",
        "print(test_set_weeks)"
      ],
      "execution_count": 149,
      "outputs": [
        {
          "output_type": "stream",
          "text": [
            "['2016-00' '2016-01' '2016-02' '2016-03' '2016-04' '2016-05' '2016-06'\n",
            " '2016-07' '2016-08' '2016-09' '2016-10' '2016-11' '2016-12' '2016-13'\n",
            " '2016-14' '2016-15' '2016-16' '2016-17' '2016-18' '2016-19' '2016-20'\n",
            " '2016-21' '2016-22' '2016-23' '2016-24' '2016-25' '2016-26' '2016-27'\n",
            " '2016-28' '2016-29' '2016-30' '2016-31' '2016-32' '2016-33' '2016-34'\n",
            " '2016-35' '2016-36' '2016-37' '2016-38' '2016-39' '2016-40' '2016-41'\n",
            " '2016-42' '2016-43' '2016-44' '2016-45' '2016-46' '2016-47' '2016-48'\n",
            " '2016-49' '2016-50' '2016-51' '2016-52' '2017-01' '2017-02' '2017-03'\n",
            " '2017-04' '2017-05' '2017-06' '2017-07' '2017-08' '2017-09' '2017-10'\n",
            " '2017-11' '2017-12' '2017-13' '2017-14' '2017-15' '2017-16' '2017-17'\n",
            " '2017-18' '2017-19' '2017-20' '2017-21' '2017-22' '2017-23' '2017-24'\n",
            " '2017-25']\n",
            "['2017-26' '2017-27' '2017-28' '2017-29' '2017-30' '2017-31' '2017-32'\n",
            " '2017-33' '2017-34' '2017-35' '2017-36' '2017-37' '2017-38' '2017-39'\n",
            " '2017-40' '2017-41' '2017-42' '2017-43' '2017-44' '2017-45']\n"
          ],
          "name": "stdout"
        }
      ]
    },
    {
      "cell_type": "code",
      "metadata": {
        "id": "jye2G48Oc8hL"
      },
      "source": [
        "#  Create train dataset\n",
        "train_dataset = bitcoin_recent[bitcoin_recent['iso_week'].isin(train_set_weeks)]"
      ],
      "execution_count": 150,
      "outputs": []
    },
    {
      "cell_type": "code",
      "metadata": {
        "id": "SwpRHQZqld2-"
      },
      "source": [
        "test_dataset = bitcoin_recent[bitcoin_recent['iso_week'].isin(test_set_weeks)]"
      ],
      "execution_count": 151,
      "outputs": []
    },
    {
      "cell_type": "code",
      "metadata": {
        "id": "lrNIlzWmc-Y7"
      },
      "source": [
        "#  TASK:\n",
        "#  Create test dataset by performing the same operation as above.\n",
        "#  Use the `test_set_weeks` list to create the variable `test_dataset`.\n",
        "#"
      ],
      "execution_count": 152,
      "outputs": []
    },
    {
      "cell_type": "code",
      "metadata": {
        "id": "dJca4LSudAgA"
      },
      "source": [
        "###STORING OUTPUT"
      ],
      "execution_count": 43,
      "outputs": []
    },
    {
      "cell_type": "code",
      "metadata": {
        "id": "g3-0o3-EdDX7"
      },
      "source": [
        "bitcoin_recent.to_csv('/content/drive/My Drive/bitcoin_recent.csv', index=False)\n",
        "train_dataset.to_csv('/content/drive/My Drive/train_dataset.csv', index=False)\n",
        "test_dataset.to_csv('/content/drive/My Drive/test_dataset.csv', index=False)"
      ],
      "execution_count": 169,
      "outputs": []
    },
    {
      "cell_type": "code",
      "metadata": {
        "id": "E93U_WWVlkTY"
      },
      "source": [
        "### Activity 4: Creating a TensorFlow Model using Keras\n"
      ],
      "execution_count": 154,
      "outputs": []
    },
    {
      "cell_type": "code",
      "metadata": {
        "id": "YENyxRe8piKk",
        "outputId": "b5ee67ae-a782-4bf6-9e85-1605a3c3e857",
        "colab": {
          "base_uri": "https://localhost:8080/",
          "height": 453
        }
      },
      "source": [
        "\n",
        "!pip uninstall keras\n",
        "!pip install keras"
      ],
      "execution_count": 9,
      "outputs": [
        {
          "output_type": "stream",
          "text": [
            "Uninstalling Keras-2.4.3:\n",
            "  Would remove:\n",
            "    /usr/local/lib/python3.6/dist-packages/Keras-2.4.3.dist-info/*\n",
            "    /usr/local/lib/python3.6/dist-packages/docs/*\n",
            "    /usr/local/lib/python3.6/dist-packages/keras/*\n",
            "  Would not remove (might be manually added):\n",
            "    /usr/local/lib/python3.6/dist-packages/docs/md_autogen.py\n",
            "    /usr/local/lib/python3.6/dist-packages/docs/update_docs.py\n",
            "Proceed (y/n)? y\n",
            "  Successfully uninstalled Keras-2.4.3\n",
            "Collecting keras\n",
            "  Using cached https://files.pythonhosted.org/packages/44/e1/dc0757b20b56c980b5553c1b5c4c32d378c7055ab7bfa92006801ad359ab/Keras-2.4.3-py2.py3-none-any.whl\n",
            "Requirement already satisfied: numpy>=1.9.1 in /usr/local/lib/python3.6/dist-packages (from keras) (1.18.5)\n",
            "Requirement already satisfied: pyyaml in /usr/local/lib/python3.6/dist-packages (from keras) (3.13)\n",
            "Requirement already satisfied: h5py in /usr/local/lib/python3.6/dist-packages (from keras) (2.10.0)\n",
            "Requirement already satisfied: scipy>=0.14 in /usr/local/lib/python3.6/dist-packages (from keras) (1.4.1)\n",
            "Requirement already satisfied: six in /usr/local/lib/python3.6/dist-packages (from h5py->keras) (1.15.0)\n",
            "Installing collected packages: keras\n",
            "Successfully installed keras-2.4.3\n"
          ],
          "name": "stdout"
        },
        {
          "output_type": "display_data",
          "data": {
            "application/vnd.colab-display-data+json": {
              "pip_warning": {
                "packages": [
                  "keras"
                ]
              }
            }
          },
          "metadata": {
            "tags": []
          }
        }
      ]
    },
    {
      "cell_type": "code",
      "metadata": {
        "id": "Uo9850_7qAyO",
        "outputId": "716a0ed8-48f9-4e6c-bd72-1e018b4bff11",
        "colab": {
          "base_uri": "https://localhost:8080/"
        }
      },
      "source": [
        "pip install tensorflow"
      ],
      "execution_count": 10,
      "outputs": [
        {
          "output_type": "stream",
          "text": [
            "Requirement already satisfied: tensorflow in /usr/local/lib/python3.6/dist-packages (2.3.1)\n",
            "Requirement already satisfied: google-pasta>=0.1.8 in /usr/local/lib/python3.6/dist-packages (from tensorflow) (0.2.0)\n",
            "Requirement already satisfied: wheel>=0.26 in /usr/local/lib/python3.6/dist-packages (from tensorflow) (0.35.1)\n",
            "Requirement already satisfied: gast==0.3.3 in /usr/local/lib/python3.6/dist-packages (from tensorflow) (0.3.3)\n",
            "Requirement already satisfied: tensorflow-estimator<2.4.0,>=2.3.0 in /usr/local/lib/python3.6/dist-packages (from tensorflow) (2.3.0)\n",
            "Requirement already satisfied: six>=1.12.0 in /usr/local/lib/python3.6/dist-packages (from tensorflow) (1.15.0)\n",
            "Requirement already satisfied: wrapt>=1.11.1 in /usr/local/lib/python3.6/dist-packages (from tensorflow) (1.12.1)\n",
            "Requirement already satisfied: grpcio>=1.8.6 in /usr/local/lib/python3.6/dist-packages (from tensorflow) (1.33.1)\n",
            "Requirement already satisfied: opt-einsum>=2.3.2 in /usr/local/lib/python3.6/dist-packages (from tensorflow) (3.3.0)\n",
            "Requirement already satisfied: absl-py>=0.7.0 in /usr/local/lib/python3.6/dist-packages (from tensorflow) (0.10.0)\n",
            "Requirement already satisfied: tensorboard<3,>=2.3.0 in /usr/local/lib/python3.6/dist-packages (from tensorflow) (2.3.0)\n",
            "Requirement already satisfied: h5py<2.11.0,>=2.10.0 in /usr/local/lib/python3.6/dist-packages (from tensorflow) (2.10.0)\n",
            "Requirement already satisfied: astunparse==1.6.3 in /usr/local/lib/python3.6/dist-packages (from tensorflow) (1.6.3)\n",
            "Requirement already satisfied: numpy<1.19.0,>=1.16.0 in /usr/local/lib/python3.6/dist-packages (from tensorflow) (1.18.5)\n",
            "Requirement already satisfied: keras-preprocessing<1.2,>=1.1.1 in /usr/local/lib/python3.6/dist-packages (from tensorflow) (1.1.2)\n",
            "Requirement already satisfied: termcolor>=1.1.0 in /usr/local/lib/python3.6/dist-packages (from tensorflow) (1.1.0)\n",
            "Requirement already satisfied: protobuf>=3.9.2 in /usr/local/lib/python3.6/dist-packages (from tensorflow) (3.12.4)\n",
            "Requirement already satisfied: google-auth<2,>=1.6.3 in /usr/local/lib/python3.6/dist-packages (from tensorboard<3,>=2.3.0->tensorflow) (1.17.2)\n",
            "Requirement already satisfied: werkzeug>=0.11.15 in /usr/local/lib/python3.6/dist-packages (from tensorboard<3,>=2.3.0->tensorflow) (1.0.1)\n",
            "Requirement already satisfied: markdown>=2.6.8 in /usr/local/lib/python3.6/dist-packages (from tensorboard<3,>=2.3.0->tensorflow) (3.3.3)\n",
            "Requirement already satisfied: google-auth-oauthlib<0.5,>=0.4.1 in /usr/local/lib/python3.6/dist-packages (from tensorboard<3,>=2.3.0->tensorflow) (0.4.1)\n",
            "Requirement already satisfied: tensorboard-plugin-wit>=1.6.0 in /usr/local/lib/python3.6/dist-packages (from tensorboard<3,>=2.3.0->tensorflow) (1.7.0)\n",
            "Requirement already satisfied: requests<3,>=2.21.0 in /usr/local/lib/python3.6/dist-packages (from tensorboard<3,>=2.3.0->tensorflow) (2.23.0)\n",
            "Requirement already satisfied: setuptools>=41.0.0 in /usr/local/lib/python3.6/dist-packages (from tensorboard<3,>=2.3.0->tensorflow) (50.3.2)\n",
            "Requirement already satisfied: pyasn1-modules>=0.2.1 in /usr/local/lib/python3.6/dist-packages (from google-auth<2,>=1.6.3->tensorboard<3,>=2.3.0->tensorflow) (0.2.8)\n",
            "Requirement already satisfied: rsa<5,>=3.1.4; python_version >= \"3\" in /usr/local/lib/python3.6/dist-packages (from google-auth<2,>=1.6.3->tensorboard<3,>=2.3.0->tensorflow) (4.6)\n",
            "Requirement already satisfied: cachetools<5.0,>=2.0.0 in /usr/local/lib/python3.6/dist-packages (from google-auth<2,>=1.6.3->tensorboard<3,>=2.3.0->tensorflow) (4.1.1)\n",
            "Requirement already satisfied: importlib-metadata; python_version < \"3.8\" in /usr/local/lib/python3.6/dist-packages (from markdown>=2.6.8->tensorboard<3,>=2.3.0->tensorflow) (2.0.0)\n",
            "Requirement already satisfied: requests-oauthlib>=0.7.0 in /usr/local/lib/python3.6/dist-packages (from google-auth-oauthlib<0.5,>=0.4.1->tensorboard<3,>=2.3.0->tensorflow) (1.3.0)\n",
            "Requirement already satisfied: idna<3,>=2.5 in /usr/local/lib/python3.6/dist-packages (from requests<3,>=2.21.0->tensorboard<3,>=2.3.0->tensorflow) (2.10)\n",
            "Requirement already satisfied: chardet<4,>=3.0.2 in /usr/local/lib/python3.6/dist-packages (from requests<3,>=2.21.0->tensorboard<3,>=2.3.0->tensorflow) (3.0.4)\n",
            "Requirement already satisfied: certifi>=2017.4.17 in /usr/local/lib/python3.6/dist-packages (from requests<3,>=2.21.0->tensorboard<3,>=2.3.0->tensorflow) (2020.6.20)\n",
            "Requirement already satisfied: urllib3!=1.25.0,!=1.25.1,<1.26,>=1.21.1 in /usr/local/lib/python3.6/dist-packages (from requests<3,>=2.21.0->tensorboard<3,>=2.3.0->tensorflow) (1.24.3)\n",
            "Requirement already satisfied: pyasn1<0.5.0,>=0.4.6 in /usr/local/lib/python3.6/dist-packages (from pyasn1-modules>=0.2.1->google-auth<2,>=1.6.3->tensorboard<3,>=2.3.0->tensorflow) (0.4.8)\n",
            "Requirement already satisfied: zipp>=0.5 in /usr/local/lib/python3.6/dist-packages (from importlib-metadata; python_version < \"3.8\"->markdown>=2.6.8->tensorboard<3,>=2.3.0->tensorflow) (3.3.1)\n",
            "Requirement already satisfied: oauthlib>=3.0.0 in /usr/local/lib/python3.6/dist-packages (from requests-oauthlib>=0.7.0->google-auth-oauthlib<0.5,>=0.4.1->tensorboard<3,>=2.3.0->tensorflow) (3.1.0)\n"
          ],
          "name": "stdout"
        }
      ]
    },
    {
      "cell_type": "code",
      "metadata": {
        "id": "V7k6ix71qxwg",
        "outputId": "d4c3e4e7-c17f-4df7-d7f7-d4661640dca4",
        "colab": {
          "base_uri": "https://localhost:8080/"
        }
      },
      "source": [
        "pip install --upgrade tensorflow"
      ],
      "execution_count": 11,
      "outputs": [
        {
          "output_type": "stream",
          "text": [
            "Requirement already up-to-date: tensorflow in /usr/local/lib/python3.6/dist-packages (2.3.1)\n",
            "Requirement already satisfied, skipping upgrade: numpy<1.19.0,>=1.16.0 in /usr/local/lib/python3.6/dist-packages (from tensorflow) (1.18.5)\n",
            "Requirement already satisfied, skipping upgrade: tensorboard<3,>=2.3.0 in /usr/local/lib/python3.6/dist-packages (from tensorflow) (2.3.0)\n",
            "Requirement already satisfied, skipping upgrade: six>=1.12.0 in /usr/local/lib/python3.6/dist-packages (from tensorflow) (1.15.0)\n",
            "Requirement already satisfied, skipping upgrade: gast==0.3.3 in /usr/local/lib/python3.6/dist-packages (from tensorflow) (0.3.3)\n",
            "Requirement already satisfied, skipping upgrade: keras-preprocessing<1.2,>=1.1.1 in /usr/local/lib/python3.6/dist-packages (from tensorflow) (1.1.2)\n",
            "Requirement already satisfied, skipping upgrade: google-pasta>=0.1.8 in /usr/local/lib/python3.6/dist-packages (from tensorflow) (0.2.0)\n",
            "Requirement already satisfied, skipping upgrade: h5py<2.11.0,>=2.10.0 in /usr/local/lib/python3.6/dist-packages (from tensorflow) (2.10.0)\n",
            "Requirement already satisfied, skipping upgrade: termcolor>=1.1.0 in /usr/local/lib/python3.6/dist-packages (from tensorflow) (1.1.0)\n",
            "Requirement already satisfied, skipping upgrade: opt-einsum>=2.3.2 in /usr/local/lib/python3.6/dist-packages (from tensorflow) (3.3.0)\n",
            "Requirement already satisfied, skipping upgrade: astunparse==1.6.3 in /usr/local/lib/python3.6/dist-packages (from tensorflow) (1.6.3)\n",
            "Requirement already satisfied, skipping upgrade: grpcio>=1.8.6 in /usr/local/lib/python3.6/dist-packages (from tensorflow) (1.33.1)\n",
            "Requirement already satisfied, skipping upgrade: tensorflow-estimator<2.4.0,>=2.3.0 in /usr/local/lib/python3.6/dist-packages (from tensorflow) (2.3.0)\n",
            "Requirement already satisfied, skipping upgrade: wheel>=0.26 in /usr/local/lib/python3.6/dist-packages (from tensorflow) (0.35.1)\n",
            "Requirement already satisfied, skipping upgrade: absl-py>=0.7.0 in /usr/local/lib/python3.6/dist-packages (from tensorflow) (0.10.0)\n",
            "Requirement already satisfied, skipping upgrade: protobuf>=3.9.2 in /usr/local/lib/python3.6/dist-packages (from tensorflow) (3.12.4)\n",
            "Requirement already satisfied, skipping upgrade: wrapt>=1.11.1 in /usr/local/lib/python3.6/dist-packages (from tensorflow) (1.12.1)\n",
            "Requirement already satisfied, skipping upgrade: requests<3,>=2.21.0 in /usr/local/lib/python3.6/dist-packages (from tensorboard<3,>=2.3.0->tensorflow) (2.23.0)\n",
            "Requirement already satisfied, skipping upgrade: google-auth-oauthlib<0.5,>=0.4.1 in /usr/local/lib/python3.6/dist-packages (from tensorboard<3,>=2.3.0->tensorflow) (0.4.1)\n",
            "Requirement already satisfied, skipping upgrade: setuptools>=41.0.0 in /usr/local/lib/python3.6/dist-packages (from tensorboard<3,>=2.3.0->tensorflow) (50.3.2)\n",
            "Requirement already satisfied, skipping upgrade: tensorboard-plugin-wit>=1.6.0 in /usr/local/lib/python3.6/dist-packages (from tensorboard<3,>=2.3.0->tensorflow) (1.7.0)\n",
            "Requirement already satisfied, skipping upgrade: google-auth<2,>=1.6.3 in /usr/local/lib/python3.6/dist-packages (from tensorboard<3,>=2.3.0->tensorflow) (1.17.2)\n",
            "Requirement already satisfied, skipping upgrade: werkzeug>=0.11.15 in /usr/local/lib/python3.6/dist-packages (from tensorboard<3,>=2.3.0->tensorflow) (1.0.1)\n",
            "Requirement already satisfied, skipping upgrade: markdown>=2.6.8 in /usr/local/lib/python3.6/dist-packages (from tensorboard<3,>=2.3.0->tensorflow) (3.3.3)\n",
            "Requirement already satisfied, skipping upgrade: urllib3!=1.25.0,!=1.25.1,<1.26,>=1.21.1 in /usr/local/lib/python3.6/dist-packages (from requests<3,>=2.21.0->tensorboard<3,>=2.3.0->tensorflow) (1.24.3)\n",
            "Requirement already satisfied, skipping upgrade: chardet<4,>=3.0.2 in /usr/local/lib/python3.6/dist-packages (from requests<3,>=2.21.0->tensorboard<3,>=2.3.0->tensorflow) (3.0.4)\n",
            "Requirement already satisfied, skipping upgrade: idna<3,>=2.5 in /usr/local/lib/python3.6/dist-packages (from requests<3,>=2.21.0->tensorboard<3,>=2.3.0->tensorflow) (2.10)\n",
            "Requirement already satisfied, skipping upgrade: certifi>=2017.4.17 in /usr/local/lib/python3.6/dist-packages (from requests<3,>=2.21.0->tensorboard<3,>=2.3.0->tensorflow) (2020.6.20)\n",
            "Requirement already satisfied, skipping upgrade: requests-oauthlib>=0.7.0 in /usr/local/lib/python3.6/dist-packages (from google-auth-oauthlib<0.5,>=0.4.1->tensorboard<3,>=2.3.0->tensorflow) (1.3.0)\n",
            "Requirement already satisfied, skipping upgrade: cachetools<5.0,>=2.0.0 in /usr/local/lib/python3.6/dist-packages (from google-auth<2,>=1.6.3->tensorboard<3,>=2.3.0->tensorflow) (4.1.1)\n",
            "Requirement already satisfied, skipping upgrade: pyasn1-modules>=0.2.1 in /usr/local/lib/python3.6/dist-packages (from google-auth<2,>=1.6.3->tensorboard<3,>=2.3.0->tensorflow) (0.2.8)\n",
            "Requirement already satisfied, skipping upgrade: rsa<5,>=3.1.4; python_version >= \"3\" in /usr/local/lib/python3.6/dist-packages (from google-auth<2,>=1.6.3->tensorboard<3,>=2.3.0->tensorflow) (4.6)\n",
            "Requirement already satisfied, skipping upgrade: importlib-metadata; python_version < \"3.8\" in /usr/local/lib/python3.6/dist-packages (from markdown>=2.6.8->tensorboard<3,>=2.3.0->tensorflow) (2.0.0)\n",
            "Requirement already satisfied, skipping upgrade: oauthlib>=3.0.0 in /usr/local/lib/python3.6/dist-packages (from requests-oauthlib>=0.7.0->google-auth-oauthlib<0.5,>=0.4.1->tensorboard<3,>=2.3.0->tensorflow) (3.1.0)\n",
            "Requirement already satisfied, skipping upgrade: pyasn1<0.5.0,>=0.4.6 in /usr/local/lib/python3.6/dist-packages (from pyasn1-modules>=0.2.1->google-auth<2,>=1.6.3->tensorboard<3,>=2.3.0->tensorflow) (0.4.8)\n",
            "Requirement already satisfied, skipping upgrade: zipp>=0.5 in /usr/local/lib/python3.6/dist-packages (from importlib-metadata; python_version < \"3.8\"->markdown>=2.6.8->tensorboard<3,>=2.3.0->tensorflow) (3.3.1)\n"
          ],
          "name": "stdout"
        }
      ]
    },
    {
      "cell_type": "code",
      "metadata": {
        "id": "oF4fVYMJvenY",
        "outputId": "4b6cf1aa-266c-41d1-8cf0-fc9b6a0d187a",
        "colab": {
          "base_uri": "https://localhost:8080/",
          "height": 35
        }
      },
      "source": [
        "%autosave 5\n",
        "\n",
        "from keras.models import Sequential\n",
        "from keras.layers.recurrent import LSTM\n",
        "from keras.layers.core import Dense, Activation"
      ],
      "execution_count": 1,
      "outputs": [
        {
          "output_type": "display_data",
          "data": {
            "application/javascript": [
              "IPython.notebook.set_autosave_interval(5000)"
            ]
          },
          "metadata": {
            "tags": []
          }
        },
        {
          "output_type": "stream",
          "text": [
            "Autosaving every 5 seconds\n"
          ],
          "name": "stdout"
        }
      ]
    },
    {
      "cell_type": "code",
      "metadata": {
        "id": "Br8FIp-5wl_6",
        "outputId": "775b6e31-0c31-4cdd-ad60-9c288486f1ee",
        "colab": {
          "base_uri": "https://localhost:8080/"
        }
      },
      "source": [
        "period_length = 7\n",
        "print(period_length)"
      ],
      "execution_count": 2,
      "outputs": [
        {
          "output_type": "stream",
          "text": [
            "7\n"
          ],
          "name": "stdout"
        }
      ]
    },
    {
      "cell_type": "code",
      "metadata": {
        "id": "fhjgbQqCxsEy",
        "outputId": "ccd084dd-0c33-4f23-af87-2b0c150e571e",
        "colab": {
          "base_uri": "https://localhost:8080/"
        }
      },
      "source": [
        "number_of_periods = 77\n",
        "print(number_of_periods)"
      ],
      "execution_count": 3,
      "outputs": [
        {
          "output_type": "stream",
          "text": [
            "77\n"
          ],
          "name": "stdout"
        }
      ]
    },
    {
      "cell_type": "code",
      "metadata": {
        "id": "B53AHoUJvmmy"
      },
      "source": [
        "def build_model(period_length, number_of_periods, batch_size=1):\n",
        "    \"\"\"Build an LSTM model using Keras.\n",
        "\n",
        "    Parameters\n",
        "    ----------\n",
        "    period_length: int\n",
        "        The size of each observation used as input.\n",
        "\n",
        "    number_of_periods: int\n",
        "        The number of periods available in the\n",
        "        dataset.\n",
        "\n",
        "    batch_size: int\n",
        "        The size of the batch used in each training\n",
        "        period.\n",
        "\n",
        "    Returns\n",
        "    -------\n",
        "    model: Keras model\n",
        "        Compiled Keras model that can be trained\n",
        "        and stored in disk.\n",
        "    \"\"\"\n",
        "    model = Sequential()\n",
        "    model.add(LSTM(\n",
        "        units=period_length,\n",
        "        batch_input_shape=(batch_size, number_of_periods, period_length),\n",
        "        input_shape=(number_of_periods, period_length),\n",
        "        return_sequences=False, stateful=False))\n",
        "\n",
        "    model.add(Dense(units=period_length))\n",
        "    model.add(Activation(\"linear\"))\n",
        "\n",
        "    model.compile(loss=\"mse\", optimizer=\"rmsprop\")\n",
        "\n",
        "    return model"
      ],
      "execution_count": 4,
      "outputs": []
    },
    {
      "cell_type": "code",
      "metadata": {
        "id": "XZ9eUSb_0II9"
      },
      "source": [
        "model = build_model(period_length=period_length, number_of_periods=number_of_periods)"
      ],
      "execution_count": 5,
      "outputs": []
    },
    {
      "cell_type": "code",
      "metadata": {
        "id": "CpCVgQ7d0PUW"
      },
      "source": [
        "model.save('bitcoin_lstm_v0.h5')"
      ],
      "execution_count": 6,
      "outputs": []
    },
    {
      "cell_type": "code",
      "metadata": {
        "id": "axx7KQn90WVC"
      },
      "source": [
        "### Activity 5; Assembling a Deep Learning System"
      ],
      "execution_count": 53,
      "outputs": []
    },
    {
      "cell_type": "code",
      "metadata": {
        "id": "UflyO1C50ZD4",
        "outputId": "9062d259-200a-4eaf-f6df-9b574b2a66c9",
        "colab": {
          "base_uri": "https://localhost:8080/",
          "height": 35
        }
      },
      "source": [
        "%autosave 5\n",
        "\n",
        "#  Import necessary libraries\n",
        "import numpy as np\n",
        "import pandas as pd\n",
        "import matplotlib.pyplot as plt\n",
        "%matplotlib inline\n",
        "plt.style.use('seaborn-white')\n",
        "\n",
        "from keras.models import load_model"
      ],
      "execution_count": 8,
      "outputs": [
        {
          "output_type": "display_data",
          "data": {
            "application/javascript": [
              "IPython.notebook.set_autosave_interval(5000)"
            ]
          },
          "metadata": {
            "tags": []
          }
        },
        {
          "output_type": "stream",
          "text": [
            "Autosaving every 5 seconds\n"
          ],
          "name": "stdout"
        }
      ]
    },
    {
      "cell_type": "code",
      "metadata": {
        "id": "jRLz4yfc0ih-",
        "outputId": "fb7ae5a3-ccd7-4912-97da-c72f141b5027",
        "colab": {
          "base_uri": "https://localhost:8080/",
          "height": 202
        }
      },
      "source": [
        "#  Import training dataset\n",
        "train = pd.read_csv('/content/drive/My Drive/train_dataset.csv')\n",
        "train.head()"
      ],
      "execution_count": 9,
      "outputs": [
        {
          "output_type": "execute_result",
          "data": {
            "text/html": [
              "<div>\n",
              "<style scoped>\n",
              "    .dataframe tbody tr th:only-of-type {\n",
              "        vertical-align: middle;\n",
              "    }\n",
              "\n",
              "    .dataframe tbody tr th {\n",
              "        vertical-align: top;\n",
              "    }\n",
              "\n",
              "    .dataframe thead th {\n",
              "        text-align: right;\n",
              "    }\n",
              "</style>\n",
              "<table border=\"1\" class=\"dataframe\">\n",
              "  <thead>\n",
              "    <tr style=\"text-align: right;\">\n",
              "      <th></th>\n",
              "      <th>date</th>\n",
              "      <th>iso_week</th>\n",
              "      <th>close</th>\n",
              "      <th>volume</th>\n",
              "      <th>close_point_relative_normalization</th>\n",
              "    </tr>\n",
              "  </thead>\n",
              "  <tbody>\n",
              "    <tr>\n",
              "      <th>0</th>\n",
              "      <td>2016-01-01</td>\n",
              "      <td>2016-00</td>\n",
              "      <td>434.33</td>\n",
              "      <td>36278900.0</td>\n",
              "      <td>1.000000</td>\n",
              "    </tr>\n",
              "    <tr>\n",
              "      <th>1</th>\n",
              "      <td>2016-01-02</td>\n",
              "      <td>2016-00</td>\n",
              "      <td>433.44</td>\n",
              "      <td>30096600.0</td>\n",
              "      <td>0.000000</td>\n",
              "    </tr>\n",
              "    <tr>\n",
              "      <th>2</th>\n",
              "      <td>2016-01-03</td>\n",
              "      <td>2016-01</td>\n",
              "      <td>430.01</td>\n",
              "      <td>39633800.0</td>\n",
              "      <td>0.031099</td>\n",
              "    </tr>\n",
              "    <tr>\n",
              "      <th>3</th>\n",
              "      <td>2016-01-04</td>\n",
              "      <td>2016-01</td>\n",
              "      <td>433.09</td>\n",
              "      <td>38477500.0</td>\n",
              "      <td>0.137526</td>\n",
              "    </tr>\n",
              "    <tr>\n",
              "      <th>4</th>\n",
              "      <td>2016-01-05</td>\n",
              "      <td>2016-01</td>\n",
              "      <td>431.96</td>\n",
              "      <td>34522600.0</td>\n",
              "      <td>0.098480</td>\n",
              "    </tr>\n",
              "  </tbody>\n",
              "</table>\n",
              "</div>"
            ],
            "text/plain": [
              "         date iso_week   close      volume  close_point_relative_normalization\n",
              "0  2016-01-01  2016-00  434.33  36278900.0                            1.000000\n",
              "1  2016-01-02  2016-00  433.44  30096600.0                            0.000000\n",
              "2  2016-01-03  2016-01  430.01  39633800.0                            0.031099\n",
              "3  2016-01-04  2016-01  433.09  38477500.0                            0.137526\n",
              "4  2016-01-05  2016-01  431.96  34522600.0                            0.098480"
            ]
          },
          "metadata": {
            "tags": []
          },
          "execution_count": 9
        }
      ]
    },
    {
      "cell_type": "code",
      "metadata": {
        "id": "rT13Pgcq0sZp"
      },
      "source": [
        "###Reshape Data"
      ],
      "execution_count": 10,
      "outputs": []
    },
    {
      "cell_type": "code",
      "metadata": {
        "id": "UlEpOl4e08uG",
        "outputId": "7c640c5c-ff00-4628-9541-61e0d58a1fc9",
        "colab": {
          "base_uri": "https://localhost:8080/"
        }
      },
      "source": [
        "number_of_features = 1\n",
        "print(number_of_features)"
      ],
      "execution_count": 11,
      "outputs": [
        {
          "output_type": "stream",
          "text": [
            "1\n"
          ],
          "name": "stdout"
        }
      ]
    },
    {
      "cell_type": "code",
      "metadata": {
        "id": "GWyAetWW1Kal"
      },
      "source": [
        "def create_groups(data, group_size=7):\n",
        "    \"\"\"Create distinct groups from a continuous series.\n",
        "    \n",
        "    Parameters\n",
        "    ----------\n",
        "    data: np.array\n",
        "        Series of continious observations.\n",
        "\n",
        "    group_size: int, default 7\n",
        "        Determines how large the groups are. That is,\n",
        "        how many observations each group contains.\n",
        "    \n",
        "    Returns\n",
        "    -------\n",
        "    A Numpy array object. \n",
        "    \"\"\"\n",
        "    samples = []\n",
        "    for i in range(0, len(data), group_size):\n",
        "        sample = list(data[i:i + group_size])\n",
        "        if len(sample) == group_size:\n",
        "            samples.append(np.array(sample).reshape(1, group_size))\n",
        "    \n",
        "    return np.array(samples)"
      ],
      "execution_count": 12,
      "outputs": []
    },
    {
      "cell_type": "code",
      "metadata": {
        "id": "uQJWqmUK1Pxl",
        "outputId": "8cb846c2-d759-4f7e-adcb-ad30942f534f",
        "colab": {
          "base_uri": "https://localhost:8080/"
        }
      },
      "source": [
        "#  Find the remainder when the number of observations is divided by group size\n",
        "len(train) % 7"
      ],
      "execution_count": 13,
      "outputs": [
        {
          "output_type": "execute_result",
          "data": {
            "text/plain": [
              "2"
            ]
          },
          "metadata": {
            "tags": []
          },
          "execution_count": 13
        }
      ]
    },
    {
      "cell_type": "code",
      "metadata": {
        "id": "rUCUS8-81Uae",
        "outputId": "21d2b3da-ed1b-4d4c-8463-e14c2db2b48e",
        "colab": {
          "base_uri": "https://localhost:8080/"
        }
      },
      "source": [
        "#  Create groups of 7 from our data.\n",
        "#  We drop the first two observations so that the\n",
        "#  number of total observations is divisible by the `group_size`.\n",
        "data = create_groups(train['close_point_relative_normalization'][2:].values)\n",
        "print(data.shape)"
      ],
      "execution_count": 14,
      "outputs": [
        {
          "output_type": "stream",
          "text": [
            "(77, 1, 7)\n"
          ],
          "name": "stdout"
        }
      ]
    },
    {
      "cell_type": "code",
      "metadata": {
        "id": "pRbOTS5b1Xgn",
        "outputId": "8552dadb-b67b-43ee-96f6-4c49f3e82642",
        "colab": {
          "base_uri": "https://localhost:8080/"
        }
      },
      "source": [
        "#  Reshape data into format expected by LSTM layer\n",
        "X_train = data[:-1, :].reshape(1, 76, 7)\n",
        "Y_validation = data[-1].reshape(1, 7)\n",
        "print(X_train.shape)\n",
        "print(Y_validation.shape)"
      ],
      "execution_count": 15,
      "outputs": [
        {
          "output_type": "stream",
          "text": [
            "(1, 76, 7)\n",
            "(1, 7)\n"
          ],
          "name": "stdout"
        }
      ]
    },
    {
      "cell_type": "code",
      "metadata": {
        "id": "pfvQ3nCj1aMm"
      },
      "source": [
        "###Load Our Model"
      ],
      "execution_count": 16,
      "outputs": []
    },
    {
      "cell_type": "code",
      "metadata": {
        "id": "_NcN1lRz1c4-"
      },
      "source": [
        "#  Load our previously trained model \n",
        "model = load_model('bitcoin_lstm_v0.h5')"
      ],
      "execution_count": 17,
      "outputs": []
    },
    {
      "cell_type": "code",
      "metadata": {
        "id": "lzp4b65L12ta"
      },
      "source": [
        "###Train model"
      ],
      "execution_count": null,
      "outputs": []
    },
    {
      "cell_type": "code",
      "metadata": {
        "id": "tKmXkhvz2Pf-",
        "outputId": "74f365b9-0124-45c7-c8c8-5b37aad5e5d6",
        "colab": {
          "base_uri": "https://localhost:8080/"
        }
      },
      "source": [
        "%%time\n",
        "#  Train the model\n",
        "history = model.fit(\n",
        "    x=X_train, y=Y_validation,\n",
        "    batch_size=32, epochs=100)"
      ],
      "execution_count": 18,
      "outputs": [
        {
          "output_type": "stream",
          "text": [
            "Epoch 1/100\n",
            "WARNING:tensorflow:Model was constructed with shape (1, 77, 7) for input Tensor(\"lstm_input_1:0\", shape=(1, 77, 7), dtype=float32), but it was called on an input with incompatible shape (None, 76, 7).\n",
            "WARNING:tensorflow:Model was constructed with shape (1, 77, 7) for input Tensor(\"lstm_input_1:0\", shape=(1, 77, 7), dtype=float32), but it was called on an input with incompatible shape (None, 76, 7).\n",
            "1/1 [==============================] - 0s 1ms/step - loss: 0.2918\n",
            "Epoch 2/100\n",
            "1/1 [==============================] - 0s 1ms/step - loss: 0.2698\n",
            "Epoch 3/100\n",
            "1/1 [==============================] - 0s 3ms/step - loss: 0.2565\n",
            "Epoch 4/100\n",
            "1/1 [==============================] - 0s 1ms/step - loss: 0.2463\n",
            "Epoch 5/100\n",
            "1/1 [==============================] - 0s 1ms/step - loss: 0.2378\n",
            "Epoch 6/100\n",
            "1/1 [==============================] - 0s 1ms/step - loss: 0.2304\n",
            "Epoch 7/100\n",
            "1/1 [==============================] - 0s 1ms/step - loss: 0.2239\n",
            "Epoch 8/100\n",
            "1/1 [==============================] - 0s 2ms/step - loss: 0.2179\n",
            "Epoch 9/100\n",
            "1/1 [==============================] - 0s 1ms/step - loss: 0.2124\n",
            "Epoch 10/100\n",
            "1/1 [==============================] - 0s 1ms/step - loss: 0.2073\n",
            "Epoch 11/100\n",
            "1/1 [==============================] - 0s 1ms/step - loss: 0.2025\n",
            "Epoch 12/100\n",
            "1/1 [==============================] - 0s 2ms/step - loss: 0.1980\n",
            "Epoch 13/100\n",
            "1/1 [==============================] - 0s 1ms/step - loss: 0.1937\n",
            "Epoch 14/100\n",
            "1/1 [==============================] - 0s 1ms/step - loss: 0.1897\n",
            "Epoch 15/100\n",
            "1/1 [==============================] - 0s 1ms/step - loss: 0.1857\n",
            "Epoch 16/100\n",
            "1/1 [==============================] - 0s 1ms/step - loss: 0.1820\n",
            "Epoch 17/100\n",
            "1/1 [==============================] - 0s 2ms/step - loss: 0.1784\n",
            "Epoch 18/100\n",
            "1/1 [==============================] - 0s 1ms/step - loss: 0.1750\n",
            "Epoch 19/100\n",
            "1/1 [==============================] - 0s 1ms/step - loss: 0.1716\n",
            "Epoch 20/100\n",
            "1/1 [==============================] - 0s 4ms/step - loss: 0.1684\n",
            "Epoch 21/100\n",
            "1/1 [==============================] - 0s 1ms/step - loss: 0.1652\n",
            "Epoch 22/100\n",
            "1/1 [==============================] - 0s 1ms/step - loss: 0.1622\n",
            "Epoch 23/100\n",
            "1/1 [==============================] - 0s 1ms/step - loss: 0.1592\n",
            "Epoch 24/100\n",
            "1/1 [==============================] - 0s 1ms/step - loss: 0.1563\n",
            "Epoch 25/100\n",
            "1/1 [==============================] - 0s 1ms/step - loss: 0.1534\n",
            "Epoch 26/100\n",
            "1/1 [==============================] - 0s 2ms/step - loss: 0.1506\n",
            "Epoch 27/100\n",
            "1/1 [==============================] - 0s 1ms/step - loss: 0.1479\n",
            "Epoch 28/100\n",
            "1/1 [==============================] - 0s 2ms/step - loss: 0.1452\n",
            "Epoch 29/100\n",
            "1/1 [==============================] - 0s 2ms/step - loss: 0.1425\n",
            "Epoch 30/100\n",
            "1/1 [==============================] - 0s 2ms/step - loss: 0.1399\n",
            "Epoch 31/100\n",
            "1/1 [==============================] - 0s 2ms/step - loss: 0.1373\n",
            "Epoch 32/100\n",
            "1/1 [==============================] - 0s 2ms/step - loss: 0.1347\n",
            "Epoch 33/100\n",
            "1/1 [==============================] - 0s 3ms/step - loss: 0.1321\n",
            "Epoch 34/100\n",
            "1/1 [==============================] - 0s 3ms/step - loss: 0.1296\n",
            "Epoch 35/100\n",
            "1/1 [==============================] - 0s 1ms/step - loss: 0.1271\n",
            "Epoch 36/100\n",
            "1/1 [==============================] - 0s 1ms/step - loss: 0.1246\n",
            "Epoch 37/100\n",
            "1/1 [==============================] - 0s 2ms/step - loss: 0.1221\n",
            "Epoch 38/100\n",
            "1/1 [==============================] - 0s 5ms/step - loss: 0.1197\n",
            "Epoch 39/100\n",
            "1/1 [==============================] - 0s 2ms/step - loss: 0.1172\n",
            "Epoch 40/100\n",
            "1/1 [==============================] - 0s 1ms/step - loss: 0.1147\n",
            "Epoch 41/100\n",
            "1/1 [==============================] - 0s 1ms/step - loss: 0.1123\n",
            "Epoch 42/100\n",
            "1/1 [==============================] - 0s 1ms/step - loss: 0.1099\n",
            "Epoch 43/100\n",
            "1/1 [==============================] - 0s 1ms/step - loss: 0.1074\n",
            "Epoch 44/100\n",
            "1/1 [==============================] - 0s 1ms/step - loss: 0.1050\n",
            "Epoch 45/100\n",
            "1/1 [==============================] - 0s 2ms/step - loss: 0.1026\n",
            "Epoch 46/100\n",
            "1/1 [==============================] - 0s 1ms/step - loss: 0.1002\n",
            "Epoch 47/100\n",
            "1/1 [==============================] - 0s 1ms/step - loss: 0.0977\n",
            "Epoch 48/100\n",
            "1/1 [==============================] - 0s 2ms/step - loss: 0.0953\n",
            "Epoch 49/100\n",
            "1/1 [==============================] - 0s 2ms/step - loss: 0.0930\n",
            "Epoch 50/100\n",
            "1/1 [==============================] - 0s 2ms/step - loss: 0.0906\n",
            "Epoch 51/100\n",
            "1/1 [==============================] - 0s 1ms/step - loss: 0.0882\n",
            "Epoch 52/100\n",
            "1/1 [==============================] - 0s 1ms/step - loss: 0.0859\n",
            "Epoch 53/100\n",
            "1/1 [==============================] - 0s 1ms/step - loss: 0.0836\n",
            "Epoch 54/100\n",
            "1/1 [==============================] - 0s 1ms/step - loss: 0.0813\n",
            "Epoch 55/100\n",
            "1/1 [==============================] - 0s 2ms/step - loss: 0.0790\n",
            "Epoch 56/100\n",
            "1/1 [==============================] - 0s 2ms/step - loss: 0.0767\n",
            "Epoch 57/100\n",
            "1/1 [==============================] - 0s 2ms/step - loss: 0.0745\n",
            "Epoch 58/100\n",
            "1/1 [==============================] - 0s 1ms/step - loss: 0.0722\n",
            "Epoch 59/100\n",
            "1/1 [==============================] - 0s 2ms/step - loss: 0.0701\n",
            "Epoch 60/100\n",
            "1/1 [==============================] - 0s 2ms/step - loss: 0.0679\n",
            "Epoch 61/100\n",
            "1/1 [==============================] - 0s 1ms/step - loss: 0.0657\n",
            "Epoch 62/100\n",
            "1/1 [==============================] - 0s 1ms/step - loss: 0.0636\n",
            "Epoch 63/100\n",
            "1/1 [==============================] - 0s 2ms/step - loss: 0.0615\n",
            "Epoch 64/100\n",
            "1/1 [==============================] - 0s 1ms/step - loss: 0.0594\n",
            "Epoch 65/100\n",
            "1/1 [==============================] - 0s 2ms/step - loss: 0.0574\n",
            "Epoch 66/100\n",
            "1/1 [==============================] - 0s 1ms/step - loss: 0.0554\n",
            "Epoch 67/100\n",
            "1/1 [==============================] - 0s 1ms/step - loss: 0.0535\n",
            "Epoch 68/100\n",
            "1/1 [==============================] - 0s 1ms/step - loss: 0.0516\n",
            "Epoch 69/100\n",
            "1/1 [==============================] - 0s 1ms/step - loss: 0.0496\n",
            "Epoch 70/100\n",
            "1/1 [==============================] - 0s 1ms/step - loss: 0.0478\n",
            "Epoch 71/100\n",
            "1/1 [==============================] - 0s 2ms/step - loss: 0.0459\n",
            "Epoch 72/100\n",
            "1/1 [==============================] - 0s 1ms/step - loss: 0.0441\n",
            "Epoch 73/100\n",
            "1/1 [==============================] - 0s 1ms/step - loss: 0.0424\n",
            "Epoch 74/100\n",
            "1/1 [==============================] - 0s 2ms/step - loss: 0.0406\n",
            "Epoch 75/100\n",
            "1/1 [==============================] - 0s 2ms/step - loss: 0.0389\n",
            "Epoch 76/100\n",
            "1/1 [==============================] - 0s 2ms/step - loss: 0.0373\n",
            "Epoch 77/100\n",
            "1/1 [==============================] - 0s 1ms/step - loss: 0.0356\n",
            "Epoch 78/100\n",
            "1/1 [==============================] - 0s 1ms/step - loss: 0.0340\n",
            "Epoch 79/100\n",
            "1/1 [==============================] - 0s 1ms/step - loss: 0.0325\n",
            "Epoch 80/100\n",
            "1/1 [==============================] - 0s 1ms/step - loss: 0.0310\n",
            "Epoch 81/100\n",
            "1/1 [==============================] - 0s 2ms/step - loss: 0.0295\n",
            "Epoch 82/100\n",
            "1/1 [==============================] - 0s 1ms/step - loss: 0.0281\n",
            "Epoch 83/100\n",
            "1/1 [==============================] - 0s 1ms/step - loss: 0.0267\n",
            "Epoch 84/100\n",
            "1/1 [==============================] - 0s 1ms/step - loss: 0.0253\n",
            "Epoch 85/100\n",
            "1/1 [==============================] - 0s 1ms/step - loss: 0.0240\n",
            "Epoch 86/100\n",
            "1/1 [==============================] - 0s 1ms/step - loss: 0.0227\n",
            "Epoch 87/100\n",
            "1/1 [==============================] - 0s 3ms/step - loss: 0.0214\n",
            "Epoch 88/100\n",
            "1/1 [==============================] - 0s 1ms/step - loss: 0.0202\n",
            "Epoch 89/100\n",
            "1/1 [==============================] - 0s 2ms/step - loss: 0.0191\n",
            "Epoch 90/100\n",
            "1/1 [==============================] - 0s 2ms/step - loss: 0.0179\n",
            "Epoch 91/100\n",
            "1/1 [==============================] - 0s 1ms/step - loss: 0.0169\n",
            "Epoch 92/100\n",
            "1/1 [==============================] - 0s 2ms/step - loss: 0.0158\n",
            "Epoch 93/100\n",
            "1/1 [==============================] - 0s 2ms/step - loss: 0.0148\n",
            "Epoch 94/100\n",
            "1/1 [==============================] - 0s 2ms/step - loss: 0.0138\n",
            "Epoch 95/100\n",
            "1/1 [==============================] - 0s 2ms/step - loss: 0.0129\n",
            "Epoch 96/100\n",
            "1/1 [==============================] - 0s 1ms/step - loss: 0.0120\n",
            "Epoch 97/100\n",
            "1/1 [==============================] - 0s 1ms/step - loss: 0.0112\n",
            "Epoch 98/100\n",
            "1/1 [==============================] - 0s 2ms/step - loss: 0.0103\n",
            "Epoch 99/100\n",
            "1/1 [==============================] - 0s 3ms/step - loss: 0.0096\n",
            "Epoch 100/100\n",
            "1/1 [==============================] - 0s 2ms/step - loss: 0.0088\n",
            "CPU times: user 4.72 s, sys: 306 ms, total: 5.03 s\n",
            "Wall time: 4.74 s\n"
          ],
          "name": "stdout"
        }
      ]
    },
    {
      "cell_type": "code",
      "metadata": {
        "id": "ig2Xt3sp2UJH",
        "outputId": "06aadb83-ae3b-4e36-f652-2d189b37dd7d",
        "colab": {
          "base_uri": "https://localhost:8080/",
          "height": 262
        }
      },
      "source": [
        "#  Plot loss function\n",
        "pd.Series(history.history['loss']).plot(figsize=(14, 4));"
      ],
      "execution_count": 19,
      "outputs": [
        {
          "output_type": "display_data",
          "data": {
            "image/png": "[encoded data removed]",
            "text/plain": [
              "<Figure size 1008x288 with 1 Axes>"
            ]
          },
          "metadata": {
            "tags": []
          }
        }
      ]
    },
    {
      "cell_type": "code",
      "metadata": {
        "id": "IJ9yfKta2Wl3"
      },
      "source": [
        "###Make Predictions"
      ],
      "execution_count": 20,
      "outputs": []
    },
    {
      "cell_type": "code",
      "metadata": {
        "id": "4npQ9tz02ZRI",
        "outputId": "398bfc66-8f02-40c3-ecc6-8094710a05df",
        "colab": {
          "base_uri": "https://localhost:8080/"
        }
      },
      "source": [
        "#  Make predictions using X_train data\n",
        "predictions = model.predict(x=X_train)[0]\n",
        "predictions"
      ],
      "execution_count": 21,
      "outputs": [
        {
          "output_type": "stream",
          "text": [
            "WARNING:tensorflow:Model was constructed with shape (1, 77, 7) for input Tensor(\"lstm_input_1:0\", shape=(1, 77, 7), dtype=float32), but it was called on an input with incompatible shape (None, 76, 7).\n"
          ],
          "name": "stdout"
        },
        {
          "output_type": "execute_result",
          "data": {
            "text/plain": [
              "array([-0.00096938,  0.18795314,  0.8855462 ,  0.5437378 ,  0.7981218 ,\n",
              "        0.83676094,  0.30634403], dtype=float32)"
            ]
          },
          "metadata": {
            "tags": []
          },
          "execution_count": 21
        }
      ]
    },
    {
      "cell_type": "code",
      "metadata": {
        "id": "K_J2G8jw2bUx"
      },
      "source": [
        "def denormalize(series, last_value):\n",
        "    \"\"\"Denormalize the values for a given series.\n",
        "    \n",
        "    This uses the last value available (i.e. the last\n",
        "    closing price of the week before our prediction)\n",
        "    as a reference for scaling the predicted results.\n",
        "    \"\"\"\n",
        "    result = last_value * (series + 1)\n",
        "    return result"
      ],
      "execution_count": 22,
      "outputs": []
    },
    {
      "cell_type": "code",
      "metadata": {
        "id": "Idg8A6oT2dwR",
        "outputId": "79b439b0-2103-4449-831a-5065018e5506",
        "colab": {
          "base_uri": "https://localhost:8080/"
        }
      },
      "source": [
        "#  Denormalize predictions\n",
        "last_weeks_value = train[train['date'] == train['date'][:-7].max()]['close'].values[0]\n",
        "\n",
        "denormalized_prediction = denormalize(predictions, last_weeks_value)\n",
        "denormalized_prediction"
      ],
      "execution_count": 23,
      "outputs": [
        {
          "output_type": "execute_result",
          "data": {
            "text/plain": [
              "array([2653.3052, 3155.0608, 5007.784 , 4099.9824, 4775.5957, 4878.217 ,\n",
              "       3469.493 ], dtype=float32)"
            ]
          },
          "metadata": {
            "tags": []
          },
          "execution_count": 23
        }
      ]
    },
    {
      "cell_type": "code",
      "metadata": {
        "id": "bgLB8oPL2gXS",
        "outputId": "df7ad5fa-f5d6-4f96-d3cb-f29c4413828f",
        "colab": {
          "base_uri": "https://localhost:8080/",
          "height": 262
        }
      },
      "source": [
        "#  Plot denormalized predictions against actual predictions\n",
        "plt.figure(figsize=(14, 4))\n",
        "\n",
        "plt.plot(train['close'][-7:].values, label='Actual')\n",
        "plt.plot(denormalized_prediction, color='#d35400', label='Predicted')\n",
        "\n",
        "plt.grid()\n",
        "plt.legend();"
      ],
      "execution_count": 24,
      "outputs": [
        {
          "output_type": "display_data",
          "data": {
            "image/png": "[encoded data removed]",
            "text/plain": [
              "<Figure size 1008x288 with 1 Axes>"
            ]
          },
          "metadata": {
            "tags": []
          }
        }
      ]
    },
    {
      "cell_type": "code",
      "metadata": {
        "id": "_gxFAcXT2iU6",
        "outputId": "524d32bd-158b-4a53-f5f8-f7a041255519",
        "colab": {
          "base_uri": "https://localhost:8080/",
          "height": 262
        }
      },
      "source": [
        "prediction_plot = np.zeros(len(train)-2)\n",
        "prediction_plot[:] = np.nan\n",
        "prediction_plot[-7:] = denormalized_prediction\n",
        "\n",
        "plt.figure(figsize=(14, 4))\n",
        "plt.plot(train['close'][-30:].values, label='Actual')\n",
        "plt.plot(prediction_plot[-30:], color='#d35400', linestyle='--', label='Predicted')\n",
        "plt.axvline(30 - 7, color='r', linestyle='--', linewidth=1)\n",
        "\n",
        "plt.grid()\n",
        "plt.legend(loc='lower right');"
      ],
      "execution_count": 25,
      "outputs": [
        {
          "output_type": "display_data",
          "data": {
            "image/png": "[encoded data removed]",
            "text/plain": [
              "<Figure size 1008x288 with 1 Axes>"
            ]
          },
          "metadata": {
            "tags": []
          }
        }
      ]
    },
    {
      "cell_type": "code",
      "metadata": {
        "id": "gido7jI22njI",
        "outputId": "3d1e709b-3c4c-4d50-ae52-7a4e84ce045d",
        "colab": {
          "base_uri": "https://localhost:8080/",
          "height": 35
        }
      },
      "source": [
        "'bitcoin_lstm_v0_trained.h5'"
      ],
      "execution_count": 26,
      "outputs": [
        {
          "output_type": "execute_result",
          "data": {
            "application/vnd.google.colaboratory.intrinsic+json": {
              "type": "string"
            },
            "text/plain": [
              "'bitcoin_lstm_v0_trained.h5'"
            ]
          },
          "metadata": {
            "tags": []
          },
          "execution_count": 26
        }
      ]
    },
    {
      "cell_type": "code",
      "metadata": {
        "id": "AsEhyWRd4m7j"
      },
      "source": [
        "###Activity 6: Creating an active training environment"
      ],
      "execution_count": 27,
      "outputs": []
    },
    {
      "cell_type": "code",
      "metadata": {
        "id": "EbeWpts4579H",
        "outputId": "212faceb-b3ca-4954-e5c9-0f0c9ba3ca0b",
        "colab": {
          "base_uri": "https://localhost:8080/",
          "height": 35
        }
      },
      "source": [
        "%autosave 5\n",
        "\n",
        "#  Import necessary libraries\n",
        "import numpy as np\n",
        "import pandas as pd\n",
        "import seaborn as sb\n",
        "import matplotlib.pyplot as plt\n",
        "%matplotlib inline\n",
        "plt.style.use('seaborn-white')\n",
        "\n",
        "from keras.models import load_model\n",
        "from keras.callbacks import TensorBoard\n",
        "from datetime import datetime, timedelta\n",
        "\n",
        "\n",
        "from utilities_activity6 import *                                       \n",
        "\n",
        "np.random.seed(0)"
      ],
      "execution_count": 28,
      "outputs": [
        {
          "output_type": "display_data",
          "data": {
            "application/javascript": [
              "IPython.notebook.set_autosave_interval(5000)"
            ]
          },
          "metadata": {
            "tags": []
          }
        },
        {
          "output_type": "stream",
          "text": [
            "Autosaving every 5 seconds\n"
          ],
          "name": "stdout"
        }
      ]
    },
    {
      "cell_type": "code",
      "metadata": {
        "id": "RfdWfdAUVumb"
      },
      "source": [
        "#  Load datasets\n",
        "train = pd.read_csv('/content/drive/My Drive/train_dataset.csv')\n",
        "test = pd.read_csv('/content/drive/My Drive/test_dataset.csv')"
      ],
      "execution_count": 29,
      "outputs": []
    },
    {
      "cell_type": "code",
      "metadata": {
        "id": "sulwS17kaH1T"
      },
      "source": [
        "#  Group data into groups containing seven observations\n",
        "train_data = create_groups(\n",
        "    train['close_point_relative_normalization'][2:].values)\n",
        "\n",
        "test_data = create_groups(\n",
        "    test['close_point_relative_normalization'][:-3].values)"
      ],
      "execution_count": 30,
      "outputs": []
    },
    {
      "cell_type": "code",
      "metadata": {
        "id": "giSpoj8xjonc"
      },
      "source": [
        "#  Reshape the data in the format expected by the LSTM layer\n",
        "X_train, Y_train = split_lstm_input(train_data)"
      ],
      "execution_count": 31,
      "outputs": []
    },
    {
      "cell_type": "code",
      "metadata": {
        "id": "6LlkJiF-ju4M"
      },
      "source": [
        "def train_model(model, X, Y, epochs, version, run_number):\n",
        "    \"\"\"Training a model with TensorBoard callback.\n",
        "\n",
        "    This function names each run of the model\n",
        "    using the TensorBoard naming conventions.\n",
        "\n",
        "    Parameters\n",
        "    ----------\n",
        "    model: Keras model instance\n",
        "        Compiled Keras model.\n",
        "\n",
        "    X, Y: np.array\n",
        "        Series of observations to be used in\n",
        "        the training process.\n",
        "\n",
        "    epochs: int\n",
        "        The number of epochs to train the\n",
        "        model for.\n",
        "\n",
        "    version: int\n",
        "        Version of the model to run.\n",
        "\n",
        "    run_number: int\n",
        "        The number of the run. Used in case\n",
        "        the same model version is run again.\n",
        "    \"\"\"\n",
        "    model_name = f'bitcoin_lstm_v{version}_run_{run_number}'\n",
        "    tensorboard = TensorBoard(log_dir=f'./logs/{model_name}')\n",
        "\n",
        "    #  TASK:\n",
        "    #  Modify the `fit` method to include a TensorBoard callback.\n",
        "    #\n",
        "    model_history = model.fit(\n",
        "        x=X, y=Y,\n",
        "        batch_size=1, epochs=epochs,\n",
        "        shuffle=False)\n",
        "\n",
        "    return model_history"
      ],
      "execution_count": 32,
      "outputs": []
    },
    {
      "cell_type": "code",
      "metadata": {
        "id": "Jvi3grqyjzoT"
      },
      "source": [
        "#  Load previously trained network\n",
        "model = load_model('bitcoin_lstm_v0.h5')"
      ],
      "execution_count": 33,
      "outputs": []
    },
    {
      "cell_type": "code",
      "metadata": {
        "id": "hfe1Dd93rs8B",
        "outputId": "223ff8a6-ff45-4e7d-c740-d4a20fb0f5b1",
        "colab": {
          "base_uri": "https://localhost:8080/"
        }
      },
      "source": [
        "#  Retrain network\n",
        "model_history = train_model(model=model,\n",
        "                            X=X_train, Y=Y_train,\n",
        "                            epochs=100,\n",
        "                            version=0, run_number=1)"
      ],
      "execution_count": 34,
      "outputs": [
        {
          "output_type": "stream",
          "text": [
            "Epoch 1/100\n",
            "WARNING:tensorflow:Model was constructed with shape (1, 77, 7) for input Tensor(\"lstm_input_2:0\", shape=(1, 77, 7), dtype=float32), but it was called on an input with incompatible shape (1, 76, 7).\n",
            "WARNING:tensorflow:Model was constructed with shape (1, 77, 7) for input Tensor(\"lstm_input_2:0\", shape=(1, 77, 7), dtype=float32), but it was called on an input with incompatible shape (1, 76, 7).\n",
            "1/1 [==============================] - 0s 2ms/step - loss: 0.2918\n",
            "Epoch 2/100\n",
            "1/1 [==============================] - 0s 1ms/step - loss: 0.2698\n",
            "Epoch 3/100\n",
            "1/1 [==============================] - 0s 1ms/step - loss: 0.2565\n",
            "Epoch 4/100\n",
            "1/1 [==============================] - 0s 1ms/step - loss: 0.2463\n",
            "Epoch 5/100\n",
            "1/1 [==============================] - 0s 1ms/step - loss: 0.2378\n",
            "Epoch 6/100\n",
            "1/1 [==============================] - 0s 1ms/step - loss: 0.2304\n",
            "Epoch 7/100\n",
            "1/1 [==============================] - 0s 1ms/step - loss: 0.2239\n",
            "Epoch 8/100\n",
            "1/1 [==============================] - 0s 2ms/step - loss: 0.2179\n",
            "Epoch 9/100\n",
            "1/1 [==============================] - 0s 1ms/step - loss: 0.2124\n",
            "Epoch 10/100\n",
            "1/1 [==============================] - 0s 1ms/step - loss: 0.2073\n",
            "Epoch 11/100\n",
            "1/1 [==============================] - 0s 1ms/step - loss: 0.2025\n",
            "Epoch 12/100\n",
            "1/1 [==============================] - 0s 1ms/step - loss: 0.1980\n",
            "Epoch 13/100\n",
            "1/1 [==============================] - 0s 1ms/step - loss: 0.1937\n",
            "Epoch 14/100\n",
            "1/1 [==============================] - 0s 1ms/step - loss: 0.1897\n",
            "Epoch 15/100\n",
            "1/1 [==============================] - 0s 2ms/step - loss: 0.1857\n",
            "Epoch 16/100\n",
            "1/1 [==============================] - 0s 1ms/step - loss: 0.1820\n",
            "Epoch 17/100\n",
            "1/1 [==============================] - 0s 1ms/step - loss: 0.1784\n",
            "Epoch 18/100\n",
            "1/1 [==============================] - 0s 2ms/step - loss: 0.1750\n",
            "Epoch 19/100\n",
            "1/1 [==============================] - 0s 2ms/step - loss: 0.1716\n",
            "Epoch 20/100\n",
            "1/1 [==============================] - 0s 1ms/step - loss: 0.1684\n",
            "Epoch 21/100\n",
            "1/1 [==============================] - 0s 2ms/step - loss: 0.1652\n",
            "Epoch 22/100\n",
            "1/1 [==============================] - 0s 1ms/step - loss: 0.1622\n",
            "Epoch 23/100\n",
            "1/1 [==============================] - 0s 1ms/step - loss: 0.1592\n",
            "Epoch 24/100\n",
            "1/1 [==============================] - 0s 2ms/step - loss: 0.1563\n",
            "Epoch 25/100\n",
            "1/1 [==============================] - 0s 1ms/step - loss: 0.1534\n",
            "Epoch 26/100\n",
            "1/1 [==============================] - 0s 2ms/step - loss: 0.1506\n",
            "Epoch 27/100\n",
            "1/1 [==============================] - 0s 1ms/step - loss: 0.1479\n",
            "Epoch 28/100\n",
            "1/1 [==============================] - 0s 1ms/step - loss: 0.1452\n",
            "Epoch 29/100\n",
            "1/1 [==============================] - 0s 1ms/step - loss: 0.1425\n",
            "Epoch 30/100\n",
            "1/1 [==============================] - 0s 1ms/step - loss: 0.1399\n",
            "Epoch 31/100\n",
            "1/1 [==============================] - 0s 1ms/step - loss: 0.1373\n",
            "Epoch 32/100\n",
            "1/1 [==============================] - 0s 3ms/step - loss: 0.1347\n",
            "Epoch 33/100\n",
            "1/1 [==============================] - 0s 1ms/step - loss: 0.1321\n",
            "Epoch 34/100\n",
            "1/1 [==============================] - 0s 2ms/step - loss: 0.1296\n",
            "Epoch 35/100\n",
            "1/1 [==============================] - 0s 1ms/step - loss: 0.1271\n",
            "Epoch 36/100\n",
            "1/1 [==============================] - 0s 2ms/step - loss: 0.1246\n",
            "Epoch 37/100\n",
            "1/1 [==============================] - 0s 2ms/step - loss: 0.1221\n",
            "Epoch 38/100\n",
            "1/1 [==============================] - 0s 1ms/step - loss: 0.1197\n",
            "Epoch 39/100\n",
            "1/1 [==============================] - 0s 1ms/step - loss: 0.1172\n",
            "Epoch 40/100\n",
            "1/1 [==============================] - 0s 2ms/step - loss: 0.1147\n",
            "Epoch 41/100\n",
            "1/1 [==============================] - 0s 1ms/step - loss: 0.1123\n",
            "Epoch 42/100\n",
            "1/1 [==============================] - 0s 1ms/step - loss: 0.1099\n",
            "Epoch 43/100\n",
            "1/1 [==============================] - 0s 1ms/step - loss: 0.1074\n",
            "Epoch 44/100\n",
            "1/1 [==============================] - 0s 1ms/step - loss: 0.1050\n",
            "Epoch 45/100\n",
            "1/1 [==============================] - 0s 1ms/step - loss: 0.1026\n",
            "Epoch 46/100\n",
            "1/1 [==============================] - 0s 1ms/step - loss: 0.1002\n",
            "Epoch 47/100\n",
            "1/1 [==============================] - 0s 2ms/step - loss: 0.0977\n",
            "Epoch 48/100\n",
            "1/1 [==============================] - 0s 1ms/step - loss: 0.0953\n",
            "Epoch 49/100\n",
            "1/1 [==============================] - 0s 2ms/step - loss: 0.0930\n",
            "Epoch 50/100\n",
            "1/1 [==============================] - 0s 2ms/step - loss: 0.0906\n",
            "Epoch 51/100\n",
            "1/1 [==============================] - 0s 2ms/step - loss: 0.0882\n",
            "Epoch 52/100\n",
            "1/1 [==============================] - 0s 2ms/step - loss: 0.0859\n",
            "Epoch 53/100\n",
            "1/1 [==============================] - 0s 2ms/step - loss: 0.0836\n",
            "Epoch 54/100\n",
            "1/1 [==============================] - 0s 1ms/step - loss: 0.0813\n",
            "Epoch 55/100\n",
            "1/1 [==============================] - 0s 2ms/step - loss: 0.0790\n",
            "Epoch 56/100\n",
            "1/1 [==============================] - 0s 1ms/step - loss: 0.0767\n",
            "Epoch 57/100\n",
            "1/1 [==============================] - 0s 1ms/step - loss: 0.0745\n",
            "Epoch 58/100\n",
            "1/1 [==============================] - 0s 1ms/step - loss: 0.0722\n",
            "Epoch 59/100\n",
            "1/1 [==============================] - 0s 2ms/step - loss: 0.0701\n",
            "Epoch 60/100\n",
            "1/1 [==============================] - 0s 1ms/step - loss: 0.0679\n",
            "Epoch 61/100\n",
            "1/1 [==============================] - 0s 1ms/step - loss: 0.0657\n",
            "Epoch 62/100\n",
            "1/1 [==============================] - 0s 2ms/step - loss: 0.0636\n",
            "Epoch 63/100\n",
            "1/1 [==============================] - 0s 1ms/step - loss: 0.0615\n",
            "Epoch 64/100\n",
            "1/1 [==============================] - 0s 2ms/step - loss: 0.0594\n",
            "Epoch 65/100\n",
            "1/1 [==============================] - 0s 1ms/step - loss: 0.0574\n",
            "Epoch 66/100\n",
            "1/1 [==============================] - 0s 1ms/step - loss: 0.0554\n",
            "Epoch 67/100\n",
            "1/1 [==============================] - 0s 1ms/step - loss: 0.0535\n",
            "Epoch 68/100\n",
            "1/1 [==============================] - 0s 3ms/step - loss: 0.0516\n",
            "Epoch 69/100\n",
            "1/1 [==============================] - 0s 1ms/step - loss: 0.0496\n",
            "Epoch 70/100\n",
            "1/1 [==============================] - 0s 1ms/step - loss: 0.0478\n",
            "Epoch 71/100\n",
            "1/1 [==============================] - 0s 2ms/step - loss: 0.0459\n",
            "Epoch 72/100\n",
            "1/1 [==============================] - 0s 2ms/step - loss: 0.0441\n",
            "Epoch 73/100\n",
            "1/1 [==============================] - 0s 1ms/step - loss: 0.0424\n",
            "Epoch 74/100\n",
            "1/1 [==============================] - 0s 2ms/step - loss: 0.0406\n",
            "Epoch 75/100\n",
            "1/1 [==============================] - 0s 1ms/step - loss: 0.0389\n",
            "Epoch 76/100\n",
            "1/1 [==============================] - 0s 2ms/step - loss: 0.0373\n",
            "Epoch 77/100\n",
            "1/1 [==============================] - 0s 1ms/step - loss: 0.0356\n",
            "Epoch 78/100\n",
            "1/1 [==============================] - 0s 6ms/step - loss: 0.0340\n",
            "Epoch 79/100\n",
            "1/1 [==============================] - 0s 1ms/step - loss: 0.0325\n",
            "Epoch 80/100\n",
            "1/1 [==============================] - 0s 1ms/step - loss: 0.0310\n",
            "Epoch 81/100\n",
            "1/1 [==============================] - 0s 2ms/step - loss: 0.0295\n",
            "Epoch 82/100\n",
            "1/1 [==============================] - 0s 1ms/step - loss: 0.0281\n",
            "Epoch 83/100\n",
            "1/1 [==============================] - 0s 2ms/step - loss: 0.0267\n",
            "Epoch 84/100\n",
            "1/1 [==============================] - 0s 2ms/step - loss: 0.0253\n",
            "Epoch 85/100\n",
            "1/1 [==============================] - 0s 1ms/step - loss: 0.0240\n",
            "Epoch 86/100\n",
            "1/1 [==============================] - 0s 2ms/step - loss: 0.0227\n",
            "Epoch 87/100\n",
            "1/1 [==============================] - 0s 2ms/step - loss: 0.0214\n",
            "Epoch 88/100\n",
            "1/1 [==============================] - 0s 2ms/step - loss: 0.0202\n",
            "Epoch 89/100\n",
            "1/1 [==============================] - 0s 2ms/step - loss: 0.0191\n",
            "Epoch 90/100\n",
            "1/1 [==============================] - 0s 1ms/step - loss: 0.0179\n",
            "Epoch 91/100\n",
            "1/1 [==============================] - 0s 1ms/step - loss: 0.0169\n",
            "Epoch 92/100\n",
            "1/1 [==============================] - 0s 2ms/step - loss: 0.0158\n",
            "Epoch 93/100\n",
            "1/1 [==============================] - 0s 2ms/step - loss: 0.0148\n",
            "Epoch 94/100\n",
            "1/1 [==============================] - 0s 2ms/step - loss: 0.0138\n",
            "Epoch 95/100\n",
            "1/1 [==============================] - 0s 2ms/step - loss: 0.0129\n",
            "Epoch 96/100\n",
            "1/1 [==============================] - 0s 1ms/step - loss: 0.0120\n",
            "Epoch 97/100\n",
            "1/1 [==============================] - 0s 2ms/step - loss: 0.0112\n",
            "Epoch 98/100\n",
            "1/1 [==============================] - 0s 2ms/step - loss: 0.0103\n",
            "Epoch 99/100\n",
            "1/1 [==============================] - 0s 2ms/step - loss: 0.0096\n",
            "Epoch 100/100\n",
            "1/1 [==============================] - 0s 2ms/step - loss: 0.0088\n"
          ],
          "name": "stdout"
        }
      ]
    },
    {
      "cell_type": "code",
      "metadata": {
        "id": "UpiJSz9yr0FH"
      },
      "source": [
        "###Evaluate LSTM Model"
      ],
      "execution_count": 35,
      "outputs": []
    },
    {
      "cell_type": "code",
      "metadata": {
        "id": "5RLdk3YHr3af"
      },
      "source": [
        "#  Combine training and testing datasets\n",
        "combined_set = np.concatenate((train_data, test_data), axis=1)"
      ],
      "execution_count": 37,
      "outputs": []
    },
    {
      "cell_type": "code",
      "metadata": {
        "id": "n-K81as8sKTs",
        "outputId": "62f045a7-61b8-438d-8f53-a8e01d8a96db",
        "colab": {
          "base_uri": "https://localhost:8080/"
        }
      },
      "source": [
        "#  Evaluate model at each week for the test set\n",
        "evaluated_weeks = []\n",
        "for i in range(0, test_data.shape[1]):\n",
        "    input_series = combined_set[0:, i:i + 77]\n",
        "\n",
        "    X_test = input_series[0:, :-1].reshape(1, input_series.shape[1] - 1, 7)\n",
        "    Y_test = input_series[0:, -1:][0]\n",
        "\n",
        "    result = model.evaluate(x=X_test, y=Y_test, verbose=0)\n",
        "    evaluated_weeks.append(result)"
      ],
      "execution_count": 38,
      "outputs": [
        {
          "output_type": "stream",
          "text": [
            "WARNING:tensorflow:Model was constructed with shape (1, 77, 7) for input Tensor(\"lstm_input_2:0\", shape=(1, 77, 7), dtype=float32), but it was called on an input with incompatible shape (None, 76, 7).\n"
          ],
          "name": "stdout"
        }
      ]
    },
    {
      "cell_type": "code",
      "metadata": {
        "id": "SI3cIG6OsM51",
        "outputId": "fa701534-3c0a-4723-a8d5-7a09bf3a2b08",
        "colab": {
          "base_uri": "https://localhost:8080/",
          "height": 291
        }
      },
      "source": [
        "#  Plot MSE for all evaluated weeks\n",
        "ax = pd.Series(evaluated_weeks).plot(drawstyle=\"steps-post\",\n",
        "                                     figsize=(14, 4),\n",
        "                                     color='#2c3e50',\n",
        "                                     grid=True,\n",
        "                                     title='Mean Squared Error (MSE) for Test Data')\n",
        "\n",
        "ax.set_xticks(range(0, len(evaluated_weeks)))\n",
        "ax.set_xlabel(\"Predicted Week\")\n",
        "ax.set_ylabel(\"MSE\")\n",
        "plt.show()"
      ],
      "execution_count": 39,
      "outputs": [
        {
          "output_type": "display_data",
          "data": {
            "image/png": "[encoded data removed]",
            "text/plain": [
              "<Figure size 1008x288 with 1 Axes>"
            ]
          },
          "metadata": {
            "tags": []
          }
        }
      ]
    },
    {
      "cell_type": "code",
      "metadata": {
        "id": "qFXAp_j8sRtH"
      },
      "source": [
        "###Interpreting Model Results"
      ],
      "execution_count": 40,
      "outputs": []
    },
    {
      "cell_type": "code",
      "metadata": {
        "id": "V2UDBHfYsUlL"
      },
      "source": [
        "###Make Predictions"
      ],
      "execution_count": 41,
      "outputs": []
    },
    {
      "cell_type": "code",
      "metadata": {
        "id": "vs-tmvqJsXrH",
        "outputId": "8a0a9551-d93b-4768-ee1c-1a104883f498",
        "colab": {
          "base_uri": "https://localhost:8080/"
        }
      },
      "source": [
        "#  Make predictions for each of the 19 weeks\n",
        "#  in the test set\n",
        "predicted_weeks = []\n",
        "for i in range(0, test_data.shape[1]):\n",
        "    input_series = combined_set[0:, i:i + 76]\n",
        "    predicted_weeks.append(model.predict(input_series))"
      ],
      "execution_count": 42,
      "outputs": [
        {
          "output_type": "stream",
          "text": [
            "WARNING:tensorflow:Model was constructed with shape (1, 77, 7) for input Tensor(\"lstm_input_2:0\", shape=(1, 77, 7), dtype=float32), but it was called on an input with incompatible shape (None, 76, 7).\n"
          ],
          "name": "stdout"
        }
      ]
    },
    {
      "cell_type": "code",
      "metadata": {
        "id": "obHKNu_2sal3"
      },
      "source": [
        "#  Flatten `predicted_weeks` to get a list\n",
        "#  of predictions for each day in the 19 weeks\n",
        "predicted_days = []\n",
        "for week in predicted_weeks:\n",
        "    predicted_days += list(week[0])"
      ],
      "execution_count": 43,
      "outputs": []
    },
    {
      "cell_type": "code",
      "metadata": {
        "id": "b24S74SFsdd5"
      },
      "source": [
        "#  Create list of dates associated with predictions\n",
        "last_day = datetime.strptime(train['date'].max(), '%Y-%m-%d')\n",
        "list_of_days = []\n",
        "for days in range(1, len(predicted_days) + 1):\n",
        "    D = (last_day + timedelta(days=days)).strftime('%Y-%m-%d')\n",
        "    list_of_days.append(D)"
      ],
      "execution_count": 44,
      "outputs": []
    },
    {
      "cell_type": "code",
      "metadata": {
        "id": "bzAAHwsGsgbf",
        "outputId": "80382864-927a-4cf8-ddd5-fefe46d1a133",
        "colab": {
          "base_uri": "https://localhost:8080/",
          "height": 202
        }
      },
      "source": [
        "#  Create dataframe with predicted values\n",
        "predicted = pd.DataFrame({\n",
        "    'date': list_of_days,\n",
        "    'close_point_relative_normalization': predicted_days\n",
        "})\n",
        "predicted.head()"
      ],
      "execution_count": 45,
      "outputs": [
        {
          "output_type": "execute_result",
          "data": {
            "text/html": [
              "<div>\n",
              "<style scoped>\n",
              "    .dataframe tbody tr th:only-of-type {\n",
              "        vertical-align: middle;\n",
              "    }\n",
              "\n",
              "    .dataframe tbody tr th {\n",
              "        vertical-align: top;\n",
              "    }\n",
              "\n",
              "    .dataframe thead th {\n",
              "        text-align: right;\n",
              "    }\n",
              "</style>\n",
              "<table border=\"1\" class=\"dataframe\">\n",
              "  <thead>\n",
              "    <tr style=\"text-align: right;\">\n",
              "      <th></th>\n",
              "      <th>date</th>\n",
              "      <th>close_point_relative_normalization</th>\n",
              "    </tr>\n",
              "  </thead>\n",
              "  <tbody>\n",
              "    <tr>\n",
              "      <th>0</th>\n",
              "      <td>2017-06-25</td>\n",
              "      <td>-0.000969</td>\n",
              "    </tr>\n",
              "    <tr>\n",
              "      <th>1</th>\n",
              "      <td>2017-06-26</td>\n",
              "      <td>0.187953</td>\n",
              "    </tr>\n",
              "    <tr>\n",
              "      <th>2</th>\n",
              "      <td>2017-06-27</td>\n",
              "      <td>0.885546</td>\n",
              "    </tr>\n",
              "    <tr>\n",
              "      <th>3</th>\n",
              "      <td>2017-06-28</td>\n",
              "      <td>0.543738</td>\n",
              "    </tr>\n",
              "    <tr>\n",
              "      <th>4</th>\n",
              "      <td>2017-06-29</td>\n",
              "      <td>0.798122</td>\n",
              "    </tr>\n",
              "  </tbody>\n",
              "</table>\n",
              "</div>"
            ],
            "text/plain": [
              "         date  close_point_relative_normalization\n",
              "0  2017-06-25                           -0.000969\n",
              "1  2017-06-26                            0.187953\n",
              "2  2017-06-27                            0.885546\n",
              "3  2017-06-28                            0.543738\n",
              "4  2017-06-29                            0.798122"
            ]
          },
          "metadata": {
            "tags": []
          },
          "execution_count": 45
        }
      ]
    },
    {
      "cell_type": "code",
      "metadata": {
        "id": "tCbimg0esh9q"
      },
      "source": [
        "#  Convert `date` variable to datetime\n",
        "predicted['date'] = predicted['date'].apply(\n",
        "    lambda x: datetime.strptime(x, '%Y-%m-%d'))\n",
        "\n",
        "test['date'] = test['date'].apply(\n",
        "    lambda x: datetime.strptime(x, '%Y-%m-%d'))"
      ],
      "execution_count": 46,
      "outputs": []
    },
    {
      "cell_type": "code",
      "metadata": {
        "id": "XRFUxMolslEv"
      },
      "source": [
        "def plot_two_series(A, B, variable, title):\n",
        "    \"\"\"Plot two series using the same `date` index. \n",
        "    \n",
        "    Parameters\n",
        "    ----------\n",
        "    A, B: pd.DataFrame\n",
        "        Dataframe with a `date` key and a variable\n",
        "        passed in the `variable` parameter. Parameter A\n",
        "        represents the \"Observed\" series and B the \"Predicted\"\n",
        "        series. These will be labelled respectively. \n",
        "    \n",
        "    variable: str\n",
        "        Variable to use in plot.\n",
        "    \n",
        "    title: str\n",
        "        Plot title.\n",
        "    \"\"\"\n",
        "    plt.figure(figsize=(14, 4))\n",
        "    plt.xlabel('Observed and predicted')\n",
        "\n",
        "    ax1 = A.set_index('date')[variable].plot(\n",
        "        color='#d35400', grid=True, label='Observed', title=title)\n",
        "\n",
        "    ax2 = B.set_index('date')[variable].plot(\n",
        "        color='grey', grid=True, label='Predicted')\n",
        "    \n",
        "    ax1.set_xlabel(\"Predicted Week\")\n",
        "    ax1.set_ylabel(\"Predicted Values\")\n",
        "\n",
        "    plt.legend()\n",
        "    plt.show()"
      ],
      "execution_count": 50,
      "outputs": []
    },
    {
      "cell_type": "code",
      "metadata": {
        "id": "0md8Lu-zspGe",
        "outputId": "28004b56-0b54-44a0-d446-6cb277c5fc49",
        "colab": {
          "base_uri": "https://localhost:8080/",
          "height": 302
        }
      },
      "source": [
        "#  Plot predicted normalized prices\n",
        "#  against actual normalized prices\n",
        "plot_two_series(A=test[:-3],\n",
        "                B=predicted,\n",
        "                variable='close_point_relative_normalization',\n",
        "                title='Normalized Predictions per Week')"
      ],
      "execution_count": 49,
      "outputs": [
        {
          "output_type": "display_data",
          "data": {
            "image/png": "[encoded data removed]",
            "text/plain": [
              "<Figure size 1008x288 with 1 Axes>"
            ]
          },
          "metadata": {
            "tags": []
          }
        }
      ]
    },
    {
      "cell_type": "code",
      "metadata": {
        "id": "Dv262gqUswq5"
      },
      "source": [
        "###De-normalize Predictions"
      ],
      "execution_count": 51,
      "outputs": []
    },
    {
      "cell_type": "code",
      "metadata": {
        "id": "xHH52EAMszkA"
      },
      "source": [
        "#  Add variable `iso_week` by stripping the Year and Week from `date`\n",
        "predicted['iso_week'] = predicted['date'].apply(\n",
        "    lambda x: x.strftime('%Y-%U'))"
      ],
      "execution_count": 52,
      "outputs": []
    },
    {
      "cell_type": "code",
      "metadata": {
        "id": "FUCA6J2Rs1Sp"
      },
      "source": [
        "def denormalize(reference, series,\n",
        "                normalized_variable='close_point_relative_normalization',\n",
        "                denormalized_variable='close'):\n",
        "    \"\"\"Denormalize the values for a given series.\n",
        "\n",
        "    Parameters\n",
        "    ----------\n",
        "    reference: pd.DataFrame\n",
        "        DataFrame to use as reference. This dataframe\n",
        "        contains both a week index and the USD price\n",
        "        reference that we are interested on.\n",
        "\n",
        "    series: pd.DataFrame\n",
        "        DataFrame with the predicted series. The\n",
        "        DataFrame must have the same columns as the\n",
        "        `reference` dataset.\n",
        "\n",
        "    normalized_variable: str, default 'close_point_relative_normalization'\n",
        "        Variable to use in normalization.\n",
        "\n",
        "    denormalized_variable: str, default `close`\n",
        "        Variable to use in de-normalization.\n",
        "\n",
        "    Returns\n",
        "    -------\n",
        "    A modified DataFrame with the new variable provided\n",
        "    in `denormalized_variable` parameter.\n",
        "    \"\"\"\n",
        "    week_values = reference[reference['iso_week'] == series['iso_week'].values[0]]\n",
        "    last_value = week_values[denormalized_variable].values[0]\n",
        "    series[denormalized_variable] = last_value * (series[normalized_variable] + 1)\n",
        "\n",
        "    return series"
      ],
      "execution_count": 53,
      "outputs": []
    },
    {
      "cell_type": "code",
      "metadata": {
        "id": "NNCnuJFYs3cN"
      },
      "source": [
        "#  Denormalize predictions\n",
        "predicted_close = predicted.groupby('iso_week').apply(\n",
        "    lambda x: denormalize(test[:-3], x))"
      ],
      "execution_count": 54,
      "outputs": []
    },
    {
      "cell_type": "code",
      "metadata": {
        "id": "34S6TkH9s5qu",
        "outputId": "f292b108-e8a3-4203-d822-35fb04bc02dd",
        "colab": {
          "base_uri": "https://localhost:8080/",
          "height": 302
        }
      },
      "source": [
        "#  Plot denormalized predictions and observed closing prices in test set\n",
        "plot_two_series(A=test[:-3],\n",
        "                B=predicted_close,\n",
        "                variable='close',\n",
        "                title='De-normalized Predictions per Week')"
      ],
      "execution_count": 55,
      "outputs": [
        {
          "output_type": "display_data",
          "data": {
            "image/png": "[encoded data removed]",
            "text/plain": [
              "<Figure size 1008x288 with 1 Axes>"
            ]
          },
          "metadata": {
            "tags": []
          }
        }
      ]
    },
    {
      "cell_type": "code",
      "metadata": {
        "id": "CzI-Wahus8WC"
      },
      "source": [
        "###Calculate RMSE and MAPE"
      ],
      "execution_count": 56,
      "outputs": []
    },
    {
      "cell_type": "code",
      "metadata": {
        "id": "Gu-yPOQKs-jQ",
        "outputId": "8800191f-8b2b-4ada-f980-8dcd6fa30610",
        "colab": {
          "base_uri": "https://localhost:8080/"
        }
      },
      "source": [
        "A = test[:-3]['close_point_relative_normalization']\n",
        "B = predicted_close['close_point_relative_normalization']\n",
        "\n",
        "print(f'Normalized RMSE: {rmse(A, B):.2f}')"
      ],
      "execution_count": 57,
      "outputs": [
        {
          "output_type": "stream",
          "text": [
            "Normalized RMSE: 0.48\n"
          ],
          "name": "stdout"
        }
      ]
    },
    {
      "cell_type": "code",
      "metadata": {
        "id": "W40p2F5ftAYf",
        "outputId": "c13840e4-aa59-407d-84d2-df3e42d41312",
        "colab": {
          "base_uri": "https://localhost:8080/"
        }
      },
      "source": [
        "A = test[:-3]['close']\n",
        "B = predicted_close['close']\n",
        "\n",
        "print(f'De-normalized RMSE: {rmse(A, B):.2f}')\n",
        "print(f'De-normalized MAPE: {mape(A, B):.2f}')"
      ],
      "execution_count": 58,
      "outputs": [
        {
          "output_type": "stream",
          "text": [
            "De-normalized RMSE: 2350.77\n",
            "De-normalized MAPE: 47.06\n"
          ],
          "name": "stdout"
        }
      ]
    },
    {
      "cell_type": "code",
      "metadata": {
        "id": "MKQaGwI-tCmu"
      },
      "source": [
        "###Activity 7: Optimizing a deep learning model"
      ],
      "execution_count": 59,
      "outputs": []
    },
    {
      "cell_type": "code",
      "metadata": {
        "id": "4HtCzA_HtI9G"
      },
      "source": [
        "###Load Data"
      ],
      "execution_count": 60,
      "outputs": []
    },
    {
      "cell_type": "code",
      "metadata": {
        "id": "80ynorE-tLdO"
      },
      "source": [
        "import math\n",
        "import numpy as np\n",
        "import pandas as pd\n",
        "import seaborn as sb\n",
        "import matplotlib.pyplot as plt\n",
        "from datetime import datetime, timedelta"
      ],
      "execution_count": 61,
      "outputs": []
    },
    {
      "cell_type": "code",
      "metadata": {
        "id": "aLJVXQAAtY9_"
      },
      "source": [
        "from keras.models import load_model\n",
        "from keras.models import Sequential\n",
        "from keras.layers.recurrent import LSTM\n",
        "from keras.callbacks import TensorBoard\n",
        "from keras.layers.core import Dense, Activation, Dropout, ActivityRegularization"
      ],
      "execution_count": 62,
      "outputs": []
    },
    {
      "cell_type": "code",
      "metadata": {
        "id": "1n9cGX53tbUT"
      },
      "source": [
        "from utilities_activity7 import (create_groups, split_lstm_input, \n",
        "                               train_model, plot_two_series, rmse, \n",
        "                               mape, denormalize)"
      ],
      "execution_count": 63,
      "outputs": []
    },
    {
      "cell_type": "code",
      "metadata": {
        "id": "a2jZYpo-teLj"
      },
      "source": [
        "plt.style.use('seaborn-white')"
      ],
      "execution_count": 64,
      "outputs": []
    },
    {
      "cell_type": "code",
      "metadata": {
        "id": "axdTmTTkti0O"
      },
      "source": [
        "#  Load datasets\n",
        "train = pd.read_csv('/content/drive/My Drive/train_dataset.csv')\n",
        "test = pd.read_csv('/content/drive/My Drive/test_dataset.csv')"
      ],
      "execution_count": 65,
      "outputs": []
    },
    {
      "cell_type": "code",
      "metadata": {
        "id": "36sl0QW0ttjG"
      },
      "source": [
        "#  Convert `date` column to datetime type\n",
        "test['date'] = test['date'].apply(\n",
        "    lambda x: datetime.strptime(x, '%Y-%m-%d'))"
      ],
      "execution_count": 66,
      "outputs": []
    },
    {
      "cell_type": "code",
      "metadata": {
        "id": "ue9-4duItvFg"
      },
      "source": [
        "#  Group data into groups containing seven observations\n",
        "train_data = create_groups(\n",
        "    train['close_point_relative_normalization'][2:].values)\n",
        "test_data = create_groups(\n",
        "    test['close_point_relative_normalization'][:-3].values)"
      ],
      "execution_count": 67,
      "outputs": []
    },
    {
      "cell_type": "code",
      "metadata": {
        "id": "ZQViYoB9txrL"
      },
      "source": [
        "#  Reshape the data in the format expected by the LSTM layer\n",
        "X_train, Y_train = split_lstm_input(train_data)"
      ],
      "execution_count": 68,
      "outputs": []
    },
    {
      "cell_type": "code",
      "metadata": {
        "id": "WfJkRDsKtzkU"
      },
      "source": [
        "####Reference Model"
      ],
      "execution_count": 69,
      "outputs": []
    },
    {
      "cell_type": "code",
      "metadata": {
        "id": "3sBVmgaZt4ov"
      },
      "source": [
        "model_v0 = load_model('bitcoin_lstm_v0.h5')"
      ],
      "execution_count": 70,
      "outputs": []
    },
    {
      "cell_type": "code",
      "metadata": {
        "id": "9SfROXA8t9gw",
        "outputId": "b65fdb89-aa44-425f-b88a-a840e0253e71",
        "colab": {
          "base_uri": "https://localhost:8080/"
        }
      },
      "source": [
        "%%time\n",
        "train_model(model=model_v0, X=X_train, Y=Y_train, epochs=100, version=0, run_number=0)"
      ],
      "execution_count": 71,
      "outputs": [
        {
          "output_type": "stream",
          "text": [
            "Epoch 1/100\n",
            "WARNING:tensorflow:Model was constructed with shape (1, 77, 7) for input Tensor(\"lstm_input_3:0\", shape=(1, 77, 7), dtype=float32), but it was called on an input with incompatible shape (1, 76, 7).\n",
            "WARNING:tensorflow:Model was constructed with shape (1, 77, 7) for input Tensor(\"lstm_input_3:0\", shape=(1, 77, 7), dtype=float32), but it was called on an input with incompatible shape (1, 76, 7).\n",
            "1/1 [==============================] - 0s 3ms/step - loss: 0.2918\n",
            "Epoch 2/100\n",
            "WARNING:tensorflow:From /usr/local/lib/python3.6/dist-packages/tensorflow/python/ops/summary_ops_v2.py:1277: stop (from tensorflow.python.eager.profiler) is deprecated and will be removed after 2020-07-01.\n",
            "Instructions for updating:\n",
            "use `tf.profiler.experimental.stop` instead.\n",
            "1/1 [==============================] - 0s 4ms/step - loss: 0.2698\n",
            "Epoch 3/100\n",
            "1/1 [==============================] - 0s 3ms/step - loss: 0.2565\n",
            "Epoch 4/100\n",
            "1/1 [==============================] - 0s 3ms/step - loss: 0.2463\n",
            "Epoch 5/100\n",
            "1/1 [==============================] - 0s 3ms/step - loss: 0.2378\n",
            "Epoch 6/100\n",
            "1/1 [==============================] - 0s 3ms/step - loss: 0.2304\n",
            "Epoch 7/100\n",
            "1/1 [==============================] - 0s 3ms/step - loss: 0.2239\n",
            "Epoch 8/100\n",
            "1/1 [==============================] - 0s 3ms/step - loss: 0.2179\n",
            "Epoch 9/100\n",
            "1/1 [==============================] - 0s 3ms/step - loss: 0.2124\n",
            "Epoch 10/100\n",
            "1/1 [==============================] - 0s 3ms/step - loss: 0.2073\n",
            "Epoch 11/100\n",
            "1/1 [==============================] - 0s 5ms/step - loss: 0.2025\n",
            "Epoch 12/100\n",
            "1/1 [==============================] - 0s 3ms/step - loss: 0.1980\n",
            "Epoch 13/100\n",
            "1/1 [==============================] - 0s 3ms/step - loss: 0.1937\n",
            "Epoch 14/100\n",
            "1/1 [==============================] - 0s 3ms/step - loss: 0.1897\n",
            "Epoch 15/100\n",
            "1/1 [==============================] - 0s 5ms/step - loss: 0.1857\n",
            "Epoch 16/100\n",
            "1/1 [==============================] - 0s 3ms/step - loss: 0.1820\n",
            "Epoch 17/100\n",
            "1/1 [==============================] - 0s 4ms/step - loss: 0.1784\n",
            "Epoch 18/100\n",
            "1/1 [==============================] - 0s 3ms/step - loss: 0.1750\n",
            "Epoch 19/100\n",
            "1/1 [==============================] - 0s 4ms/step - loss: 0.1716\n",
            "Epoch 20/100\n",
            "1/1 [==============================] - 0s 3ms/step - loss: 0.1684\n",
            "Epoch 21/100\n",
            "1/1 [==============================] - 0s 5ms/step - loss: 0.1652\n",
            "Epoch 22/100\n",
            "1/1 [==============================] - 0s 3ms/step - loss: 0.1622\n",
            "Epoch 23/100\n",
            "1/1 [==============================] - 0s 2ms/step - loss: 0.1592\n",
            "Epoch 24/100\n",
            "1/1 [==============================] - 0s 4ms/step - loss: 0.1563\n",
            "Epoch 25/100\n",
            "1/1 [==============================] - 0s 3ms/step - loss: 0.1534\n",
            "Epoch 26/100\n",
            "1/1 [==============================] - 0s 3ms/step - loss: 0.1506\n",
            "Epoch 27/100\n",
            "1/1 [==============================] - 0s 5ms/step - loss: 0.1479\n",
            "Epoch 28/100\n",
            "1/1 [==============================] - 0s 3ms/step - loss: 0.1452\n",
            "Epoch 29/100\n",
            "1/1 [==============================] - 0s 3ms/step - loss: 0.1425\n",
            "Epoch 30/100\n",
            "1/1 [==============================] - 0s 2ms/step - loss: 0.1399\n",
            "Epoch 31/100\n",
            "1/1 [==============================] - 0s 3ms/step - loss: 0.1373\n",
            "Epoch 32/100\n",
            "1/1 [==============================] - 0s 4ms/step - loss: 0.1347\n",
            "Epoch 33/100\n",
            "1/1 [==============================] - 0s 9ms/step - loss: 0.1321\n",
            "Epoch 34/100\n",
            "1/1 [==============================] - 0s 3ms/step - loss: 0.1296\n",
            "Epoch 35/100\n",
            "1/1 [==============================] - 0s 3ms/step - loss: 0.1271\n",
            "Epoch 36/100\n",
            "1/1 [==============================] - 0s 4ms/step - loss: 0.1246\n",
            "Epoch 37/100\n",
            "1/1 [==============================] - 0s 3ms/step - loss: 0.1221\n",
            "Epoch 38/100\n",
            "1/1 [==============================] - 0s 3ms/step - loss: 0.1197\n",
            "Epoch 39/100\n",
            "1/1 [==============================] - 0s 3ms/step - loss: 0.1172\n",
            "Epoch 40/100\n",
            "1/1 [==============================] - 0s 3ms/step - loss: 0.1147\n",
            "Epoch 41/100\n",
            "1/1 [==============================] - 0s 3ms/step - loss: 0.1123\n",
            "Epoch 42/100\n",
            "1/1 [==============================] - 0s 3ms/step - loss: 0.1099\n",
            "Epoch 43/100\n",
            "1/1 [==============================] - 0s 3ms/step - loss: 0.1074\n",
            "Epoch 44/100\n",
            "1/1 [==============================] - 0s 3ms/step - loss: 0.1050\n",
            "Epoch 45/100\n",
            "1/1 [==============================] - 0s 3ms/step - loss: 0.1026\n",
            "Epoch 46/100\n",
            "1/1 [==============================] - 0s 3ms/step - loss: 0.1002\n",
            "Epoch 47/100\n",
            "1/1 [==============================] - 0s 3ms/step - loss: 0.0977\n",
            "Epoch 48/100\n",
            "1/1 [==============================] - 0s 3ms/step - loss: 0.0953\n",
            "Epoch 49/100\n",
            "1/1 [==============================] - 0s 3ms/step - loss: 0.0930\n",
            "Epoch 50/100\n",
            "1/1 [==============================] - 0s 3ms/step - loss: 0.0906\n",
            "Epoch 51/100\n",
            "1/1 [==============================] - 0s 5ms/step - loss: 0.0882\n",
            "Epoch 52/100\n",
            "1/1 [==============================] - 0s 3ms/step - loss: 0.0859\n",
            "Epoch 53/100\n",
            "1/1 [==============================] - 0s 3ms/step - loss: 0.0836\n",
            "Epoch 54/100\n",
            "1/1 [==============================] - 0s 4ms/step - loss: 0.0813\n",
            "Epoch 55/100\n",
            "1/1 [==============================] - 0s 3ms/step - loss: 0.0790\n",
            "Epoch 56/100\n",
            "1/1 [==============================] - 0s 4ms/step - loss: 0.0767\n",
            "Epoch 57/100\n",
            "1/1 [==============================] - 0s 3ms/step - loss: 0.0745\n",
            "Epoch 58/100\n",
            "1/1 [==============================] - 0s 5ms/step - loss: 0.0722\n",
            "Epoch 59/100\n",
            "1/1 [==============================] - 0s 4ms/step - loss: 0.0701\n",
            "Epoch 60/100\n",
            "1/1 [==============================] - 0s 2ms/step - loss: 0.0679\n",
            "Epoch 61/100\n",
            "1/1 [==============================] - 0s 3ms/step - loss: 0.0657\n",
            "Epoch 62/100\n",
            "1/1 [==============================] - 0s 4ms/step - loss: 0.0636\n",
            "Epoch 63/100\n",
            "1/1 [==============================] - 0s 4ms/step - loss: 0.0615\n",
            "Epoch 64/100\n",
            "1/1 [==============================] - 0s 3ms/step - loss: 0.0594\n",
            "Epoch 65/100\n",
            "1/1 [==============================] - 0s 5ms/step - loss: 0.0574\n",
            "Epoch 66/100\n",
            "1/1 [==============================] - 0s 3ms/step - loss: 0.0554\n",
            "Epoch 67/100\n",
            "1/1 [==============================] - 0s 3ms/step - loss: 0.0535\n",
            "Epoch 68/100\n",
            "1/1 [==============================] - 0s 3ms/step - loss: 0.0516\n",
            "Epoch 69/100\n",
            "1/1 [==============================] - 0s 3ms/step - loss: 0.0496\n",
            "Epoch 70/100\n",
            "1/1 [==============================] - 0s 3ms/step - loss: 0.0478\n",
            "Epoch 71/100\n",
            "1/1 [==============================] - 0s 3ms/step - loss: 0.0459\n",
            "Epoch 72/100\n",
            "1/1 [==============================] - 0s 3ms/step - loss: 0.0441\n",
            "Epoch 73/100\n",
            "1/1 [==============================] - 0s 3ms/step - loss: 0.0424\n",
            "Epoch 74/100\n",
            "1/1 [==============================] - 0s 3ms/step - loss: 0.0406\n",
            "Epoch 75/100\n",
            "1/1 [==============================] - 0s 3ms/step - loss: 0.0389\n",
            "Epoch 76/100\n",
            "1/1 [==============================] - 0s 3ms/step - loss: 0.0373\n",
            "Epoch 77/100\n",
            "1/1 [==============================] - 0s 3ms/step - loss: 0.0356\n",
            "Epoch 78/100\n",
            "1/1 [==============================] - 0s 3ms/step - loss: 0.0340\n",
            "Epoch 79/100\n",
            "1/1 [==============================] - 0s 3ms/step - loss: 0.0325\n",
            "Epoch 80/100\n",
            "1/1 [==============================] - 0s 3ms/step - loss: 0.0310\n",
            "Epoch 81/100\n",
            "1/1 [==============================] - 0s 3ms/step - loss: 0.0295\n",
            "Epoch 82/100\n",
            "1/1 [==============================] - 0s 3ms/step - loss: 0.0281\n",
            "Epoch 83/100\n",
            "1/1 [==============================] - 0s 4ms/step - loss: 0.0267\n",
            "Epoch 84/100\n",
            "1/1 [==============================] - 0s 4ms/step - loss: 0.0253\n",
            "Epoch 85/100\n",
            "1/1 [==============================] - 0s 5ms/step - loss: 0.0240\n",
            "Epoch 86/100\n",
            "1/1 [==============================] - 0s 5ms/step - loss: 0.0227\n",
            "Epoch 87/100\n",
            "1/1 [==============================] - 0s 2ms/step - loss: 0.0214\n",
            "Epoch 88/100\n",
            "1/1 [==============================] - 0s 3ms/step - loss: 0.0202\n",
            "Epoch 89/100\n",
            "1/1 [==============================] - 0s 3ms/step - loss: 0.0191\n",
            "Epoch 90/100\n",
            "1/1 [==============================] - 0s 3ms/step - loss: 0.0179\n",
            "Epoch 91/100\n",
            "1/1 [==============================] - 0s 3ms/step - loss: 0.0169\n",
            "Epoch 92/100\n",
            "1/1 [==============================] - 0s 3ms/step - loss: 0.0158\n",
            "Epoch 93/100\n",
            "1/1 [==============================] - 0s 3ms/step - loss: 0.0148\n",
            "Epoch 94/100\n",
            "1/1 [==============================] - 0s 4ms/step - loss: 0.0138\n",
            "Epoch 95/100\n",
            "1/1 [==============================] - 0s 4ms/step - loss: 0.0129\n",
            "Epoch 96/100\n",
            "1/1 [==============================] - 0s 3ms/step - loss: 0.0120\n",
            "Epoch 97/100\n",
            "1/1 [==============================] - 0s 3ms/step - loss: 0.0112\n",
            "Epoch 98/100\n",
            "1/1 [==============================] - 0s 4ms/step - loss: 0.0103\n",
            "Epoch 99/100\n",
            "1/1 [==============================] - 0s 3ms/step - loss: 0.0096\n",
            "Epoch 100/100\n",
            "1/1 [==============================] - 0s 3ms/step - loss: 0.0088\n",
            "CPU times: user 3.93 s, sys: 251 ms, total: 4.18 s\n",
            "Wall time: 4.03 s\n"
          ],
          "name": "stdout"
        },
        {
          "output_type": "execute_result",
          "data": {
            "text/plain": [
              "<tensorflow.python.keras.callbacks.History at 0x7f5380705f60>"
            ]
          },
          "metadata": {
            "tags": []
          },
          "execution_count": 71
        }
      ]
    },
    {
      "cell_type": "code",
      "metadata": {
        "id": "KxFDfjh1t_uw"
      },
      "source": [
        "###Adding Layers and Nodes"
      ],
      "execution_count": 72,
      "outputs": []
    },
    {
      "cell_type": "code",
      "metadata": {
        "id": "o-YocmJmuJ_c"
      },
      "source": [
        "#  Initialize variables\n",
        "period_length = 7\n",
        "number_of_periods = 76\n",
        "batch_size = 1"
      ],
      "execution_count": 73,
      "outputs": []
    },
    {
      "cell_type": "code",
      "metadata": {
        "id": "8f3dZjQyuLx5"
      },
      "source": [
        "#  Model 1: two LSTM layers\n",
        "model_v1 = Sequential()\n",
        "\n",
        "model_v1.add(LSTM(\n",
        "    units=period_length,\n",
        "    batch_input_shape=(batch_size, number_of_periods, period_length),\n",
        "    input_shape=(number_of_periods, period_length),\n",
        "    return_sequences=True, stateful=False))   # note return_sequences is now true\n",
        "\n",
        "#  TASK:\n",
        "#  Add new LSTM layer to this network here.\n",
        "#\n",
        "\n",
        "\n",
        "model_v1.add(Dense(units=period_length))\n",
        "model_v1.add(Activation(\"linear\"))\n",
        "\n",
        "model_v1.compile(loss=\"mse\", optimizer=\"rmsprop\")"
      ],
      "execution_count": 74,
      "outputs": []
    },
    {
      "cell_type": "code",
      "metadata": {
        "id": "7M5qTnvtuNb2",
        "outputId": "5172ecfa-a04a-44c3-a386-1597364b0edf",
        "colab": {
          "base_uri": "https://localhost:8080/"
        }
      },
      "source": [
        "%%time\n",
        "train_model(model=model_v1, X=X_train, Y=Y_train, epochs=100, version=1, run_number=0)"
      ],
      "execution_count": 75,
      "outputs": [
        {
          "output_type": "stream",
          "text": [
            "Epoch 1/100\n",
            "1/1 [==============================] - 0s 4ms/step - loss: 0.2380\n",
            "Epoch 2/100\n",
            "1/1 [==============================] - 0s 3ms/step - loss: 0.2148\n",
            "Epoch 3/100\n",
            "1/1 [==============================] - 0s 3ms/step - loss: 0.1981\n",
            "Epoch 4/100\n",
            "1/1 [==============================] - 0s 3ms/step - loss: 0.1840\n",
            "Epoch 5/100\n",
            "1/1 [==============================] - 0s 3ms/step - loss: 0.1716\n",
            "Epoch 6/100\n",
            "1/1 [==============================] - 0s 3ms/step - loss: 0.1603\n",
            "Epoch 7/100\n",
            "1/1 [==============================] - 0s 2ms/step - loss: 0.1500\n",
            "Epoch 8/100\n",
            "1/1 [==============================] - 0s 5ms/step - loss: 0.1404\n",
            "Epoch 9/100\n",
            "1/1 [==============================] - 0s 5ms/step - loss: 0.1315\n",
            "Epoch 10/100\n",
            "1/1 [==============================] - 0s 3ms/step - loss: 0.1232\n",
            "Epoch 11/100\n",
            "1/1 [==============================] - 0s 2ms/step - loss: 0.1155\n",
            "Epoch 12/100\n",
            "1/1 [==============================] - 0s 2ms/step - loss: 0.1083\n",
            "Epoch 13/100\n",
            "1/1 [==============================] - 0s 3ms/step - loss: 0.1017\n",
            "Epoch 14/100\n",
            "1/1 [==============================] - 0s 3ms/step - loss: 0.0956\n",
            "Epoch 15/100\n",
            "1/1 [==============================] - 0s 6ms/step - loss: 0.0900\n",
            "Epoch 16/100\n",
            "1/1 [==============================] - 0s 3ms/step - loss: 0.0849\n",
            "Epoch 17/100\n",
            "1/1 [==============================] - 0s 3ms/step - loss: 0.0802\n",
            "Epoch 18/100\n",
            "1/1 [==============================] - 0s 3ms/step - loss: 0.0759\n",
            "Epoch 19/100\n",
            "1/1 [==============================] - 0s 5ms/step - loss: 0.0721\n",
            "Epoch 20/100\n",
            "1/1 [==============================] - 0s 5ms/step - loss: 0.0686\n",
            "Epoch 21/100\n",
            "1/1 [==============================] - 0s 3ms/step - loss: 0.0655\n",
            "Epoch 22/100\n",
            "1/1 [==============================] - 0s 3ms/step - loss: 0.0626\n",
            "Epoch 23/100\n",
            "1/1 [==============================] - 0s 3ms/step - loss: 0.0601\n",
            "Epoch 24/100\n",
            "1/1 [==============================] - 0s 5ms/step - loss: 0.0577\n",
            "Epoch 25/100\n",
            "1/1 [==============================] - 0s 4ms/step - loss: 0.0556\n",
            "Epoch 26/100\n",
            "1/1 [==============================] - 0s 5ms/step - loss: 0.0536\n",
            "Epoch 27/100\n",
            "1/1 [==============================] - 0s 2ms/step - loss: 0.0518\n",
            "Epoch 28/100\n",
            "1/1 [==============================] - 0s 5ms/step - loss: 0.0501\n",
            "Epoch 29/100\n",
            "1/1 [==============================] - 0s 6ms/step - loss: 0.0485\n",
            "Epoch 30/100\n",
            "1/1 [==============================] - 0s 5ms/step - loss: 0.0470\n",
            "Epoch 31/100\n",
            "1/1 [==============================] - 0s 7ms/step - loss: 0.0456\n",
            "Epoch 32/100\n",
            "1/1 [==============================] - 0s 3ms/step - loss: 0.0442\n",
            "Epoch 33/100\n",
            "1/1 [==============================] - 0s 3ms/step - loss: 0.0430\n",
            "Epoch 34/100\n",
            "1/1 [==============================] - 0s 3ms/step - loss: 0.0417\n",
            "Epoch 35/100\n",
            "1/1 [==============================] - 0s 2ms/step - loss: 0.0405\n",
            "Epoch 36/100\n",
            "1/1 [==============================] - 0s 3ms/step - loss: 0.0394\n",
            "Epoch 37/100\n",
            "1/1 [==============================] - 0s 5ms/step - loss: 0.0383\n",
            "Epoch 38/100\n",
            "1/1 [==============================] - 0s 2ms/step - loss: 0.0372\n",
            "Epoch 39/100\n",
            "1/1 [==============================] - 0s 4ms/step - loss: 0.0362\n",
            "Epoch 40/100\n",
            "1/1 [==============================] - 0s 2ms/step - loss: 0.0352\n",
            "Epoch 41/100\n",
            "1/1 [==============================] - 0s 3ms/step - loss: 0.0342\n",
            "Epoch 42/100\n",
            "1/1 [==============================] - 0s 3ms/step - loss: 0.0332\n",
            "Epoch 43/100\n",
            "1/1 [==============================] - 0s 3ms/step - loss: 0.0323\n",
            "Epoch 44/100\n",
            "1/1 [==============================] - 0s 3ms/step - loss: 0.0314\n",
            "Epoch 45/100\n",
            "1/1 [==============================] - 0s 3ms/step - loss: 0.0305\n",
            "Epoch 46/100\n",
            "1/1 [==============================] - 0s 3ms/step - loss: 0.0297\n",
            "Epoch 47/100\n",
            "1/1 [==============================] - 0s 3ms/step - loss: 0.0288\n",
            "Epoch 48/100\n",
            "1/1 [==============================] - 0s 3ms/step - loss: 0.0280\n",
            "Epoch 49/100\n",
            "1/1 [==============================] - 0s 4ms/step - loss: 0.0272\n",
            "Epoch 50/100\n",
            "1/1 [==============================] - 0s 4ms/step - loss: 0.0265\n",
            "Epoch 51/100\n",
            "1/1 [==============================] - 0s 4ms/step - loss: 0.0257\n",
            "Epoch 52/100\n",
            "1/1 [==============================] - 0s 3ms/step - loss: 0.0250\n",
            "Epoch 53/100\n",
            "1/1 [==============================] - 0s 3ms/step - loss: 0.0243\n",
            "Epoch 54/100\n",
            "1/1 [==============================] - 0s 5ms/step - loss: 0.0236\n",
            "Epoch 55/100\n",
            "1/1 [==============================] - 0s 3ms/step - loss: 0.0229\n",
            "Epoch 56/100\n",
            "1/1 [==============================] - 0s 3ms/step - loss: 0.0223\n",
            "Epoch 57/100\n",
            "1/1 [==============================] - 0s 3ms/step - loss: 0.0216\n",
            "Epoch 58/100\n",
            "1/1 [==============================] - 0s 4ms/step - loss: 0.0210\n",
            "Epoch 59/100\n",
            "1/1 [==============================] - 0s 3ms/step - loss: 0.0204\n",
            "Epoch 60/100\n",
            "1/1 [==============================] - 0s 3ms/step - loss: 0.0198\n",
            "Epoch 61/100\n",
            "1/1 [==============================] - 0s 3ms/step - loss: 0.0192\n",
            "Epoch 62/100\n",
            "1/1 [==============================] - 0s 3ms/step - loss: 0.0187\n",
            "Epoch 63/100\n",
            "1/1 [==============================] - 0s 3ms/step - loss: 0.0182\n",
            "Epoch 64/100\n",
            "1/1 [==============================] - 0s 5ms/step - loss: 0.0177\n",
            "Epoch 65/100\n",
            "1/1 [==============================] - 0s 3ms/step - loss: 0.0172\n",
            "Epoch 66/100\n",
            "1/1 [==============================] - 0s 4ms/step - loss: 0.0167\n",
            "Epoch 67/100\n",
            "1/1 [==============================] - 0s 3ms/step - loss: 0.0162\n",
            "Epoch 68/100\n",
            "1/1 [==============================] - 0s 3ms/step - loss: 0.0158\n",
            "Epoch 69/100\n",
            "1/1 [==============================] - 0s 4ms/step - loss: 0.0153\n",
            "Epoch 70/100\n",
            "1/1 [==============================] - 0s 4ms/step - loss: 0.0149\n",
            "Epoch 71/100\n",
            "1/1 [==============================] - 0s 3ms/step - loss: 0.0145\n",
            "Epoch 72/100\n",
            "1/1 [==============================] - 0s 3ms/step - loss: 0.0141\n",
            "Epoch 73/100\n",
            "1/1 [==============================] - 0s 3ms/step - loss: 0.0138\n",
            "Epoch 74/100\n",
            "1/1 [==============================] - 0s 3ms/step - loss: 0.0134\n",
            "Epoch 75/100\n",
            "1/1 [==============================] - 0s 3ms/step - loss: 0.0131\n",
            "Epoch 76/100\n",
            "1/1 [==============================] - 0s 2ms/step - loss: 0.0128\n",
            "Epoch 77/100\n",
            "1/1 [==============================] - 0s 2ms/step - loss: 0.0124\n",
            "Epoch 78/100\n",
            "1/1 [==============================] - 0s 3ms/step - loss: 0.0121\n",
            "Epoch 79/100\n",
            "1/1 [==============================] - 0s 2ms/step - loss: 0.0119\n",
            "Epoch 80/100\n",
            "1/1 [==============================] - 0s 3ms/step - loss: 0.0116\n",
            "Epoch 81/100\n",
            "1/1 [==============================] - 0s 3ms/step - loss: 0.0113\n",
            "Epoch 82/100\n",
            "1/1 [==============================] - 0s 5ms/step - loss: 0.0111\n",
            "Epoch 83/100\n",
            "1/1 [==============================] - 0s 3ms/step - loss: 0.0108\n",
            "Epoch 84/100\n",
            "1/1 [==============================] - 0s 4ms/step - loss: 0.0106\n",
            "Epoch 85/100\n",
            "1/1 [==============================] - 0s 3ms/step - loss: 0.0104\n",
            "Epoch 86/100\n",
            "1/1 [==============================] - 0s 4ms/step - loss: 0.0101\n",
            "Epoch 87/100\n",
            "1/1 [==============================] - 0s 4ms/step - loss: 0.0099\n",
            "Epoch 88/100\n",
            "1/1 [==============================] - 0s 6ms/step - loss: 0.0097\n",
            "Epoch 89/100\n",
            "1/1 [==============================] - 0s 5ms/step - loss: 0.0095\n",
            "Epoch 90/100\n",
            "1/1 [==============================] - 0s 5ms/step - loss: 0.0094\n",
            "Epoch 91/100\n",
            "1/1 [==============================] - 0s 3ms/step - loss: 0.0092\n",
            "Epoch 92/100\n",
            "1/1 [==============================] - 0s 3ms/step - loss: 0.0090\n",
            "Epoch 93/100\n",
            "1/1 [==============================] - 0s 3ms/step - loss: 0.0088\n",
            "Epoch 94/100\n",
            "1/1 [==============================] - 0s 3ms/step - loss: 0.0087\n",
            "Epoch 95/100\n",
            "1/1 [==============================] - 0s 3ms/step - loss: 0.0085\n",
            "Epoch 96/100\n",
            "1/1 [==============================] - 0s 3ms/step - loss: 0.0084\n",
            "Epoch 97/100\n",
            "1/1 [==============================] - 0s 4ms/step - loss: 0.0082\n",
            "Epoch 98/100\n",
            "1/1 [==============================] - 0s 4ms/step - loss: 0.0081\n",
            "Epoch 99/100\n",
            "1/1 [==============================] - 0s 3ms/step - loss: 0.0079\n",
            "Epoch 100/100\n",
            "1/1 [==============================] - 0s 5ms/step - loss: 0.0078\n",
            "CPU times: user 4.41 s, sys: 263 ms, total: 4.67 s\n",
            "Wall time: 4.4 s\n"
          ],
          "name": "stdout"
        },
        {
          "output_type": "execute_result",
          "data": {
            "text/plain": [
              "<tensorflow.python.keras.callbacks.History at 0x7f537e288b00>"
            ]
          },
          "metadata": {
            "tags": []
          },
          "execution_count": 75
        }
      ]
    },
    {
      "cell_type": "code",
      "metadata": {
        "id": "9XJ62tYAuSir"
      },
      "source": [
        "###Epochs"
      ],
      "execution_count": 76,
      "outputs": []
    },
    {
      "cell_type": "code",
      "metadata": {
        "id": "5yFN8PcVurW5"
      },
      "source": [
        "# Model 2: two LSTM layers, trained for 300 epochs\n",
        "model_v2 = Sequential()\n",
        "\n",
        "model_v2.add(LSTM(\n",
        "    units=period_length,\n",
        "    batch_input_shape=(batch_size, number_of_periods, period_length),\n",
        "    input_shape=(number_of_periods, period_length),\n",
        "    return_sequences=True, stateful=False))\n",
        "\n",
        "model_v2.add(LSTM(\n",
        "    units=period_length,\n",
        "    batch_input_shape=(batch_size, number_of_periods, period_length),\n",
        "    input_shape=(number_of_periods, period_length),\n",
        "    return_sequences=False, stateful=False))\n",
        "\n",
        "model_v2.add(Dense(units=period_length))\n",
        "model_v2.add(Activation(\"linear\"))\n",
        "\n",
        "model_v2.compile(loss=\"mse\", optimizer=\"rmsprop\")"
      ],
      "execution_count": 77,
      "outputs": []
    },
    {
      "cell_type": "code",
      "metadata": {
        "id": "WKhxkTMxuu_y",
        "outputId": "79e1304f-24b8-40af-b2a8-d84ad1d4bdf1",
        "colab": {
          "base_uri": "https://localhost:8080/"
        }
      },
      "source": [
        "%%time\n",
        "\n",
        "#  TASK:\n",
        "#  Change the number of epochs below\n",
        "#  to 300 and evaluate the results on TensorBoard.\n",
        "#\n",
        "train_model(model=model_v2, X=X_train, Y=Y_train, epochs=100, version=2, run_number=0)"
      ],
      "execution_count": 78,
      "outputs": [
        {
          "output_type": "stream",
          "text": [
            "Epoch 1/100\n",
            "1/1 [==============================] - 0s 11ms/step - loss: 0.5094\n",
            "Epoch 2/100\n",
            "1/1 [==============================] - 0s 7ms/step - loss: 0.4784\n",
            "Epoch 3/100\n",
            "1/1 [==============================] - 0s 5ms/step - loss: 0.4596\n",
            "Epoch 4/100\n",
            "1/1 [==============================] - 0s 5ms/step - loss: 0.4454\n",
            "Epoch 5/100\n",
            "1/1 [==============================] - 0s 6ms/step - loss: 0.4338\n",
            "Epoch 6/100\n",
            "1/1 [==============================] - 0s 5ms/step - loss: 0.4237\n",
            "Epoch 7/100\n",
            "1/1 [==============================] - 0s 3ms/step - loss: 0.4148\n",
            "Epoch 8/100\n",
            "1/1 [==============================] - 0s 3ms/step - loss: 0.4066\n",
            "Epoch 9/100\n",
            "1/1 [==============================] - 0s 3ms/step - loss: 0.3990\n",
            "Epoch 10/100\n",
            "1/1 [==============================] - 0s 3ms/step - loss: 0.3918\n",
            "Epoch 11/100\n",
            "1/1 [==============================] - 0s 5ms/step - loss: 0.3850\n",
            "Epoch 12/100\n",
            "1/1 [==============================] - 0s 2ms/step - loss: 0.3785\n",
            "Epoch 13/100\n",
            "1/1 [==============================] - 0s 3ms/step - loss: 0.3722\n",
            "Epoch 14/100\n",
            "1/1 [==============================] - 0s 3ms/step - loss: 0.3662\n",
            "Epoch 15/100\n",
            "1/1 [==============================] - 0s 3ms/step - loss: 0.3603\n",
            "Epoch 16/100\n",
            "1/1 [==============================] - 0s 3ms/step - loss: 0.3546\n",
            "Epoch 17/100\n",
            "1/1 [==============================] - 0s 2ms/step - loss: 0.3489\n",
            "Epoch 18/100\n",
            "1/1 [==============================] - 0s 5ms/step - loss: 0.3434\n",
            "Epoch 19/100\n",
            "1/1 [==============================] - 0s 3ms/step - loss: 0.3380\n",
            "Epoch 20/100\n",
            "1/1 [==============================] - 0s 4ms/step - loss: 0.3326\n",
            "Epoch 21/100\n",
            "1/1 [==============================] - 0s 4ms/step - loss: 0.3273\n",
            "Epoch 22/100\n",
            "1/1 [==============================] - 0s 4ms/step - loss: 0.3220\n",
            "Epoch 23/100\n",
            "1/1 [==============================] - 0s 3ms/step - loss: 0.3167\n",
            "Epoch 24/100\n",
            "1/1 [==============================] - 0s 3ms/step - loss: 0.3114\n",
            "Epoch 25/100\n",
            "1/1 [==============================] - 0s 3ms/step - loss: 0.3060\n",
            "Epoch 26/100\n",
            "1/1 [==============================] - 0s 3ms/step - loss: 0.3005\n",
            "Epoch 27/100\n",
            "1/1 [==============================] - 0s 3ms/step - loss: 0.2949\n",
            "Epoch 28/100\n",
            "1/1 [==============================] - 0s 3ms/step - loss: 0.2891\n",
            "Epoch 29/100\n",
            "1/1 [==============================] - 0s 2ms/step - loss: 0.2832\n",
            "Epoch 30/100\n",
            "1/1 [==============================] - 0s 5ms/step - loss: 0.2770\n",
            "Epoch 31/100\n",
            "1/1 [==============================] - 0s 5ms/step - loss: 0.2707\n",
            "Epoch 32/100\n",
            "1/1 [==============================] - 0s 2ms/step - loss: 0.2641\n",
            "Epoch 33/100\n",
            "1/1 [==============================] - 0s 3ms/step - loss: 0.2573\n",
            "Epoch 34/100\n",
            "1/1 [==============================] - 0s 4ms/step - loss: 0.2503\n",
            "Epoch 35/100\n",
            "1/1 [==============================] - 0s 2ms/step - loss: 0.2432\n",
            "Epoch 36/100\n",
            "1/1 [==============================] - 0s 3ms/step - loss: 0.2359\n",
            "Epoch 37/100\n",
            "1/1 [==============================] - 0s 3ms/step - loss: 0.2285\n",
            "Epoch 38/100\n",
            "1/1 [==============================] - 0s 3ms/step - loss: 0.2211\n",
            "Epoch 39/100\n",
            "1/1 [==============================] - 0s 3ms/step - loss: 0.2137\n",
            "Epoch 40/100\n",
            "1/1 [==============================] - 0s 3ms/step - loss: 0.2063\n",
            "Epoch 41/100\n",
            "1/1 [==============================] - 0s 5ms/step - loss: 0.1990\n",
            "Epoch 42/100\n",
            "1/1 [==============================] - 0s 3ms/step - loss: 0.1919\n",
            "Epoch 43/100\n",
            "1/1 [==============================] - 0s 3ms/step - loss: 0.1848\n",
            "Epoch 44/100\n",
            "1/1 [==============================] - 0s 2ms/step - loss: 0.1779\n",
            "Epoch 45/100\n",
            "1/1 [==============================] - 0s 3ms/step - loss: 0.1712\n",
            "Epoch 46/100\n",
            "1/1 [==============================] - 0s 3ms/step - loss: 0.1647\n",
            "Epoch 47/100\n",
            "1/1 [==============================] - 0s 3ms/step - loss: 0.1583\n",
            "Epoch 48/100\n",
            "1/1 [==============================] - 0s 3ms/step - loss: 0.1522\n",
            "Epoch 49/100\n",
            "1/1 [==============================] - 0s 2ms/step - loss: 0.1462\n",
            "Epoch 50/100\n",
            "1/1 [==============================] - 0s 3ms/step - loss: 0.1404\n",
            "Epoch 51/100\n",
            "1/1 [==============================] - 0s 4ms/step - loss: 0.1349\n",
            "Epoch 52/100\n",
            "1/1 [==============================] - 0s 2ms/step - loss: 0.1295\n",
            "Epoch 53/100\n",
            "1/1 [==============================] - 0s 3ms/step - loss: 0.1243\n",
            "Epoch 54/100\n",
            "1/1 [==============================] - 0s 3ms/step - loss: 0.1193\n",
            "Epoch 55/100\n",
            "1/1 [==============================] - 0s 3ms/step - loss: 0.1145\n",
            "Epoch 56/100\n",
            "1/1 [==============================] - 0s 2ms/step - loss: 0.1099\n",
            "Epoch 57/100\n",
            "1/1 [==============================] - 0s 3ms/step - loss: 0.1054\n",
            "Epoch 58/100\n",
            "1/1 [==============================] - 0s 3ms/step - loss: 0.1011\n",
            "Epoch 59/100\n",
            "1/1 [==============================] - 0s 3ms/step - loss: 0.0970\n",
            "Epoch 60/100\n",
            "1/1 [==============================] - 0s 7ms/step - loss: 0.0930\n",
            "Epoch 61/100\n",
            "1/1 [==============================] - 0s 5ms/step - loss: 0.0892\n",
            "Epoch 62/100\n",
            "1/1 [==============================] - 0s 3ms/step - loss: 0.0855\n",
            "Epoch 63/100\n",
            "1/1 [==============================] - 0s 7ms/step - loss: 0.0819\n",
            "Epoch 64/100\n",
            "1/1 [==============================] - 0s 3ms/step - loss: 0.0785\n",
            "Epoch 65/100\n",
            "1/1 [==============================] - 0s 3ms/step - loss: 0.0751\n",
            "Epoch 66/100\n",
            "1/1 [==============================] - 0s 2ms/step - loss: 0.0719\n",
            "Epoch 67/100\n",
            "1/1 [==============================] - 0s 3ms/step - loss: 0.0688\n",
            "Epoch 68/100\n",
            "1/1 [==============================] - 0s 3ms/step - loss: 0.0658\n",
            "Epoch 69/100\n",
            "1/1 [==============================] - 0s 3ms/step - loss: 0.0629\n",
            "Epoch 70/100\n",
            "1/1 [==============================] - 0s 5ms/step - loss: 0.0601\n",
            "Epoch 71/100\n",
            "1/1 [==============================] - 0s 3ms/step - loss: 0.0574\n",
            "Epoch 72/100\n",
            "1/1 [==============================] - 0s 5ms/step - loss: 0.0548\n",
            "Epoch 73/100\n",
            "1/1 [==============================] - 0s 3ms/step - loss: 0.0523\n",
            "Epoch 74/100\n",
            "1/1 [==============================] - 0s 6ms/step - loss: 0.0498\n",
            "Epoch 75/100\n",
            "1/1 [==============================] - 0s 6ms/step - loss: 0.0475\n",
            "Epoch 76/100\n",
            "1/1 [==============================] - 0s 7ms/step - loss: 0.0452\n",
            "Epoch 77/100\n",
            "1/1 [==============================] - 0s 4ms/step - loss: 0.0430\n",
            "Epoch 78/100\n",
            "1/1 [==============================] - 0s 7ms/step - loss: 0.0409\n",
            "Epoch 79/100\n",
            "1/1 [==============================] - 0s 3ms/step - loss: 0.0388\n",
            "Epoch 80/100\n",
            "1/1 [==============================] - 0s 3ms/step - loss: 0.0368\n",
            "Epoch 81/100\n",
            "1/1 [==============================] - 0s 2ms/step - loss: 0.0349\n",
            "Epoch 82/100\n",
            "1/1 [==============================] - 0s 2ms/step - loss: 0.0331\n",
            "Epoch 83/100\n",
            "1/1 [==============================] - 0s 3ms/step - loss: 0.0314\n",
            "Epoch 84/100\n",
            "1/1 [==============================] - 0s 3ms/step - loss: 0.0297\n",
            "Epoch 85/100\n",
            "1/1 [==============================] - 0s 2ms/step - loss: 0.0280\n",
            "Epoch 86/100\n",
            "1/1 [==============================] - 0s 2ms/step - loss: 0.0265\n",
            "Epoch 87/100\n",
            "1/1 [==============================] - 0s 2ms/step - loss: 0.0249\n",
            "Epoch 88/100\n",
            "1/1 [==============================] - 0s 3ms/step - loss: 0.0235\n",
            "Epoch 89/100\n",
            "1/1 [==============================] - 0s 5ms/step - loss: 0.0221\n",
            "Epoch 90/100\n",
            "1/1 [==============================] - 0s 3ms/step - loss: 0.0208\n",
            "Epoch 91/100\n",
            "1/1 [==============================] - 0s 6ms/step - loss: 0.0195\n",
            "Epoch 92/100\n",
            "1/1 [==============================] - 0s 3ms/step - loss: 0.0183\n",
            "Epoch 93/100\n",
            "1/1 [==============================] - 0s 4ms/step - loss: 0.0171\n",
            "Epoch 94/100\n",
            "1/1 [==============================] - 0s 3ms/step - loss: 0.0160\n",
            "Epoch 95/100\n",
            "1/1 [==============================] - 0s 5ms/step - loss: 0.0149\n",
            "Epoch 96/100\n",
            "1/1 [==============================] - 0s 3ms/step - loss: 0.0139\n",
            "Epoch 97/100\n",
            "1/1 [==============================] - 0s 3ms/step - loss: 0.0129\n",
            "Epoch 98/100\n",
            "1/1 [==============================] - 0s 5ms/step - loss: 0.0120\n",
            "Epoch 99/100\n",
            "1/1 [==============================] - 0s 4ms/step - loss: 0.0111\n",
            "Epoch 100/100\n",
            "1/1 [==============================] - 0s 3ms/step - loss: 0.0102\n",
            "CPU times: user 7.47 s, sys: 453 ms, total: 7.92 s\n",
            "Wall time: 6.79 s\n"
          ],
          "name": "stdout"
        },
        {
          "output_type": "execute_result",
          "data": {
            "text/plain": [
              "<tensorflow.python.keras.callbacks.History at 0x7f537d798ac8>"
            ]
          },
          "metadata": {
            "tags": []
          },
          "execution_count": 78
        }
      ]
    },
    {
      "cell_type": "code",
      "metadata": {
        "id": "Q6ue7VVzuw49"
      },
      "source": [
        "###Activation Functions"
      ],
      "execution_count": 79,
      "outputs": []
    },
    {
      "cell_type": "code",
      "metadata": {
        "id": "h8xpTfkku0Wo"
      },
      "source": [
        "# Model 3: two LSTM layers, trained for 300 epochs,\n",
        "#          tanh activation function\n",
        "model_v3 = Sequential()\n",
        "\n",
        "model_v3.add(LSTM(\n",
        "    units=period_length,\n",
        "    batch_input_shape=(batch_size, number_of_periods, period_length),\n",
        "    input_shape=(number_of_periods, period_length),\n",
        "    return_sequences=True, stateful=False))\n",
        "\n",
        "model_v3.add(LSTM(\n",
        "    units=period_length,\n",
        "    batch_input_shape=(batch_size, number_of_periods, period_length),\n",
        "    input_shape=(number_of_periods, period_length),\n",
        "    return_sequences=False, stateful=False))\n",
        "\n",
        "model_v3.add(Dense(units=period_length))\n",
        "\n",
        "#  TASK:\n",
        "#  Change the activation function\n",
        "#  from \"linear\" to \"tanh\".\n",
        "#\n",
        "model_v3.add(Activation(\"linear\"))\n",
        "\n",
        "model_v3.compile(loss=\"mse\", optimizer=\"rmsprop\")"
      ],
      "execution_count": 80,
      "outputs": []
    },
    {
      "cell_type": "code",
      "metadata": {
        "id": "hcqoFPfRu3Bm",
        "outputId": "91ae6014-d979-485c-de94-3dca6ab95884",
        "colab": {
          "base_uri": "https://localhost:8080/"
        }
      },
      "source": [
        "%%time\n",
        "train_model(model=model_v3, X=X_train, Y=Y_train, epochs=300, version=3, run_number=0)"
      ],
      "execution_count": 81,
      "outputs": [
        {
          "output_type": "stream",
          "text": [
            "Epoch 1/300\n",
            "1/1 [==============================] - 0s 3ms/step - loss: 0.4921\n",
            "Epoch 2/300\n",
            "1/1 [==============================] - 0s 6ms/step - loss: 0.4547\n",
            "Epoch 3/300\n",
            "1/1 [==============================] - 0s 3ms/step - loss: 0.4329\n",
            "Epoch 4/300\n",
            "1/1 [==============================] - 0s 3ms/step - loss: 0.4167\n",
            "Epoch 5/300\n",
            "1/1 [==============================] - 0s 3ms/step - loss: 0.4034\n",
            "Epoch 6/300\n",
            "1/1 [==============================] - 0s 3ms/step - loss: 0.3920\n",
            "Epoch 7/300\n",
            "1/1 [==============================] - 0s 7ms/step - loss: 0.3817\n",
            "Epoch 8/300\n",
            "1/1 [==============================] - 0s 3ms/step - loss: 0.3724\n",
            "Epoch 9/300\n",
            "1/1 [==============================] - 0s 3ms/step - loss: 0.3636\n",
            "Epoch 10/300\n",
            "1/1 [==============================] - 0s 4ms/step - loss: 0.3553\n",
            "Epoch 11/300\n",
            "1/1 [==============================] - 0s 3ms/step - loss: 0.3473\n",
            "Epoch 12/300\n",
            "1/1 [==============================] - 0s 3ms/step - loss: 0.3396\n",
            "Epoch 13/300\n",
            "1/1 [==============================] - 0s 5ms/step - loss: 0.3321\n",
            "Epoch 14/300\n",
            "1/1 [==============================] - 0s 3ms/step - loss: 0.3248\n",
            "Epoch 15/300\n",
            "1/1 [==============================] - 0s 2ms/step - loss: 0.3176\n",
            "Epoch 16/300\n",
            "1/1 [==============================] - 0s 3ms/step - loss: 0.3105\n",
            "Epoch 17/300\n",
            "1/1 [==============================] - 0s 4ms/step - loss: 0.3034\n",
            "Epoch 18/300\n",
            "1/1 [==============================] - 0s 4ms/step - loss: 0.2964\n",
            "Epoch 19/300\n",
            "1/1 [==============================] - 0s 3ms/step - loss: 0.2895\n",
            "Epoch 20/300\n",
            "1/1 [==============================] - 0s 3ms/step - loss: 0.2826\n",
            "Epoch 21/300\n",
            "1/1 [==============================] - 0s 4ms/step - loss: 0.2757\n",
            "Epoch 22/300\n",
            "1/1 [==============================] - 0s 4ms/step - loss: 0.2688\n",
            "Epoch 23/300\n",
            "1/1 [==============================] - 0s 3ms/step - loss: 0.2618\n",
            "Epoch 24/300\n",
            "1/1 [==============================] - 0s 3ms/step - loss: 0.2549\n",
            "Epoch 25/300\n",
            "1/1 [==============================] - 0s 3ms/step - loss: 0.2479\n",
            "Epoch 26/300\n",
            "1/1 [==============================] - 0s 4ms/step - loss: 0.2409\n",
            "Epoch 27/300\n",
            "1/1 [==============================] - 0s 6ms/step - loss: 0.2339\n",
            "Epoch 28/300\n",
            "1/1 [==============================] - 0s 3ms/step - loss: 0.2268\n",
            "Epoch 29/300\n",
            "1/1 [==============================] - 0s 3ms/step - loss: 0.2197\n",
            "Epoch 30/300\n",
            "1/1 [==============================] - 0s 3ms/step - loss: 0.2125\n",
            "Epoch 31/300\n",
            "1/1 [==============================] - 0s 3ms/step - loss: 0.2054\n",
            "Epoch 32/300\n",
            "1/1 [==============================] - 0s 4ms/step - loss: 0.1982\n",
            "Epoch 33/300\n",
            "1/1 [==============================] - 0s 6ms/step - loss: 0.1911\n",
            "Epoch 34/300\n",
            "1/1 [==============================] - 0s 3ms/step - loss: 0.1841\n",
            "Epoch 35/300\n",
            "1/1 [==============================] - 0s 8ms/step - loss: 0.1771\n",
            "Epoch 36/300\n",
            "1/1 [==============================] - 0s 4ms/step - loss: 0.1702\n",
            "Epoch 37/300\n",
            "1/1 [==============================] - 0s 3ms/step - loss: 0.1634\n",
            "Epoch 38/300\n",
            "1/1 [==============================] - 0s 3ms/step - loss: 0.1567\n",
            "Epoch 39/300\n",
            "1/1 [==============================] - 0s 3ms/step - loss: 0.1502\n",
            "Epoch 40/300\n",
            "1/1 [==============================] - 0s 6ms/step - loss: 0.1438\n",
            "Epoch 41/300\n",
            "1/1 [==============================] - 0s 3ms/step - loss: 0.1376\n",
            "Epoch 42/300\n",
            "1/1 [==============================] - 0s 4ms/step - loss: 0.1316\n",
            "Epoch 43/300\n",
            "1/1 [==============================] - 0s 4ms/step - loss: 0.1258\n",
            "Epoch 44/300\n",
            "1/1 [==============================] - 0s 3ms/step - loss: 0.1201\n",
            "Epoch 45/300\n",
            "1/1 [==============================] - 0s 4ms/step - loss: 0.1146\n",
            "Epoch 46/300\n",
            "1/1 [==============================] - 0s 3ms/step - loss: 0.1092\n",
            "Epoch 47/300\n",
            "1/1 [==============================] - 0s 6ms/step - loss: 0.1041\n",
            "Epoch 48/300\n",
            "1/1 [==============================] - 0s 2ms/step - loss: 0.0991\n",
            "Epoch 49/300\n",
            "1/1 [==============================] - 0s 3ms/step - loss: 0.0942\n",
            "Epoch 50/300\n",
            "1/1 [==============================] - 0s 3ms/step - loss: 0.0896\n",
            "Epoch 51/300\n",
            "1/1 [==============================] - 0s 3ms/step - loss: 0.0851\n",
            "Epoch 52/300\n",
            "1/1 [==============================] - 0s 3ms/step - loss: 0.0807\n",
            "Epoch 53/300\n",
            "1/1 [==============================] - 0s 4ms/step - loss: 0.0765\n",
            "Epoch 54/300\n",
            "1/1 [==============================] - 0s 5ms/step - loss: 0.0725\n",
            "Epoch 55/300\n",
            "1/1 [==============================] - 0s 3ms/step - loss: 0.0686\n",
            "Epoch 56/300\n",
            "1/1 [==============================] - 0s 4ms/step - loss: 0.0649\n",
            "Epoch 57/300\n",
            "1/1 [==============================] - 0s 5ms/step - loss: 0.0613\n",
            "Epoch 58/300\n",
            "1/1 [==============================] - 0s 3ms/step - loss: 0.0579\n",
            "Epoch 59/300\n",
            "1/1 [==============================] - 0s 5ms/step - loss: 0.0545\n",
            "Epoch 60/300\n",
            "1/1 [==============================] - 0s 3ms/step - loss: 0.0514\n",
            "Epoch 61/300\n",
            "1/1 [==============================] - 0s 11ms/step - loss: 0.0483\n",
            "Epoch 62/300\n",
            "1/1 [==============================] - 0s 4ms/step - loss: 0.0454\n",
            "Epoch 63/300\n",
            "1/1 [==============================] - 0s 2ms/step - loss: 0.0425\n",
            "Epoch 64/300\n",
            "1/1 [==============================] - 0s 2ms/step - loss: 0.0398\n",
            "Epoch 65/300\n",
            "1/1 [==============================] - 0s 3ms/step - loss: 0.0372\n",
            "Epoch 66/300\n",
            "1/1 [==============================] - 0s 3ms/step - loss: 0.0347\n",
            "Epoch 67/300\n",
            "1/1 [==============================] - 0s 2ms/step - loss: 0.0323\n",
            "Epoch 68/300\n",
            "1/1 [==============================] - 0s 3ms/step - loss: 0.0300\n",
            "Epoch 69/300\n",
            "1/1 [==============================] - 0s 3ms/step - loss: 0.0278\n",
            "Epoch 70/300\n",
            "1/1 [==============================] - 0s 2ms/step - loss: 0.0257\n",
            "Epoch 71/300\n",
            "1/1 [==============================] - 0s 3ms/step - loss: 0.0237\n",
            "Epoch 72/300\n",
            "1/1 [==============================] - 0s 3ms/step - loss: 0.0217\n",
            "Epoch 73/300\n",
            "1/1 [==============================] - 0s 3ms/step - loss: 0.0199\n",
            "Epoch 74/300\n",
            "1/1 [==============================] - 0s 4ms/step - loss: 0.0182\n",
            "Epoch 75/300\n",
            "1/1 [==============================] - 0s 5ms/step - loss: 0.0166\n",
            "Epoch 76/300\n",
            "1/1 [==============================] - 0s 3ms/step - loss: 0.0150\n",
            "Epoch 77/300\n",
            "1/1 [==============================] - 0s 3ms/step - loss: 0.0136\n",
            "Epoch 78/300\n",
            "1/1 [==============================] - 0s 5ms/step - loss: 0.0122\n",
            "Epoch 79/300\n",
            "1/1 [==============================] - 0s 6ms/step - loss: 0.0110\n",
            "Epoch 80/300\n",
            "1/1 [==============================] - 0s 4ms/step - loss: 0.0098\n",
            "Epoch 81/300\n",
            "1/1 [==============================] - 0s 4ms/step - loss: 0.0087\n",
            "Epoch 82/300\n",
            "1/1 [==============================] - 0s 4ms/step - loss: 0.0095\n",
            "Epoch 83/300\n",
            "1/1 [==============================] - 0s 5ms/step - loss: 0.0111\n",
            "Epoch 84/300\n",
            "1/1 [==============================] - 0s 3ms/step - loss: 0.0075\n",
            "Epoch 85/300\n",
            "1/1 [==============================] - 0s 3ms/step - loss: 0.0060\n",
            "Epoch 86/300\n",
            "1/1 [==============================] - 0s 4ms/step - loss: 0.0053\n",
            "Epoch 87/300\n",
            "1/1 [==============================] - 0s 6ms/step - loss: 0.0047\n",
            "Epoch 88/300\n",
            "1/1 [==============================] - 0s 3ms/step - loss: 0.0041\n",
            "Epoch 89/300\n",
            "1/1 [==============================] - 0s 3ms/step - loss: 0.0036\n",
            "Epoch 90/300\n",
            "1/1 [==============================] - 0s 4ms/step - loss: 0.0032\n",
            "Epoch 91/300\n",
            "1/1 [==============================] - 0s 3ms/step - loss: 0.0028\n",
            "Epoch 92/300\n",
            "1/1 [==============================] - 0s 4ms/step - loss: 0.0026\n",
            "Epoch 93/300\n",
            "1/1 [==============================] - 0s 3ms/step - loss: 0.0036\n",
            "Epoch 94/300\n",
            "1/1 [==============================] - 0s 4ms/step - loss: 0.0035\n",
            "Epoch 95/300\n",
            "1/1 [==============================] - 0s 3ms/step - loss: 0.0053\n",
            "Epoch 96/300\n",
            "1/1 [==============================] - 0s 3ms/step - loss: 0.0023\n",
            "Epoch 97/300\n",
            "1/1 [==============================] - 0s 4ms/step - loss: 0.0014\n",
            "Epoch 98/300\n",
            "1/1 [==============================] - 0s 4ms/step - loss: 0.0012\n",
            "Epoch 99/300\n",
            "1/1 [==============================] - 0s 3ms/step - loss: 0.0010\n",
            "Epoch 100/300\n",
            "1/1 [==============================] - 0s 4ms/step - loss: 8.7949e-04\n",
            "Epoch 101/300\n",
            "1/1 [==============================] - 0s 3ms/step - loss: 7.3957e-04\n",
            "Epoch 102/300\n",
            "1/1 [==============================] - 0s 3ms/step - loss: 6.1935e-04\n",
            "Epoch 103/300\n",
            "1/1 [==============================] - 0s 3ms/step - loss: 5.2001e-04\n",
            "Epoch 104/300\n",
            "1/1 [==============================] - 0s 3ms/step - loss: 4.5443e-04\n",
            "Epoch 105/300\n",
            "1/1 [==============================] - 0s 3ms/step - loss: 5.1131e-04\n",
            "Epoch 106/300\n",
            "1/1 [==============================] - 0s 3ms/step - loss: 0.0010\n",
            "Epoch 107/300\n",
            "1/1 [==============================] - 0s 5ms/step - loss: 0.0032\n",
            "Epoch 108/300\n",
            "1/1 [==============================] - 0s 3ms/step - loss: 4.0008e-04\n",
            "Epoch 109/300\n",
            "1/1 [==============================] - 0s 2ms/step - loss: 2.2314e-04\n",
            "Epoch 110/300\n",
            "1/1 [==============================] - 0s 3ms/step - loss: 1.7493e-04\n",
            "Epoch 111/300\n",
            "1/1 [==============================] - 0s 7ms/step - loss: 1.4201e-04\n",
            "Epoch 112/300\n",
            "1/1 [==============================] - 0s 3ms/step - loss: 1.2299e-04\n",
            "Epoch 113/300\n",
            "1/1 [==============================] - 0s 3ms/step - loss: 1.2795e-04\n",
            "Epoch 114/300\n",
            "1/1 [==============================] - 0s 3ms/step - loss: 2.4329e-04\n",
            "Epoch 115/300\n",
            "1/1 [==============================] - 0s 7ms/step - loss: 5.7565e-04\n",
            "Epoch 116/300\n",
            "1/1 [==============================] - 0s 4ms/step - loss: 0.0019\n",
            "Epoch 117/300\n",
            "1/1 [==============================] - 0s 3ms/step - loss: 2.0594e-04\n",
            "Epoch 118/300\n",
            "1/1 [==============================] - 0s 3ms/step - loss: 1.7151e-04\n",
            "Epoch 119/300\n",
            "1/1 [==============================] - 0s 8ms/step - loss: 1.4164e-04\n",
            "Epoch 120/300\n",
            "1/1 [==============================] - 0s 3ms/step - loss: 2.2018e-04\n",
            "Epoch 121/300\n",
            "1/1 [==============================] - 0s 6ms/step - loss: 2.0910e-04\n",
            "Epoch 122/300\n",
            "1/1 [==============================] - 0s 3ms/step - loss: 4.2030e-04\n",
            "Epoch 123/300\n",
            "1/1 [==============================] - 0s 4ms/step - loss: 2.8581e-04\n",
            "Epoch 124/300\n",
            "1/1 [==============================] - 0s 3ms/step - loss: 5.1434e-04\n",
            "Epoch 125/300\n",
            "1/1 [==============================] - 0s 6ms/step - loss: 2.2977e-04\n",
            "Epoch 126/300\n",
            "1/1 [==============================] - 0s 3ms/step - loss: 3.1517e-04\n",
            "Epoch 127/300\n",
            "1/1 [==============================] - 0s 6ms/step - loss: 1.7049e-04\n",
            "Epoch 128/300\n",
            "1/1 [==============================] - 0s 3ms/step - loss: 2.2320e-04\n",
            "Epoch 129/300\n",
            "1/1 [==============================] - 0s 6ms/step - loss: 1.4832e-04\n",
            "Epoch 130/300\n",
            "1/1 [==============================] - 0s 3ms/step - loss: 2.0781e-04\n",
            "Epoch 131/300\n",
            "1/1 [==============================] - 0s 5ms/step - loss: 1.5650e-04\n",
            "Epoch 132/300\n",
            "1/1 [==============================] - 0s 6ms/step - loss: 2.3451e-04\n",
            "Epoch 133/300\n",
            "1/1 [==============================] - 0s 3ms/step - loss: 1.7944e-04\n",
            "Epoch 134/300\n",
            "1/1 [==============================] - 0s 3ms/step - loss: 2.6937e-04\n",
            "Epoch 135/300\n",
            "1/1 [==============================] - 0s 3ms/step - loss: 1.9224e-04\n",
            "Epoch 136/300\n",
            "1/1 [==============================] - 0s 3ms/step - loss: 2.7030e-04\n",
            "Epoch 137/300\n",
            "1/1 [==============================] - 0s 6ms/step - loss: 1.8221e-04\n",
            "Epoch 138/300\n",
            "1/1 [==============================] - 0s 3ms/step - loss: 2.3815e-04\n",
            "Epoch 139/300\n",
            "1/1 [==============================] - 0s 5ms/step - loss: 1.6356e-04\n",
            "Epoch 140/300\n",
            "1/1 [==============================] - 0s 3ms/step - loss: 2.0785e-04\n",
            "Epoch 141/300\n",
            "1/1 [==============================] - 0s 5ms/step - loss: 1.5231e-04\n",
            "Epoch 142/300\n",
            "1/1 [==============================] - 0s 3ms/step - loss: 1.9605e-04\n",
            "Epoch 143/300\n",
            "1/1 [==============================] - 0s 3ms/step - loss: 1.5278e-04\n",
            "Epoch 144/300\n",
            "1/1 [==============================] - 0s 7ms/step - loss: 2.0075e-04\n",
            "Epoch 145/300\n",
            "1/1 [==============================] - 0s 5ms/step - loss: 1.6076e-04\n",
            "Epoch 146/300\n",
            "1/1 [==============================] - 0s 3ms/step - loss: 2.1108e-04\n",
            "Epoch 147/300\n",
            "1/1 [==============================] - 0s 4ms/step - loss: 1.6765e-04\n",
            "Epoch 148/300\n",
            "1/1 [==============================] - 0s 7ms/step - loss: 2.1384e-04\n",
            "Epoch 149/300\n",
            "1/1 [==============================] - 0s 5ms/step - loss: 1.6775e-04\n",
            "Epoch 150/300\n",
            "1/1 [==============================] - 0s 4ms/step - loss: 2.0523e-04\n",
            "Epoch 151/300\n",
            "1/1 [==============================] - 0s 3ms/step - loss: 1.6301e-04\n",
            "Epoch 152/300\n",
            "1/1 [==============================] - 0s 3ms/step - loss: 1.9150e-04\n",
            "Epoch 153/300\n",
            "1/1 [==============================] - 0s 3ms/step - loss: 1.5482e-04\n",
            "Epoch 154/300\n",
            "1/1 [==============================] - 0s 3ms/step - loss: 1.8109e-04\n",
            "Epoch 155/300\n",
            "1/1 [==============================] - 0s 3ms/step - loss: 1.4868e-04\n",
            "Epoch 156/300\n",
            "1/1 [==============================] - 0s 3ms/step - loss: 1.7907e-04\n",
            "Epoch 157/300\n",
            "1/1 [==============================] - 0s 3ms/step - loss: 1.4826e-04\n",
            "Epoch 158/300\n",
            "1/1 [==============================] - 0s 7ms/step - loss: 1.8185e-04\n",
            "Epoch 159/300\n",
            "1/1 [==============================] - 0s 3ms/step - loss: 1.5007e-04\n",
            "Epoch 160/300\n",
            "1/1 [==============================] - 0s 3ms/step - loss: 1.8282e-04\n",
            "Epoch 161/300\n",
            "1/1 [==============================] - 0s 3ms/step - loss: 1.5049e-04\n",
            "Epoch 162/300\n",
            "1/1 [==============================] - 0s 3ms/step - loss: 1.7935e-04\n",
            "Epoch 163/300\n",
            "1/1 [==============================] - 0s 12ms/step - loss: 1.4938e-04\n",
            "Epoch 164/300\n",
            "1/1 [==============================] - 0s 6ms/step - loss: 1.7366e-04\n",
            "Epoch 165/300\n",
            "1/1 [==============================] - 0s 4ms/step - loss: 1.4663e-04\n",
            "Epoch 166/300\n",
            "1/1 [==============================] - 0s 4ms/step - loss: 1.6780e-04\n",
            "Epoch 167/300\n",
            "1/1 [==============================] - 0s 6ms/step - loss: 1.4246e-04\n",
            "Epoch 168/300\n",
            "1/1 [==============================] - 0s 3ms/step - loss: 1.6394e-04\n",
            "Epoch 169/300\n",
            "1/1 [==============================] - 0s 6ms/step - loss: 1.3976e-04\n",
            "Epoch 170/300\n",
            "1/1 [==============================] - 0s 3ms/step - loss: 1.6313e-04\n",
            "Epoch 171/300\n",
            "1/1 [==============================] - 0s 6ms/step - loss: 1.3924e-04\n",
            "Epoch 172/300\n",
            "1/1 [==============================] - 0s 3ms/step - loss: 1.6300e-04\n",
            "Epoch 173/300\n",
            "1/1 [==============================] - 0s 3ms/step - loss: 1.3881e-04\n",
            "Epoch 174/300\n",
            "1/1 [==============================] - 0s 3ms/step - loss: 1.6094e-04\n",
            "Epoch 175/300\n",
            "1/1 [==============================] - 0s 4ms/step - loss: 1.3776e-04\n",
            "Epoch 176/300\n",
            "1/1 [==============================] - 0s 5ms/step - loss: 1.5768e-04\n",
            "Epoch 177/300\n",
            "1/1 [==============================] - 0s 5ms/step - loss: 1.3673e-04\n",
            "Epoch 178/300\n",
            "1/1 [==============================] - 0s 9ms/step - loss: 1.5462e-04\n",
            "Epoch 179/300\n",
            "1/1 [==============================] - 0s 3ms/step - loss: 1.3513e-04\n",
            "Epoch 180/300\n",
            "1/1 [==============================] - 0s 3ms/step - loss: 1.5188e-04\n",
            "Epoch 181/300\n",
            "1/1 [==============================] - 0s 6ms/step - loss: 1.3287e-04\n",
            "Epoch 182/300\n",
            "1/1 [==============================] - 0s 8ms/step - loss: 1.4971e-04\n",
            "Epoch 183/300\n",
            "1/1 [==============================] - 0s 3ms/step - loss: 1.3088e-04\n",
            "Epoch 184/300\n",
            "1/1 [==============================] - 0s 3ms/step - loss: 1.4812e-04\n",
            "Epoch 185/300\n",
            "1/1 [==============================] - 0s 3ms/step - loss: 1.2963e-04\n",
            "Epoch 186/300\n",
            "1/1 [==============================] - 0s 2ms/step - loss: 1.4705e-04\n",
            "Epoch 187/300\n",
            "1/1 [==============================] - 0s 3ms/step - loss: 1.2949e-04\n",
            "Epoch 188/300\n",
            "1/1 [==============================] - 0s 3ms/step - loss: 1.4638e-04\n",
            "Epoch 189/300\n",
            "1/1 [==============================] - 0s 4ms/step - loss: 1.2858e-04\n",
            "Epoch 190/300\n",
            "1/1 [==============================] - 0s 3ms/step - loss: 1.4264e-04\n",
            "Epoch 191/300\n",
            "1/1 [==============================] - 0s 3ms/step - loss: 1.2400e-04\n",
            "Epoch 192/300\n",
            "1/1 [==============================] - 0s 3ms/step - loss: 1.3694e-04\n",
            "Epoch 193/300\n",
            "1/1 [==============================] - 0s 3ms/step - loss: 1.2136e-04\n",
            "Epoch 194/300\n",
            "1/1 [==============================] - 0s 4ms/step - loss: 1.3658e-04\n",
            "Epoch 195/300\n",
            "1/1 [==============================] - 0s 3ms/step - loss: 1.2505e-04\n",
            "Epoch 196/300\n",
            "1/1 [==============================] - 0s 3ms/step - loss: 1.4187e-04\n",
            "Epoch 197/300\n",
            "1/1 [==============================] - 0s 4ms/step - loss: 1.2977e-04\n",
            "Epoch 198/300\n",
            "1/1 [==============================] - 0s 6ms/step - loss: 1.4318e-04\n",
            "Epoch 199/300\n",
            "1/1 [==============================] - 0s 4ms/step - loss: 1.2657e-04\n",
            "Epoch 200/300\n",
            "1/1 [==============================] - 0s 5ms/step - loss: 1.3344e-04\n",
            "Epoch 201/300\n",
            "1/1 [==============================] - 0s 7ms/step - loss: 1.1387e-04\n",
            "Epoch 202/300\n",
            "1/1 [==============================] - 0s 10ms/step - loss: 1.1977e-04\n",
            "Epoch 203/300\n",
            "1/1 [==============================] - 0s 6ms/step - loss: 1.0539e-04\n",
            "Epoch 204/300\n",
            "1/1 [==============================] - 0s 4ms/step - loss: 1.1647e-04\n",
            "Epoch 205/300\n",
            "1/1 [==============================] - 0s 4ms/step - loss: 1.0864e-04\n",
            "Epoch 206/300\n",
            "1/1 [==============================] - 0s 9ms/step - loss: 1.2574e-04\n",
            "Epoch 207/300\n",
            "1/1 [==============================] - 0s 4ms/step - loss: 1.2072e-04\n",
            "Epoch 208/300\n",
            "1/1 [==============================] - 0s 7ms/step - loss: 1.4147e-04\n",
            "Epoch 209/300\n",
            "1/1 [==============================] - 0s 6ms/step - loss: 1.3416e-04\n",
            "Epoch 210/300\n",
            "1/1 [==============================] - 0s 7ms/step - loss: 1.5446e-04\n",
            "Epoch 211/300\n",
            "1/1 [==============================] - 0s 4ms/step - loss: 1.3268e-04\n",
            "Epoch 212/300\n",
            "1/1 [==============================] - 0s 5ms/step - loss: 1.3068e-04\n",
            "Epoch 213/300\n",
            "1/1 [==============================] - 0s 4ms/step - loss: 1.0097e-04\n",
            "Epoch 214/300\n",
            "1/1 [==============================] - 0s 4ms/step - loss: 1.0310e-04\n",
            "Epoch 215/300\n",
            "1/1 [==============================] - 0s 4ms/step - loss: 9.0857e-05\n",
            "Epoch 216/300\n",
            "1/1 [==============================] - 0s 6ms/step - loss: 1.0317e-04\n",
            "Epoch 217/300\n",
            "1/1 [==============================] - 0s 3ms/step - loss: 1.0428e-04\n",
            "Epoch 218/300\n",
            "1/1 [==============================] - 0s 11ms/step - loss: 1.2328e-04\n",
            "Epoch 219/300\n",
            "1/1 [==============================] - 0s 3ms/step - loss: 1.2320e-04\n",
            "Epoch 220/300\n",
            "1/1 [==============================] - 0s 3ms/step - loss: 1.3608e-04\n",
            "Epoch 221/300\n",
            "1/1 [==============================] - 0s 5ms/step - loss: 1.2200e-04\n",
            "Epoch 222/300\n",
            "1/1 [==============================] - 0s 3ms/step - loss: 1.2608e-04\n",
            "Epoch 223/300\n",
            "1/1 [==============================] - 0s 5ms/step - loss: 1.0630e-04\n",
            "Epoch 224/300\n",
            "1/1 [==============================] - 0s 3ms/step - loss: 1.0902e-04\n",
            "Epoch 225/300\n",
            "1/1 [==============================] - 0s 4ms/step - loss: 9.4619e-05\n",
            "Epoch 226/300\n",
            "1/1 [==============================] - 0s 3ms/step - loss: 1.0132e-04\n",
            "Epoch 227/300\n",
            "1/1 [==============================] - 0s 4ms/step - loss: 9.4508e-05\n",
            "Epoch 228/300\n",
            "1/1 [==============================] - 0s 7ms/step - loss: 1.0735e-04\n",
            "Epoch 229/300\n",
            "1/1 [==============================] - 0s 3ms/step - loss: 1.0590e-04\n",
            "Epoch 230/300\n",
            "1/1 [==============================] - 0s 5ms/step - loss: 1.2407e-04\n",
            "Epoch 231/300\n",
            "1/1 [==============================] - 0s 4ms/step - loss: 1.2218e-04\n",
            "Epoch 232/300\n",
            "1/1 [==============================] - 0s 6ms/step - loss: 1.3250e-04\n",
            "Epoch 233/300\n",
            "1/1 [==============================] - 0s 3ms/step - loss: 1.1111e-04\n",
            "Epoch 234/300\n",
            "1/1 [==============================] - 0s 3ms/step - loss: 1.0869e-04\n",
            "Epoch 235/300\n",
            "1/1 [==============================] - 0s 3ms/step - loss: 9.0260e-05\n",
            "Epoch 236/300\n",
            "1/1 [==============================] - 0s 3ms/step - loss: 9.3995e-05\n",
            "Epoch 237/300\n",
            "1/1 [==============================] - 0s 6ms/step - loss: 8.8303e-05\n",
            "Epoch 238/300\n",
            "1/1 [==============================] - 0s 3ms/step - loss: 1.0041e-04\n",
            "Epoch 239/300\n",
            "1/1 [==============================] - 0s 3ms/step - loss: 1.0282e-04\n",
            "Epoch 240/300\n",
            "1/1 [==============================] - 0s 7ms/step - loss: 1.1765e-04\n",
            "Epoch 241/300\n",
            "1/1 [==============================] - 0s 2ms/step - loss: 1.1349e-04\n",
            "Epoch 242/300\n",
            "1/1 [==============================] - 0s 6ms/step - loss: 1.1952e-04\n",
            "Epoch 243/300\n",
            "1/1 [==============================] - 0s 3ms/step - loss: 1.0423e-04\n",
            "Epoch 244/300\n",
            "1/1 [==============================] - 0s 2ms/step - loss: 1.0424e-04\n",
            "Epoch 245/300\n",
            "1/1 [==============================] - 0s 3ms/step - loss: 8.9211e-05\n",
            "Epoch 246/300\n",
            "1/1 [==============================] - 0s 7ms/step - loss: 9.0691e-05\n",
            "Epoch 247/300\n",
            "1/1 [==============================] - 0s 8ms/step - loss: 8.2663e-05\n",
            "Epoch 248/300\n",
            "1/1 [==============================] - 0s 7ms/step - loss: 9.0508e-05\n",
            "Epoch 249/300\n",
            "1/1 [==============================] - 0s 3ms/step - loss: 9.0287e-05\n",
            "Epoch 250/300\n",
            "1/1 [==============================] - 0s 3ms/step - loss: 1.0581e-04\n",
            "Epoch 251/300\n",
            "1/1 [==============================] - 0s 2ms/step - loss: 1.0860e-04\n",
            "Epoch 252/300\n",
            "1/1 [==============================] - 0s 5ms/step - loss: 1.2336e-04\n",
            "Epoch 253/300\n",
            "1/1 [==============================] - 0s 6ms/step - loss: 1.1418e-04\n",
            "Epoch 254/300\n",
            "1/1 [==============================] - 0s 6ms/step - loss: 1.1184e-04\n",
            "Epoch 255/300\n",
            "1/1 [==============================] - 0s 3ms/step - loss: 9.1357e-05\n",
            "Epoch 256/300\n",
            "1/1 [==============================] - 0s 3ms/step - loss: 8.7112e-05\n",
            "Epoch 257/300\n",
            "1/1 [==============================] - 0s 3ms/step - loss: 7.5863e-05\n",
            "Epoch 258/300\n",
            "1/1 [==============================] - 0s 3ms/step - loss: 7.9547e-05\n",
            "Epoch 259/300\n",
            "1/1 [==============================] - 0s 3ms/step - loss: 7.8704e-05\n",
            "Epoch 260/300\n",
            "1/1 [==============================] - 0s 6ms/step - loss: 9.1081e-05\n",
            "Epoch 261/300\n",
            "1/1 [==============================] - 0s 4ms/step - loss: 9.7623e-05\n",
            "Epoch 262/300\n",
            "1/1 [==============================] - 0s 7ms/step - loss: 1.1333e-04\n",
            "Epoch 263/300\n",
            "1/1 [==============================] - 0s 6ms/step - loss: 1.0993e-04\n",
            "Epoch 264/300\n",
            "1/1 [==============================] - 0s 8ms/step - loss: 1.1390e-04\n",
            "Epoch 265/300\n",
            "1/1 [==============================] - 0s 3ms/step - loss: 9.7165e-05\n",
            "Epoch 266/300\n",
            "1/1 [==============================] - 0s 3ms/step - loss: 9.3155e-05\n",
            "Epoch 267/300\n",
            "1/1 [==============================] - 0s 3ms/step - loss: 7.7994e-05\n",
            "Epoch 268/300\n",
            "1/1 [==============================] - 0s 4ms/step - loss: 7.6452e-05\n",
            "Epoch 269/300\n",
            "1/1 [==============================] - 0s 4ms/step - loss: 7.0676e-05\n",
            "Epoch 270/300\n",
            "1/1 [==============================] - 0s 3ms/step - loss: 7.7948e-05\n",
            "Epoch 271/300\n",
            "1/1 [==============================] - 0s 2ms/step - loss: 8.2810e-05\n",
            "Epoch 272/300\n",
            "1/1 [==============================] - 0s 4ms/step - loss: 1.0049e-04\n",
            "Epoch 273/300\n",
            "1/1 [==============================] - 0s 4ms/step - loss: 1.0837e-04\n",
            "Epoch 274/300\n",
            "1/1 [==============================] - 0s 3ms/step - loss: 1.1857e-04\n",
            "Epoch 275/300\n",
            "1/1 [==============================] - 0s 3ms/step - loss: 1.0656e-04\n",
            "Epoch 276/300\n",
            "1/1 [==============================] - 0s 2ms/step - loss: 9.8108e-05\n",
            "Epoch 277/300\n",
            "1/1 [==============================] - 0s 4ms/step - loss: 8.0976e-05\n",
            "Epoch 278/300\n",
            "1/1 [==============================] - 0s 4ms/step - loss: 7.5374e-05\n",
            "Epoch 279/300\n",
            "1/1 [==============================] - 0s 2ms/step - loss: 6.7747e-05\n",
            "Epoch 280/300\n",
            "1/1 [==============================] - 0s 3ms/step - loss: 6.9577e-05\n",
            "Epoch 281/300\n",
            "1/1 [==============================] - 0s 7ms/step - loss: 6.9671e-05\n",
            "Epoch 282/300\n",
            "1/1 [==============================] - 0s 2ms/step - loss: 7.7221e-05\n",
            "Epoch 283/300\n",
            "1/1 [==============================] - 0s 5ms/step - loss: 8.1143e-05\n",
            "Epoch 284/300\n",
            "1/1 [==============================] - 0s 3ms/step - loss: 9.2936e-05\n",
            "Epoch 285/300\n",
            "1/1 [==============================] - 0s 3ms/step - loss: 9.9217e-05\n",
            "Epoch 286/300\n",
            "1/1 [==============================] - 0s 7ms/step - loss: 1.1613e-04\n",
            "Epoch 287/300\n",
            "1/1 [==============================] - 0s 3ms/step - loss: 1.0885e-04\n",
            "Epoch 288/300\n",
            "1/1 [==============================] - 0s 3ms/step - loss: 1.0775e-04\n",
            "Epoch 289/300\n",
            "1/1 [==============================] - 0s 3ms/step - loss: 8.4475e-05\n",
            "Epoch 290/300\n",
            "1/1 [==============================] - 0s 4ms/step - loss: 7.4503e-05\n",
            "Epoch 291/300\n",
            "1/1 [==============================] - 0s 6ms/step - loss: 5.9543e-05\n",
            "Epoch 292/300\n",
            "1/1 [==============================] - 0s 4ms/step - loss: 5.5916e-05\n",
            "Epoch 293/300\n",
            "1/1 [==============================] - 0s 3ms/step - loss: 5.3112e-05\n",
            "Epoch 294/300\n",
            "1/1 [==============================] - 0s 3ms/step - loss: 6.0437e-05\n",
            "Epoch 295/300\n",
            "1/1 [==============================] - 0s 5ms/step - loss: 7.2464e-05\n",
            "Epoch 296/300\n",
            "1/1 [==============================] - 0s 3ms/step - loss: 9.8786e-05\n",
            "Epoch 297/300\n",
            "1/1 [==============================] - 0s 3ms/step - loss: 1.2225e-04\n",
            "Epoch 298/300\n",
            "1/1 [==============================] - 0s 3ms/step - loss: 1.3448e-04\n",
            "Epoch 299/300\n",
            "1/1 [==============================] - 0s 9ms/step - loss: 1.1869e-04\n",
            "Epoch 300/300\n",
            "1/1 [==============================] - 0s 7ms/step - loss: 9.8966e-05\n",
            "CPU times: user 17.4 s, sys: 982 ms, total: 18.4 s\n",
            "Wall time: 15.2 s\n"
          ],
          "name": "stdout"
        },
        {
          "output_type": "execute_result",
          "data": {
            "text/plain": [
              "<tensorflow.python.keras.callbacks.History at 0x7f537c77bc88>"
            ]
          },
          "metadata": {
            "tags": []
          },
          "execution_count": 81
        }
      ]
    },
    {
      "cell_type": "code",
      "metadata": {
        "id": "fPq9Swjju5EX"
      },
      "source": [
        "###Regularization Strategies"
      ],
      "execution_count": 82,
      "outputs": []
    },
    {
      "cell_type": "code",
      "metadata": {
        "id": "L69V537ju71f"
      },
      "source": [
        "model_v4 = Sequential()\n",
        "model_v4.add(LSTM(\n",
        "    units=period_length,\n",
        "    batch_input_shape=(batch_size, number_of_periods, period_length),\n",
        "    input_shape=(number_of_periods, period_length),\n",
        "    return_sequences=True, stateful=False))\n",
        "\n",
        "#  TASK:\n",
        "#  Implement a Dropout() here.\n",
        "#\n",
        "\n",
        "\n",
        "model_v4.add(LSTM(\n",
        "    units=period_length,\n",
        "    batch_input_shape=(batch_size, number_of_periods, period_length),\n",
        "    input_shape=(number_of_periods, period_length),\n",
        "    return_sequences=False, stateful=False))\n",
        "\n",
        "#  TASK:\n",
        "#  Implement a Dropout() here too.\n",
        "#\n",
        "\n",
        "\n",
        "model_v4.add(Dense(units=period_length))\n",
        "model_v4.add(Activation(\"tanh\"))\n",
        "\n",
        "model_v4.compile(loss=\"mse\", optimizer=\"rmsprop\")"
      ],
      "execution_count": 83,
      "outputs": []
    },
    {
      "cell_type": "code",
      "metadata": {
        "id": "D0hmmgE8u_c2",
        "outputId": "846ed4d0-d03c-468c-fdb9-4c462516a66e",
        "colab": {
          "base_uri": "https://localhost:8080/"
        }
      },
      "source": [
        "%%time\n",
        "train_model(model=model_v4, X=X_train, Y=Y_train, epochs=600, version=4, run_number=0)"
      ],
      "execution_count": 84,
      "outputs": [
        {
          "output_type": "stream",
          "text": [
            "Epoch 1/600\n",
            "1/1 [==============================] - 0s 3ms/step - loss: 0.3725\n",
            "Epoch 2/600\n",
            "1/1 [==============================] - 0s 3ms/step - loss: 0.2938\n",
            "Epoch 3/600\n",
            "1/1 [==============================] - 0s 3ms/step - loss: 0.2591\n",
            "Epoch 4/600\n",
            "1/1 [==============================] - 0s 6ms/step - loss: 0.2345\n",
            "Epoch 5/600\n",
            "1/1 [==============================] - 0s 3ms/step - loss: 0.2152\n",
            "Epoch 6/600\n",
            "1/1 [==============================] - 0s 3ms/step - loss: 0.1994\n",
            "Epoch 7/600\n",
            "1/1 [==============================] - 0s 2ms/step - loss: 0.1859\n",
            "Epoch 8/600\n",
            "1/1 [==============================] - 0s 3ms/step - loss: 0.1743\n",
            "Epoch 9/600\n",
            "1/1 [==============================] - 0s 3ms/step - loss: 0.1641\n",
            "Epoch 10/600\n",
            "1/1 [==============================] - 0s 3ms/step - loss: 0.1550\n",
            "Epoch 11/600\n",
            "1/1 [==============================] - 0s 3ms/step - loss: 0.1468\n",
            "Epoch 12/600\n",
            "1/1 [==============================] - 0s 3ms/step - loss: 0.1394\n",
            "Epoch 13/600\n",
            "1/1 [==============================] - 0s 2ms/step - loss: 0.1325\n",
            "Epoch 14/600\n",
            "1/1 [==============================] - 0s 3ms/step - loss: 0.1263\n",
            "Epoch 15/600\n",
            "1/1 [==============================] - 0s 3ms/step - loss: 0.1204\n",
            "Epoch 16/600\n",
            "1/1 [==============================] - 0s 3ms/step - loss: 0.1150\n",
            "Epoch 17/600\n",
            "1/1 [==============================] - 0s 3ms/step - loss: 0.1100\n",
            "Epoch 18/600\n",
            "1/1 [==============================] - 0s 3ms/step - loss: 0.1052\n",
            "Epoch 19/600\n",
            "1/1 [==============================] - 0s 2ms/step - loss: 0.1007\n",
            "Epoch 20/600\n",
            "1/1 [==============================] - 0s 3ms/step - loss: 0.0965\n",
            "Epoch 21/600\n",
            "1/1 [==============================] - 0s 3ms/step - loss: 0.0925\n",
            "Epoch 22/600\n",
            "1/1 [==============================] - 0s 3ms/step - loss: 0.0887\n",
            "Epoch 23/600\n",
            "1/1 [==============================] - 0s 3ms/step - loss: 0.0851\n",
            "Epoch 24/600\n",
            "1/1 [==============================] - 0s 4ms/step - loss: 0.0816\n",
            "Epoch 25/600\n",
            "1/1 [==============================] - 0s 6ms/step - loss: 0.0783\n",
            "Epoch 26/600\n",
            "1/1 [==============================] - 0s 3ms/step - loss: 0.0751\n",
            "Epoch 27/600\n",
            "1/1 [==============================] - 0s 3ms/step - loss: 0.0720\n",
            "Epoch 28/600\n",
            "1/1 [==============================] - 0s 2ms/step - loss: 0.0690\n",
            "Epoch 29/600\n",
            "1/1 [==============================] - 0s 2ms/step - loss: 0.0661\n",
            "Epoch 30/600\n",
            "1/1 [==============================] - 0s 4ms/step - loss: 0.0633\n",
            "Epoch 31/600\n",
            "1/1 [==============================] - 0s 3ms/step - loss: 0.0605\n",
            "Epoch 32/600\n",
            "1/1 [==============================] - 0s 3ms/step - loss: 0.0579\n",
            "Epoch 33/600\n",
            "1/1 [==============================] - 0s 3ms/step - loss: 0.0553\n",
            "Epoch 34/600\n",
            "1/1 [==============================] - 0s 3ms/step - loss: 0.0528\n",
            "Epoch 35/600\n",
            "1/1 [==============================] - 0s 3ms/step - loss: 0.0503\n",
            "Epoch 36/600\n",
            "1/1 [==============================] - 0s 3ms/step - loss: 0.0480\n",
            "Epoch 37/600\n",
            "1/1 [==============================] - 0s 3ms/step - loss: 0.0457\n",
            "Epoch 38/600\n",
            "1/1 [==============================] - 0s 2ms/step - loss: 0.0436\n",
            "Epoch 39/600\n",
            "1/1 [==============================] - 0s 2ms/step - loss: 0.0415\n",
            "Epoch 40/600\n",
            "1/1 [==============================] - 0s 3ms/step - loss: 0.0395\n",
            "Epoch 41/600\n",
            "1/1 [==============================] - 0s 3ms/step - loss: 0.0376\n",
            "Epoch 42/600\n",
            "1/1 [==============================] - 0s 4ms/step - loss: 0.0358\n",
            "Epoch 43/600\n",
            "1/1 [==============================] - 0s 4ms/step - loss: 0.0341\n",
            "Epoch 44/600\n",
            "1/1 [==============================] - 0s 6ms/step - loss: 0.0325\n",
            "Epoch 45/600\n",
            "1/1 [==============================] - 0s 3ms/step - loss: 0.0310\n",
            "Epoch 46/600\n",
            "1/1 [==============================] - 0s 3ms/step - loss: 0.0295\n",
            "Epoch 47/600\n",
            "1/1 [==============================] - 0s 3ms/step - loss: 0.0281\n",
            "Epoch 48/600\n",
            "1/1 [==============================] - 0s 3ms/step - loss: 0.0268\n",
            "Epoch 49/600\n",
            "1/1 [==============================] - 0s 8ms/step - loss: 0.0256\n",
            "Epoch 50/600\n",
            "1/1 [==============================] - 0s 3ms/step - loss: 0.0244\n",
            "Epoch 51/600\n",
            "1/1 [==============================] - 0s 3ms/step - loss: 0.0233\n",
            "Epoch 52/600\n",
            "1/1 [==============================] - 0s 3ms/step - loss: 0.0223\n",
            "Epoch 53/600\n",
            "1/1 [==============================] - 0s 3ms/step - loss: 0.0213\n",
            "Epoch 54/600\n",
            "1/1 [==============================] - 0s 6ms/step - loss: 0.0203\n",
            "Epoch 55/600\n",
            "1/1 [==============================] - 0s 3ms/step - loss: 0.0194\n",
            "Epoch 56/600\n",
            "1/1 [==============================] - 0s 3ms/step - loss: 0.0186\n",
            "Epoch 57/600\n",
            "1/1 [==============================] - 0s 3ms/step - loss: 0.0178\n",
            "Epoch 58/600\n",
            "1/1 [==============================] - 0s 2ms/step - loss: 0.0170\n",
            "Epoch 59/600\n",
            "1/1 [==============================] - 0s 8ms/step - loss: 0.0162\n",
            "Epoch 60/600\n",
            "1/1 [==============================] - 0s 3ms/step - loss: 0.0155\n",
            "Epoch 61/600\n",
            "1/1 [==============================] - 0s 3ms/step - loss: 0.0148\n",
            "Epoch 62/600\n",
            "1/1 [==============================] - 0s 3ms/step - loss: 0.0142\n",
            "Epoch 63/600\n",
            "1/1 [==============================] - 0s 3ms/step - loss: 0.0136\n",
            "Epoch 64/600\n",
            "1/1 [==============================] - 0s 3ms/step - loss: 0.0130\n",
            "Epoch 65/600\n",
            "1/1 [==============================] - 0s 4ms/step - loss: 0.0124\n",
            "Epoch 66/600\n",
            "1/1 [==============================] - 0s 3ms/step - loss: 0.0118\n",
            "Epoch 67/600\n",
            "1/1 [==============================] - 0s 3ms/step - loss: 0.0113\n",
            "Epoch 68/600\n",
            "1/1 [==============================] - 0s 3ms/step - loss: 0.0108\n",
            "Epoch 69/600\n",
            "1/1 [==============================] - 0s 3ms/step - loss: 0.0103\n",
            "Epoch 70/600\n",
            "1/1 [==============================] - 0s 2ms/step - loss: 0.0098\n",
            "Epoch 71/600\n",
            "1/1 [==============================] - 0s 3ms/step - loss: 0.0094\n",
            "Epoch 72/600\n",
            "1/1 [==============================] - 0s 2ms/step - loss: 0.0089\n",
            "Epoch 73/600\n",
            "1/1 [==============================] - 0s 4ms/step - loss: 0.0085\n",
            "Epoch 74/600\n",
            "1/1 [==============================] - 0s 4ms/step - loss: 0.0082\n",
            "Epoch 75/600\n",
            "1/1 [==============================] - 0s 3ms/step - loss: 0.0077\n",
            "Epoch 76/600\n",
            "1/1 [==============================] - 0s 4ms/step - loss: 0.0074\n",
            "Epoch 77/600\n",
            "1/1 [==============================] - 0s 3ms/step - loss: 0.0070\n",
            "Epoch 78/600\n",
            "1/1 [==============================] - 0s 3ms/step - loss: 0.0067\n",
            "Epoch 79/600\n",
            "1/1 [==============================] - 0s 3ms/step - loss: 0.0063\n",
            "Epoch 80/600\n",
            "1/1 [==============================] - 0s 3ms/step - loss: 0.0060\n",
            "Epoch 81/600\n",
            "1/1 [==============================] - 0s 7ms/step - loss: 0.0057\n",
            "Epoch 82/600\n",
            "1/1 [==============================] - 0s 3ms/step - loss: 0.0054\n",
            "Epoch 83/600\n",
            "1/1 [==============================] - 0s 5ms/step - loss: 0.0051\n",
            "Epoch 84/600\n",
            "1/1 [==============================] - 0s 4ms/step - loss: 0.0049\n",
            "Epoch 85/600\n",
            "1/1 [==============================] - 0s 3ms/step - loss: 0.0046\n",
            "Epoch 86/600\n",
            "1/1 [==============================] - 0s 3ms/step - loss: 0.0044\n",
            "Epoch 87/600\n",
            "1/1 [==============================] - 0s 3ms/step - loss: 0.0042\n",
            "Epoch 88/600\n",
            "1/1 [==============================] - 0s 5ms/step - loss: 0.0039\n",
            "Epoch 89/600\n",
            "1/1 [==============================] - 0s 3ms/step - loss: 0.0037\n",
            "Epoch 90/600\n",
            "1/1 [==============================] - 0s 3ms/step - loss: 0.0035\n",
            "Epoch 91/600\n",
            "1/1 [==============================] - 0s 3ms/step - loss: 0.0033\n",
            "Epoch 92/600\n",
            "1/1 [==============================] - 0s 3ms/step - loss: 0.0032\n",
            "Epoch 93/600\n",
            "1/1 [==============================] - 0s 6ms/step - loss: 0.0030\n",
            "Epoch 94/600\n",
            "1/1 [==============================] - 0s 7ms/step - loss: 0.0028\n",
            "Epoch 95/600\n",
            "1/1 [==============================] - 0s 5ms/step - loss: 0.0027\n",
            "Epoch 96/600\n",
            "1/1 [==============================] - 0s 6ms/step - loss: 0.0025\n",
            "Epoch 97/600\n",
            "1/1 [==============================] - 0s 3ms/step - loss: 0.0024\n",
            "Epoch 98/600\n",
            "1/1 [==============================] - 0s 3ms/step - loss: 0.0022\n",
            "Epoch 99/600\n",
            "1/1 [==============================] - 0s 3ms/step - loss: 0.0021\n",
            "Epoch 100/600\n",
            "1/1 [==============================] - 0s 3ms/step - loss: 0.0020\n",
            "Epoch 101/600\n",
            "1/1 [==============================] - 0s 3ms/step - loss: 0.0019\n",
            "Epoch 102/600\n",
            "1/1 [==============================] - 0s 4ms/step - loss: 0.0018\n",
            "Epoch 103/600\n",
            "1/1 [==============================] - 0s 7ms/step - loss: 0.0017\n",
            "Epoch 104/600\n",
            "1/1 [==============================] - 0s 4ms/step - loss: 0.0016\n",
            "Epoch 105/600\n",
            "1/1 [==============================] - 0s 3ms/step - loss: 0.0015\n",
            "Epoch 106/600\n",
            "1/1 [==============================] - 0s 5ms/step - loss: 0.0014\n",
            "Epoch 107/600\n",
            "1/1 [==============================] - 0s 3ms/step - loss: 0.0014\n",
            "Epoch 108/600\n",
            "1/1 [==============================] - 0s 3ms/step - loss: 0.0013\n",
            "Epoch 109/600\n",
            "1/1 [==============================] - 0s 3ms/step - loss: 0.0012\n",
            "Epoch 110/600\n",
            "1/1 [==============================] - 0s 3ms/step - loss: 0.0012\n",
            "Epoch 111/600\n",
            "1/1 [==============================] - 0s 5ms/step - loss: 0.0011\n",
            "Epoch 112/600\n",
            "1/1 [==============================] - 0s 3ms/step - loss: 0.0011\n",
            "Epoch 113/600\n",
            "1/1 [==============================] - 0s 3ms/step - loss: 0.0010\n",
            "Epoch 114/600\n",
            "1/1 [==============================] - 0s 3ms/step - loss: 9.7739e-04\n",
            "Epoch 115/600\n",
            "1/1 [==============================] - 0s 3ms/step - loss: 9.3670e-04\n",
            "Epoch 116/600\n",
            "1/1 [==============================] - 0s 3ms/step - loss: 8.9913e-04\n",
            "Epoch 117/600\n",
            "1/1 [==============================] - 0s 3ms/step - loss: 8.6445e-04\n",
            "Epoch 118/600\n",
            "1/1 [==============================] - 0s 3ms/step - loss: 8.3218e-04\n",
            "Epoch 119/600\n",
            "1/1 [==============================] - 0s 3ms/step - loss: 8.0204e-04\n",
            "Epoch 120/600\n",
            "1/1 [==============================] - 0s 3ms/step - loss: 7.7330e-04\n",
            "Epoch 121/600\n",
            "1/1 [==============================] - 0s 3ms/step - loss: 7.4642e-04\n",
            "Epoch 122/600\n",
            "1/1 [==============================] - 0s 3ms/step - loss: 7.2117e-04\n",
            "Epoch 123/600\n",
            "1/1 [==============================] - 0s 3ms/step - loss: 6.9775e-04\n",
            "Epoch 124/600\n",
            "1/1 [==============================] - 0s 3ms/step - loss: 6.7592e-04\n",
            "Epoch 125/600\n",
            "1/1 [==============================] - 0s 3ms/step - loss: 6.5562e-04\n",
            "Epoch 126/600\n",
            "1/1 [==============================] - 0s 7ms/step - loss: 6.3676e-04\n",
            "Epoch 127/600\n",
            "1/1 [==============================] - 0s 3ms/step - loss: 6.1931e-04\n",
            "Epoch 128/600\n",
            "1/1 [==============================] - 0s 3ms/step - loss: 6.0327e-04\n",
            "Epoch 129/600\n",
            "1/1 [==============================] - 0s 3ms/step - loss: 5.8892e-04\n",
            "Epoch 130/600\n",
            "1/1 [==============================] - 0s 3ms/step - loss: 5.7598e-04\n",
            "Epoch 131/600\n",
            "1/1 [==============================] - 0s 7ms/step - loss: 5.6558e-04\n",
            "Epoch 132/600\n",
            "1/1 [==============================] - 0s 3ms/step - loss: 5.5461e-04\n",
            "Epoch 133/600\n",
            "1/1 [==============================] - 0s 3ms/step - loss: 5.3955e-04\n",
            "Epoch 134/600\n",
            "1/1 [==============================] - 0s 3ms/step - loss: 5.1968e-04\n",
            "Epoch 135/600\n",
            "1/1 [==============================] - 0s 3ms/step - loss: 5.0122e-04\n",
            "Epoch 136/600\n",
            "1/1 [==============================] - 0s 3ms/step - loss: 4.8496e-04\n",
            "Epoch 137/600\n",
            "1/1 [==============================] - 0s 2ms/step - loss: 4.7065e-04\n",
            "Epoch 138/600\n",
            "1/1 [==============================] - 0s 3ms/step - loss: 4.5736e-04\n",
            "Epoch 139/600\n",
            "1/1 [==============================] - 0s 3ms/step - loss: 4.4500e-04\n",
            "Epoch 140/600\n",
            "1/1 [==============================] - 0s 2ms/step - loss: 4.3325e-04\n",
            "Epoch 141/600\n",
            "1/1 [==============================] - 0s 3ms/step - loss: 4.2232e-04\n",
            "Epoch 142/600\n",
            "1/1 [==============================] - 0s 3ms/step - loss: 4.1211e-04\n",
            "Epoch 143/600\n",
            "1/1 [==============================] - 0s 3ms/step - loss: 4.0302e-04\n",
            "Epoch 144/600\n",
            "1/1 [==============================] - 0s 5ms/step - loss: 3.9477e-04\n",
            "Epoch 145/600\n",
            "1/1 [==============================] - 0s 3ms/step - loss: 3.8756e-04\n",
            "Epoch 146/600\n",
            "1/1 [==============================] - 0s 6ms/step - loss: 3.7982e-04\n",
            "Epoch 147/600\n",
            "1/1 [==============================] - 0s 6ms/step - loss: 3.7122e-04\n",
            "Epoch 148/600\n",
            "1/1 [==============================] - 0s 3ms/step - loss: 3.6040e-04\n",
            "Epoch 149/600\n",
            "1/1 [==============================] - 0s 3ms/step - loss: 3.4926e-04\n",
            "Epoch 150/600\n",
            "1/1 [==============================] - 0s 2ms/step - loss: 3.3771e-04\n",
            "Epoch 151/600\n",
            "1/1 [==============================] - 0s 5ms/step - loss: 3.2726e-04\n",
            "Epoch 152/600\n",
            "1/1 [==============================] - 0s 4ms/step - loss: 3.1725e-04\n",
            "Epoch 153/600\n",
            "1/1 [==============================] - 0s 3ms/step - loss: 3.0833e-04\n",
            "Epoch 154/600\n",
            "1/1 [==============================] - 0s 5ms/step - loss: 2.9987e-04\n",
            "Epoch 155/600\n",
            "1/1 [==============================] - 0s 4ms/step - loss: 2.9233e-04\n",
            "Epoch 156/600\n",
            "1/1 [==============================] - 0s 3ms/step - loss: 2.8522e-04\n",
            "Epoch 157/600\n",
            "1/1 [==============================] - 0s 2ms/step - loss: 2.7897e-04\n",
            "Epoch 158/600\n",
            "1/1 [==============================] - 0s 5ms/step - loss: 2.7301e-04\n",
            "Epoch 159/600\n",
            "1/1 [==============================] - 0s 3ms/step - loss: 2.6759e-04\n",
            "Epoch 160/600\n",
            "1/1 [==============================] - 0s 6ms/step - loss: 2.6178e-04\n",
            "Epoch 161/600\n",
            "1/1 [==============================] - 0s 3ms/step - loss: 2.5590e-04\n",
            "Epoch 162/600\n",
            "1/1 [==============================] - 0s 2ms/step - loss: 2.4914e-04\n",
            "Epoch 163/600\n",
            "1/1 [==============================] - 0s 3ms/step - loss: 2.4243e-04\n",
            "Epoch 164/600\n",
            "1/1 [==============================] - 0s 3ms/step - loss: 2.3527e-04\n",
            "Epoch 165/600\n",
            "1/1 [==============================] - 0s 5ms/step - loss: 2.2863e-04\n",
            "Epoch 166/600\n",
            "1/1 [==============================] - 0s 4ms/step - loss: 2.2200e-04\n",
            "Epoch 167/600\n",
            "1/1 [==============================] - 0s 2ms/step - loss: 2.1606e-04\n",
            "Epoch 168/600\n",
            "1/1 [==============================] - 0s 2ms/step - loss: 2.1032e-04\n",
            "Epoch 169/600\n",
            "1/1 [==============================] - 0s 2ms/step - loss: 2.0526e-04\n",
            "Epoch 170/600\n",
            "1/1 [==============================] - 0s 3ms/step - loss: 2.0042e-04\n",
            "Epoch 171/600\n",
            "1/1 [==============================] - 0s 3ms/step - loss: 1.9615e-04\n",
            "Epoch 172/600\n",
            "1/1 [==============================] - 0s 4ms/step - loss: 1.9194e-04\n",
            "Epoch 173/600\n",
            "1/1 [==============================] - 0s 3ms/step - loss: 1.8804e-04\n",
            "Epoch 174/600\n",
            "1/1 [==============================] - 0s 3ms/step - loss: 1.8388e-04\n",
            "Epoch 175/600\n",
            "1/1 [==============================] - 0s 6ms/step - loss: 1.7983e-04\n",
            "Epoch 176/600\n",
            "1/1 [==============================] - 0s 3ms/step - loss: 1.7541e-04\n",
            "Epoch 177/600\n",
            "1/1 [==============================] - 0s 3ms/step - loss: 1.7119e-04\n",
            "Epoch 178/600\n",
            "1/1 [==============================] - 0s 4ms/step - loss: 1.6674e-04\n",
            "Epoch 179/600\n",
            "1/1 [==============================] - 0s 3ms/step - loss: 1.6263e-04\n",
            "Epoch 180/600\n",
            "1/1 [==============================] - 0s 3ms/step - loss: 1.5843e-04\n",
            "Epoch 181/600\n",
            "1/1 [==============================] - 0s 3ms/step - loss: 1.5466e-04\n",
            "Epoch 182/600\n",
            "1/1 [==============================] - 0s 3ms/step - loss: 1.5090e-04\n",
            "Epoch 183/600\n",
            "1/1 [==============================] - 0s 4ms/step - loss: 1.4759e-04\n",
            "Epoch 184/600\n",
            "1/1 [==============================] - 0s 5ms/step - loss: 1.4429e-04\n",
            "Epoch 185/600\n",
            "1/1 [==============================] - 0s 3ms/step - loss: 1.4137e-04\n",
            "Epoch 186/600\n",
            "1/1 [==============================] - 0s 3ms/step - loss: 1.3836e-04\n",
            "Epoch 187/600\n",
            "1/1 [==============================] - 0s 3ms/step - loss: 1.3561e-04\n",
            "Epoch 188/600\n",
            "1/1 [==============================] - 0s 4ms/step - loss: 1.3266e-04\n",
            "Epoch 189/600\n",
            "1/1 [==============================] - 0s 3ms/step - loss: 1.2991e-04\n",
            "Epoch 190/600\n",
            "1/1 [==============================] - 0s 4ms/step - loss: 1.2694e-04\n",
            "Epoch 191/600\n",
            "1/1 [==============================] - 0s 6ms/step - loss: 1.2421e-04\n",
            "Epoch 192/600\n",
            "1/1 [==============================] - 0s 5ms/step - loss: 1.2132e-04\n",
            "Epoch 193/600\n",
            "1/1 [==============================] - 0s 3ms/step - loss: 1.1870e-04\n",
            "Epoch 194/600\n",
            "1/1 [==============================] - 0s 5ms/step - loss: 1.1598e-04\n",
            "Epoch 195/600\n",
            "1/1 [==============================] - 0s 5ms/step - loss: 1.1356e-04\n",
            "Epoch 196/600\n",
            "1/1 [==============================] - 0s 5ms/step - loss: 1.1106e-04\n",
            "Epoch 197/600\n",
            "1/1 [==============================] - 0s 2ms/step - loss: 1.0887e-04\n",
            "Epoch 198/600\n",
            "1/1 [==============================] - 0s 5ms/step - loss: 1.0659e-04\n",
            "Epoch 199/600\n",
            "1/1 [==============================] - 0s 3ms/step - loss: 1.0458e-04\n",
            "Epoch 200/600\n",
            "1/1 [==============================] - 0s 3ms/step - loss: 1.0243e-04\n",
            "Epoch 201/600\n",
            "1/1 [==============================] - 0s 5ms/step - loss: 1.0052e-04\n",
            "Epoch 202/600\n",
            "1/1 [==============================] - 0s 4ms/step - loss: 9.8435e-05\n",
            "Epoch 203/600\n",
            "1/1 [==============================] - 0s 4ms/step - loss: 9.6568e-05\n",
            "Epoch 204/600\n",
            "1/1 [==============================] - 0s 4ms/step - loss: 9.4524e-05\n",
            "Epoch 205/600\n",
            "1/1 [==============================] - 0s 5ms/step - loss: 9.2712e-05\n",
            "Epoch 206/600\n",
            "1/1 [==============================] - 0s 3ms/step - loss: 9.0742e-05\n",
            "Epoch 207/600\n",
            "1/1 [==============================] - 0s 3ms/step - loss: 8.9020e-05\n",
            "Epoch 208/600\n",
            "1/1 [==============================] - 0s 4ms/step - loss: 8.7158e-05\n",
            "Epoch 209/600\n",
            "1/1 [==============================] - 0s 3ms/step - loss: 8.5552e-05\n",
            "Epoch 210/600\n",
            "1/1 [==============================] - 0s 5ms/step - loss: 8.3815e-05\n",
            "Epoch 211/600\n",
            "1/1 [==============================] - 0s 4ms/step - loss: 8.2326e-05\n",
            "Epoch 212/600\n",
            "1/1 [==============================] - 0s 3ms/step - loss: 8.0698e-05\n",
            "Epoch 213/600\n",
            "1/1 [==============================] - 0s 5ms/step - loss: 7.9302e-05\n",
            "Epoch 214/600\n",
            "1/1 [==============================] - 0s 3ms/step - loss: 7.7750e-05\n",
            "Epoch 215/600\n",
            "1/1 [==============================] - 0s 7ms/step - loss: 7.6417e-05\n",
            "Epoch 216/600\n",
            "1/1 [==============================] - 0s 3ms/step - loss: 7.4916e-05\n",
            "Epoch 217/600\n",
            "1/1 [==============================] - 0s 6ms/step - loss: 7.3626e-05\n",
            "Epoch 218/600\n",
            "1/1 [==============================] - 0s 6ms/step - loss: 7.2173e-05\n",
            "Epoch 219/600\n",
            "1/1 [==============================] - 0s 3ms/step - loss: 7.0935e-05\n",
            "Epoch 220/600\n",
            "1/1 [==============================] - 0s 3ms/step - loss: 6.9541e-05\n",
            "Epoch 221/600\n",
            "1/1 [==============================] - 0s 4ms/step - loss: 6.8366e-05\n",
            "Epoch 222/600\n",
            "1/1 [==============================] - 0s 3ms/step - loss: 6.7046e-05\n",
            "Epoch 223/600\n",
            "1/1 [==============================] - 0s 3ms/step - loss: 6.5943e-05\n",
            "Epoch 224/600\n",
            "1/1 [==============================] - 0s 3ms/step - loss: 6.4695e-05\n",
            "Epoch 225/600\n",
            "1/1 [==============================] - 0s 3ms/step - loss: 6.3659e-05\n",
            "Epoch 226/600\n",
            "1/1 [==============================] - 0s 7ms/step - loss: 6.2473e-05\n",
            "Epoch 227/600\n",
            "1/1 [==============================] - 0s 5ms/step - loss: 6.1492e-05\n",
            "Epoch 228/600\n",
            "1/1 [==============================] - 0s 6ms/step - loss: 6.0355e-05\n",
            "Epoch 229/600\n",
            "1/1 [==============================] - 0s 3ms/step - loss: 5.9416e-05\n",
            "Epoch 230/600\n",
            "1/1 [==============================] - 0s 4ms/step - loss: 5.8319e-05\n",
            "Epoch 231/600\n",
            "1/1 [==============================] - 0s 3ms/step - loss: 5.7416e-05\n",
            "Epoch 232/600\n",
            "1/1 [==============================] - 0s 3ms/step - loss: 5.6359e-05\n",
            "Epoch 233/600\n",
            "1/1 [==============================] - 0s 8ms/step - loss: 5.5496e-05\n",
            "Epoch 234/600\n",
            "1/1 [==============================] - 0s 4ms/step - loss: 5.4483e-05\n",
            "Epoch 235/600\n",
            "1/1 [==============================] - 0s 5ms/step - loss: 5.3664e-05\n",
            "Epoch 236/600\n",
            "1/1 [==============================] - 0s 3ms/step - loss: 5.2698e-05\n",
            "Epoch 237/600\n",
            "1/1 [==============================] - 0s 6ms/step - loss: 5.1924e-05\n",
            "Epoch 238/600\n",
            "1/1 [==============================] - 0s 5ms/step - loss: 5.1005e-05\n",
            "Epoch 239/600\n",
            "1/1 [==============================] - 0s 3ms/step - loss: 5.0273e-05\n",
            "Epoch 240/600\n",
            "1/1 [==============================] - 0s 3ms/step - loss: 4.9394e-05\n",
            "Epoch 241/600\n",
            "1/1 [==============================] - 0s 4ms/step - loss: 4.8699e-05\n",
            "Epoch 242/600\n",
            "1/1 [==============================] - 0s 3ms/step - loss: 4.7853e-05\n",
            "Epoch 243/600\n",
            "1/1 [==============================] - 0s 3ms/step - loss: 4.7188e-05\n",
            "Epoch 244/600\n",
            "1/1 [==============================] - 0s 3ms/step - loss: 4.6374e-05\n",
            "Epoch 245/600\n",
            "1/1 [==============================] - 0s 3ms/step - loss: 4.5737e-05\n",
            "Epoch 246/600\n",
            "1/1 [==============================] - 0s 4ms/step - loss: 4.4952e-05\n",
            "Epoch 247/600\n",
            "1/1 [==============================] - 0s 3ms/step - loss: 4.4344e-05\n",
            "Epoch 248/600\n",
            "1/1 [==============================] - 0s 6ms/step - loss: 4.3590e-05\n",
            "Epoch 249/600\n",
            "1/1 [==============================] - 0s 4ms/step - loss: 4.3012e-05\n",
            "Epoch 250/600\n",
            "1/1 [==============================] - 0s 7ms/step - loss: 4.2293e-05\n",
            "Epoch 251/600\n",
            "1/1 [==============================] - 0s 4ms/step - loss: 4.1746e-05\n",
            "Epoch 252/600\n",
            "1/1 [==============================] - 0s 3ms/step - loss: 4.1057e-05\n",
            "Epoch 253/600\n",
            "1/1 [==============================] - 0s 5ms/step - loss: 4.0538e-05\n",
            "Epoch 254/600\n",
            "1/1 [==============================] - 0s 3ms/step - loss: 3.9877e-05\n",
            "Epoch 255/600\n",
            "1/1 [==============================] - 0s 3ms/step - loss: 3.9383e-05\n",
            "Epoch 256/600\n",
            "1/1 [==============================] - 0s 3ms/step - loss: 3.8744e-05\n",
            "Epoch 257/600\n",
            "1/1 [==============================] - 0s 3ms/step - loss: 3.8272e-05\n",
            "Epoch 258/600\n",
            "1/1 [==============================] - 0s 6ms/step - loss: 3.7656e-05\n",
            "Epoch 259/600\n",
            "1/1 [==============================] - 0s 6ms/step - loss: 3.7206e-05\n",
            "Epoch 260/600\n",
            "1/1 [==============================] - 0s 3ms/step - loss: 3.6611e-05\n",
            "Epoch 261/600\n",
            "1/1 [==============================] - 0s 4ms/step - loss: 3.6182e-05\n",
            "Epoch 262/600\n",
            "1/1 [==============================] - 0s 3ms/step - loss: 3.5611e-05\n",
            "Epoch 263/600\n",
            "1/1 [==============================] - 0s 3ms/step - loss: 3.5203e-05\n",
            "Epoch 264/600\n",
            "1/1 [==============================] - 0s 2ms/step - loss: 3.4653e-05\n",
            "Epoch 265/600\n",
            "1/1 [==============================] - 0s 3ms/step - loss: 3.4268e-05\n",
            "Epoch 266/600\n",
            "1/1 [==============================] - 0s 5ms/step - loss: 3.3739e-05\n",
            "Epoch 267/600\n",
            "1/1 [==============================] - 0s 6ms/step - loss: 3.3373e-05\n",
            "Epoch 268/600\n",
            "1/1 [==============================] - 0s 4ms/step - loss: 3.2864e-05\n",
            "Epoch 269/600\n",
            "1/1 [==============================] - 0s 3ms/step - loss: 3.2514e-05\n",
            "Epoch 270/600\n",
            "1/1 [==============================] - 0s 7ms/step - loss: 3.2022e-05\n",
            "Epoch 271/600\n",
            "1/1 [==============================] - 0s 5ms/step - loss: 3.1690e-05\n",
            "Epoch 272/600\n",
            "1/1 [==============================] - 0s 3ms/step - loss: 3.1214e-05\n",
            "Epoch 273/600\n",
            "1/1 [==============================] - 0s 3ms/step - loss: 3.0897e-05\n",
            "Epoch 274/600\n",
            "1/1 [==============================] - 0s 6ms/step - loss: 3.0437e-05\n",
            "Epoch 275/600\n",
            "1/1 [==============================] - 0s 5ms/step - loss: 3.0135e-05\n",
            "Epoch 276/600\n",
            "1/1 [==============================] - 0s 3ms/step - loss: 2.9692e-05\n",
            "Epoch 277/600\n",
            "1/1 [==============================] - 0s 4ms/step - loss: 2.9405e-05\n",
            "Epoch 278/600\n",
            "1/1 [==============================] - 0s 3ms/step - loss: 2.8978e-05\n",
            "Epoch 279/600\n",
            "1/1 [==============================] - 0s 5ms/step - loss: 2.8706e-05\n",
            "Epoch 280/600\n",
            "1/1 [==============================] - 0s 3ms/step - loss: 2.8293e-05\n",
            "Epoch 281/600\n",
            "1/1 [==============================] - 0s 3ms/step - loss: 2.8036e-05\n",
            "Epoch 282/600\n",
            "1/1 [==============================] - 0s 6ms/step - loss: 2.7637e-05\n",
            "Epoch 283/600\n",
            "1/1 [==============================] - 0s 4ms/step - loss: 2.7392e-05\n",
            "Epoch 284/600\n",
            "1/1 [==============================] - 0s 6ms/step - loss: 2.7006e-05\n",
            "Epoch 285/600\n",
            "1/1 [==============================] - 0s 6ms/step - loss: 2.6773e-05\n",
            "Epoch 286/600\n",
            "1/1 [==============================] - 0s 6ms/step - loss: 2.6399e-05\n",
            "Epoch 287/600\n",
            "1/1 [==============================] - 0s 3ms/step - loss: 2.6178e-05\n",
            "Epoch 288/600\n",
            "1/1 [==============================] - 0s 3ms/step - loss: 2.5815e-05\n",
            "Epoch 289/600\n",
            "1/1 [==============================] - 0s 3ms/step - loss: 2.5605e-05\n",
            "Epoch 290/600\n",
            "1/1 [==============================] - 0s 3ms/step - loss: 2.5254e-05\n",
            "Epoch 291/600\n",
            "1/1 [==============================] - 0s 5ms/step - loss: 2.5055e-05\n",
            "Epoch 292/600\n",
            "1/1 [==============================] - 0s 5ms/step - loss: 2.4716e-05\n",
            "Epoch 293/600\n",
            "1/1 [==============================] - 0s 3ms/step - loss: 2.4527e-05\n",
            "Epoch 294/600\n",
            "1/1 [==============================] - 0s 5ms/step - loss: 2.4199e-05\n",
            "Epoch 295/600\n",
            "1/1 [==============================] - 0s 3ms/step - loss: 2.4021e-05\n",
            "Epoch 296/600\n",
            "1/1 [==============================] - 0s 4ms/step - loss: 2.3703e-05\n",
            "Epoch 297/600\n",
            "1/1 [==============================] - 0s 9ms/step - loss: 2.3535e-05\n",
            "Epoch 298/600\n",
            "1/1 [==============================] - 0s 3ms/step - loss: 2.3226e-05\n",
            "Epoch 299/600\n",
            "1/1 [==============================] - 0s 3ms/step - loss: 2.3066e-05\n",
            "Epoch 300/600\n",
            "1/1 [==============================] - 0s 3ms/step - loss: 2.2767e-05\n",
            "Epoch 301/600\n",
            "1/1 [==============================] - 0s 6ms/step - loss: 2.2616e-05\n",
            "Epoch 302/600\n",
            "1/1 [==============================] - 0s 3ms/step - loss: 2.2324e-05\n",
            "Epoch 303/600\n",
            "1/1 [==============================] - 0s 3ms/step - loss: 2.2180e-05\n",
            "Epoch 304/600\n",
            "1/1 [==============================] - 0s 4ms/step - loss: 2.1898e-05\n",
            "Epoch 305/600\n",
            "1/1 [==============================] - 0s 3ms/step - loss: 2.1762e-05\n",
            "Epoch 306/600\n",
            "1/1 [==============================] - 0s 3ms/step - loss: 2.1489e-05\n",
            "Epoch 307/600\n",
            "1/1 [==============================] - 0s 3ms/step - loss: 2.1361e-05\n",
            "Epoch 308/600\n",
            "1/1 [==============================] - 0s 3ms/step - loss: 2.1097e-05\n",
            "Epoch 309/600\n",
            "1/1 [==============================] - 0s 3ms/step - loss: 2.0977e-05\n",
            "Epoch 310/600\n",
            "1/1 [==============================] - 0s 4ms/step - loss: 2.0721e-05\n",
            "Epoch 311/600\n",
            "1/1 [==============================] - 0s 3ms/step - loss: 2.0608e-05\n",
            "Epoch 312/600\n",
            "1/1 [==============================] - 0s 3ms/step - loss: 2.0358e-05\n",
            "Epoch 313/600\n",
            "1/1 [==============================] - 0s 5ms/step - loss: 2.0251e-05\n",
            "Epoch 314/600\n",
            "1/1 [==============================] - 0s 8ms/step - loss: 2.0007e-05\n",
            "Epoch 315/600\n",
            "1/1 [==============================] - 0s 6ms/step - loss: 1.9907e-05\n",
            "Epoch 316/600\n",
            "1/1 [==============================] - 0s 7ms/step - loss: 1.9669e-05\n",
            "Epoch 317/600\n",
            "1/1 [==============================] - 0s 3ms/step - loss: 1.9574e-05\n",
            "Epoch 318/600\n",
            "1/1 [==============================] - 0s 10ms/step - loss: 1.9343e-05\n",
            "Epoch 319/600\n",
            "1/1 [==============================] - 0s 3ms/step - loss: 1.9255e-05\n",
            "Epoch 320/600\n",
            "1/1 [==============================] - 0s 3ms/step - loss: 1.9032e-05\n",
            "Epoch 321/600\n",
            "1/1 [==============================] - 0s 8ms/step - loss: 1.8950e-05\n",
            "Epoch 322/600\n",
            "1/1 [==============================] - 0s 3ms/step - loss: 1.8733e-05\n",
            "Epoch 323/600\n",
            "1/1 [==============================] - 0s 3ms/step - loss: 1.8657e-05\n",
            "Epoch 324/600\n",
            "1/1 [==============================] - 0s 3ms/step - loss: 1.8445e-05\n",
            "Epoch 325/600\n",
            "1/1 [==============================] - 0s 3ms/step - loss: 1.8373e-05\n",
            "Epoch 326/600\n",
            "1/1 [==============================] - 0s 3ms/step - loss: 1.8166e-05\n",
            "Epoch 327/600\n",
            "1/1 [==============================] - 0s 7ms/step - loss: 1.8099e-05\n",
            "Epoch 328/600\n",
            "1/1 [==============================] - 0s 5ms/step - loss: 1.7897e-05\n",
            "Epoch 329/600\n",
            "1/1 [==============================] - 0s 3ms/step - loss: 1.7835e-05\n",
            "Epoch 330/600\n",
            "1/1 [==============================] - 0s 2ms/step - loss: 1.7638e-05\n",
            "Epoch 331/600\n",
            "1/1 [==============================] - 0s 4ms/step - loss: 1.7580e-05\n",
            "Epoch 332/600\n",
            "1/1 [==============================] - 0s 3ms/step - loss: 1.7390e-05\n",
            "Epoch 333/600\n",
            "1/1 [==============================] - 0s 3ms/step - loss: 1.7337e-05\n",
            "Epoch 334/600\n",
            "1/1 [==============================] - 0s 3ms/step - loss: 1.7151e-05\n",
            "Epoch 335/600\n",
            "1/1 [==============================] - 0s 3ms/step - loss: 1.7103e-05\n",
            "Epoch 336/600\n",
            "1/1 [==============================] - 0s 3ms/step - loss: 1.6921e-05\n",
            "Epoch 337/600\n",
            "1/1 [==============================] - 0s 4ms/step - loss: 1.6876e-05\n",
            "Epoch 338/600\n",
            "1/1 [==============================] - 0s 11ms/step - loss: 1.6699e-05\n",
            "Epoch 339/600\n",
            "1/1 [==============================] - 0s 3ms/step - loss: 1.6658e-05\n",
            "Epoch 340/600\n",
            "1/1 [==============================] - 0s 6ms/step - loss: 1.6484e-05\n",
            "Epoch 341/600\n",
            "1/1 [==============================] - 0s 2ms/step - loss: 1.6447e-05\n",
            "Epoch 342/600\n",
            "1/1 [==============================] - 0s 3ms/step - loss: 1.6278e-05\n",
            "Epoch 343/600\n",
            "1/1 [==============================] - 0s 5ms/step - loss: 1.6244e-05\n",
            "Epoch 344/600\n",
            "1/1 [==============================] - 0s 6ms/step - loss: 1.6079e-05\n",
            "Epoch 345/600\n",
            "1/1 [==============================] - 0s 4ms/step - loss: 1.6049e-05\n",
            "Epoch 346/600\n",
            "1/1 [==============================] - 0s 5ms/step - loss: 1.5888e-05\n",
            "Epoch 347/600\n",
            "1/1 [==============================] - 0s 4ms/step - loss: 1.5860e-05\n",
            "Epoch 348/600\n",
            "1/1 [==============================] - 0s 3ms/step - loss: 1.5703e-05\n",
            "Epoch 349/600\n",
            "1/1 [==============================] - 0s 6ms/step - loss: 1.5679e-05\n",
            "Epoch 350/600\n",
            "1/1 [==============================] - 0s 4ms/step - loss: 1.5525e-05\n",
            "Epoch 351/600\n",
            "1/1 [==============================] - 0s 3ms/step - loss: 1.5503e-05\n",
            "Epoch 352/600\n",
            "1/1 [==============================] - 0s 6ms/step - loss: 1.5353e-05\n",
            "Epoch 353/600\n",
            "1/1 [==============================] - 0s 3ms/step - loss: 1.5335e-05\n",
            "Epoch 354/600\n",
            "1/1 [==============================] - 0s 6ms/step - loss: 1.5188e-05\n",
            "Epoch 355/600\n",
            "1/1 [==============================] - 0s 3ms/step - loss: 1.5173e-05\n",
            "Epoch 356/600\n",
            "1/1 [==============================] - 0s 3ms/step - loss: 1.5029e-05\n",
            "Epoch 357/600\n",
            "1/1 [==============================] - 0s 4ms/step - loss: 1.5016e-05\n",
            "Epoch 358/600\n",
            "1/1 [==============================] - 0s 4ms/step - loss: 1.4875e-05\n",
            "Epoch 359/600\n",
            "1/1 [==============================] - 0s 3ms/step - loss: 1.4864e-05\n",
            "Epoch 360/600\n",
            "1/1 [==============================] - 0s 3ms/step - loss: 1.4726e-05\n",
            "Epoch 361/600\n",
            "1/1 [==============================] - 0s 3ms/step - loss: 1.4718e-05\n",
            "Epoch 362/600\n",
            "1/1 [==============================] - 0s 6ms/step - loss: 1.4583e-05\n",
            "Epoch 363/600\n",
            "1/1 [==============================] - 0s 6ms/step - loss: 1.4577e-05\n",
            "Epoch 364/600\n",
            "1/1 [==============================] - 0s 3ms/step - loss: 1.4446e-05\n",
            "Epoch 365/600\n",
            "1/1 [==============================] - 0s 3ms/step - loss: 1.4442e-05\n",
            "Epoch 366/600\n",
            "1/1 [==============================] - 0s 3ms/step - loss: 1.4313e-05\n",
            "Epoch 367/600\n",
            "1/1 [==============================] - 0s 8ms/step - loss: 1.4312e-05\n",
            "Epoch 368/600\n",
            "1/1 [==============================] - 0s 5ms/step - loss: 1.4185e-05\n",
            "Epoch 369/600\n",
            "1/1 [==============================] - 0s 3ms/step - loss: 1.4185e-05\n",
            "Epoch 370/600\n",
            "1/1 [==============================] - 0s 3ms/step - loss: 1.4061e-05\n",
            "Epoch 371/600\n",
            "1/1 [==============================] - 0s 4ms/step - loss: 1.4063e-05\n",
            "Epoch 372/600\n",
            "1/1 [==============================] - 0s 3ms/step - loss: 1.3941e-05\n",
            "Epoch 373/600\n",
            "1/1 [==============================] - 0s 8ms/step - loss: 1.3945e-05\n",
            "Epoch 374/600\n",
            "1/1 [==============================] - 0s 3ms/step - loss: 1.3826e-05\n",
            "Epoch 375/600\n",
            "1/1 [==============================] - 0s 4ms/step - loss: 1.3832e-05\n",
            "Epoch 376/600\n",
            "1/1 [==============================] - 0s 4ms/step - loss: 1.3715e-05\n",
            "Epoch 377/600\n",
            "1/1 [==============================] - 0s 3ms/step - loss: 1.3723e-05\n",
            "Epoch 378/600\n",
            "1/1 [==============================] - 0s 4ms/step - loss: 1.3608e-05\n",
            "Epoch 379/600\n",
            "1/1 [==============================] - 0s 4ms/step - loss: 1.3617e-05\n",
            "Epoch 380/600\n",
            "1/1 [==============================] - 0s 3ms/step - loss: 1.3504e-05\n",
            "Epoch 381/600\n",
            "1/1 [==============================] - 0s 4ms/step - loss: 1.3515e-05\n",
            "Epoch 382/600\n",
            "1/1 [==============================] - 0s 3ms/step - loss: 1.3404e-05\n",
            "Epoch 383/600\n",
            "1/1 [==============================] - 0s 3ms/step - loss: 1.3417e-05\n",
            "Epoch 384/600\n",
            "1/1 [==============================] - 0s 3ms/step - loss: 1.3308e-05\n",
            "Epoch 385/600\n",
            "1/1 [==============================] - 0s 6ms/step - loss: 1.3322e-05\n",
            "Epoch 386/600\n",
            "1/1 [==============================] - 0s 7ms/step - loss: 1.3215e-05\n",
            "Epoch 387/600\n",
            "1/1 [==============================] - 0s 6ms/step - loss: 1.3230e-05\n",
            "Epoch 388/600\n",
            "1/1 [==============================] - 0s 3ms/step - loss: 1.3125e-05\n",
            "Epoch 389/600\n",
            "1/1 [==============================] - 0s 3ms/step - loss: 1.3141e-05\n",
            "Epoch 390/600\n",
            "1/1 [==============================] - 0s 3ms/step - loss: 1.3038e-05\n",
            "Epoch 391/600\n",
            "1/1 [==============================] - 0s 3ms/step - loss: 1.3055e-05\n",
            "Epoch 392/600\n",
            "1/1 [==============================] - 0s 3ms/step - loss: 1.2954e-05\n",
            "Epoch 393/600\n",
            "1/1 [==============================] - 0s 3ms/step - loss: 1.2973e-05\n",
            "Epoch 394/600\n",
            "1/1 [==============================] - 0s 5ms/step - loss: 1.2873e-05\n",
            "Epoch 395/600\n",
            "1/1 [==============================] - 0s 3ms/step - loss: 1.2893e-05\n",
            "Epoch 396/600\n",
            "1/1 [==============================] - 0s 6ms/step - loss: 1.2795e-05\n",
            "Epoch 397/600\n",
            "1/1 [==============================] - 0s 2ms/step - loss: 1.2817e-05\n",
            "Epoch 398/600\n",
            "1/1 [==============================] - 0s 3ms/step - loss: 1.2720e-05\n",
            "Epoch 399/600\n",
            "1/1 [==============================] - 0s 4ms/step - loss: 1.2742e-05\n",
            "Epoch 400/600\n",
            "1/1 [==============================] - 0s 4ms/step - loss: 1.2646e-05\n",
            "Epoch 401/600\n",
            "1/1 [==============================] - 0s 3ms/step - loss: 1.2669e-05\n",
            "Epoch 402/600\n",
            "1/1 [==============================] - 0s 3ms/step - loss: 1.2575e-05\n",
            "Epoch 403/600\n",
            "1/1 [==============================] - 0s 6ms/step - loss: 1.2599e-05\n",
            "Epoch 404/600\n",
            "1/1 [==============================] - 0s 6ms/step - loss: 1.2507e-05\n",
            "Epoch 405/600\n",
            "1/1 [==============================] - 0s 4ms/step - loss: 1.2532e-05\n",
            "Epoch 406/600\n",
            "1/1 [==============================] - 0s 3ms/step - loss: 1.2441e-05\n",
            "Epoch 407/600\n",
            "1/1 [==============================] - 0s 3ms/step - loss: 1.2467e-05\n",
            "Epoch 408/600\n",
            "1/1 [==============================] - 0s 3ms/step - loss: 1.2378e-05\n",
            "Epoch 409/600\n",
            "1/1 [==============================] - 0s 3ms/step - loss: 1.2405e-05\n",
            "Epoch 410/600\n",
            "1/1 [==============================] - 0s 7ms/step - loss: 1.2317e-05\n",
            "Epoch 411/600\n",
            "1/1 [==============================] - 0s 3ms/step - loss: 1.2345e-05\n",
            "Epoch 412/600\n",
            "1/1 [==============================] - 0s 12ms/step - loss: 1.2258e-05\n",
            "Epoch 413/600\n",
            "1/1 [==============================] - 0s 5ms/step - loss: 1.2285e-05\n",
            "Epoch 414/600\n",
            "1/1 [==============================] - 0s 3ms/step - loss: 1.2199e-05\n",
            "Epoch 415/600\n",
            "1/1 [==============================] - 0s 5ms/step - loss: 1.2227e-05\n",
            "Epoch 416/600\n",
            "1/1 [==============================] - 0s 11ms/step - loss: 1.2142e-05\n",
            "Epoch 417/600\n",
            "1/1 [==============================] - 0s 5ms/step - loss: 1.2171e-05\n",
            "Epoch 418/600\n",
            "1/1 [==============================] - 0s 3ms/step - loss: 1.2089e-05\n",
            "Epoch 419/600\n",
            "1/1 [==============================] - 0s 4ms/step - loss: 1.2119e-05\n",
            "Epoch 420/600\n",
            "1/1 [==============================] - 0s 4ms/step - loss: 1.2038e-05\n",
            "Epoch 421/600\n",
            "1/1 [==============================] - 0s 10ms/step - loss: 1.2069e-05\n",
            "Epoch 422/600\n",
            "1/1 [==============================] - 0s 6ms/step - loss: 1.1989e-05\n",
            "Epoch 423/600\n",
            "1/1 [==============================] - 0s 4ms/step - loss: 1.2020e-05\n",
            "Epoch 424/600\n",
            "1/1 [==============================] - 0s 3ms/step - loss: 1.1940e-05\n",
            "Epoch 425/600\n",
            "1/1 [==============================] - 0s 3ms/step - loss: 1.1971e-05\n",
            "Epoch 426/600\n",
            "1/1 [==============================] - 0s 3ms/step - loss: 1.1892e-05\n",
            "Epoch 427/600\n",
            "1/1 [==============================] - 0s 4ms/step - loss: 1.1924e-05\n",
            "Epoch 428/600\n",
            "1/1 [==============================] - 0s 4ms/step - loss: 1.1846e-05\n",
            "Epoch 429/600\n",
            "1/1 [==============================] - 0s 3ms/step - loss: 1.1879e-05\n",
            "Epoch 430/600\n",
            "1/1 [==============================] - 0s 4ms/step - loss: 1.1802e-05\n",
            "Epoch 431/600\n",
            "1/1 [==============================] - 0s 8ms/step - loss: 1.1834e-05\n",
            "Epoch 432/600\n",
            "1/1 [==============================] - 0s 3ms/step - loss: 1.1759e-05\n",
            "Epoch 433/600\n",
            "1/1 [==============================] - 0s 6ms/step - loss: 1.1792e-05\n",
            "Epoch 434/600\n",
            "1/1 [==============================] - 0s 3ms/step - loss: 1.1718e-05\n",
            "Epoch 435/600\n",
            "1/1 [==============================] - 0s 7ms/step - loss: 1.1753e-05\n",
            "Epoch 436/600\n",
            "1/1 [==============================] - 0s 3ms/step - loss: 1.1679e-05\n",
            "Epoch 437/600\n",
            "1/1 [==============================] - 0s 3ms/step - loss: 1.1714e-05\n",
            "Epoch 438/600\n",
            "1/1 [==============================] - 0s 5ms/step - loss: 1.1641e-05\n",
            "Epoch 439/600\n",
            "1/1 [==============================] - 0s 3ms/step - loss: 1.1675e-05\n",
            "Epoch 440/600\n",
            "1/1 [==============================] - 0s 3ms/step - loss: 1.1603e-05\n",
            "Epoch 441/600\n",
            "1/1 [==============================] - 0s 3ms/step - loss: 1.1638e-05\n",
            "Epoch 442/600\n",
            "1/1 [==============================] - 0s 3ms/step - loss: 1.1566e-05\n",
            "Epoch 443/600\n",
            "1/1 [==============================] - 0s 5ms/step - loss: 1.1601e-05\n",
            "Epoch 444/600\n",
            "1/1 [==============================] - 0s 6ms/step - loss: 1.1530e-05\n",
            "Epoch 445/600\n",
            "1/1 [==============================] - 0s 5ms/step - loss: 1.1566e-05\n",
            "Epoch 446/600\n",
            "1/1 [==============================] - 0s 3ms/step - loss: 1.1496e-05\n",
            "Epoch 447/600\n",
            "1/1 [==============================] - 0s 4ms/step - loss: 1.1533e-05\n",
            "Epoch 448/600\n",
            "1/1 [==============================] - 0s 9ms/step - loss: 1.1464e-05\n",
            "Epoch 449/600\n",
            "1/1 [==============================] - 0s 3ms/step - loss: 1.1500e-05\n",
            "Epoch 450/600\n",
            "1/1 [==============================] - 0s 10ms/step - loss: 1.1432e-05\n",
            "Epoch 451/600\n",
            "1/1 [==============================] - 0s 3ms/step - loss: 1.1469e-05\n",
            "Epoch 452/600\n",
            "1/1 [==============================] - 0s 4ms/step - loss: 1.1402e-05\n",
            "Epoch 453/600\n",
            "1/1 [==============================] - 0s 4ms/step - loss: 1.1439e-05\n",
            "Epoch 454/600\n",
            "1/1 [==============================] - 0s 4ms/step - loss: 1.1371e-05\n",
            "Epoch 455/600\n",
            "1/1 [==============================] - 0s 3ms/step - loss: 1.1408e-05\n",
            "Epoch 456/600\n",
            "1/1 [==============================] - 0s 4ms/step - loss: 1.1342e-05\n",
            "Epoch 457/600\n",
            "1/1 [==============================] - 0s 4ms/step - loss: 1.1379e-05\n",
            "Epoch 458/600\n",
            "1/1 [==============================] - 0s 5ms/step - loss: 1.1312e-05\n",
            "Epoch 459/600\n",
            "1/1 [==============================] - 0s 2ms/step - loss: 1.1350e-05\n",
            "Epoch 460/600\n",
            "1/1 [==============================] - 0s 6ms/step - loss: 1.1285e-05\n",
            "Epoch 461/600\n",
            "1/1 [==============================] - 0s 6ms/step - loss: 1.1323e-05\n",
            "Epoch 462/600\n",
            "1/1 [==============================] - 0s 3ms/step - loss: 1.1259e-05\n",
            "Epoch 463/600\n",
            "1/1 [==============================] - 0s 3ms/step - loss: 1.1297e-05\n",
            "Epoch 464/600\n",
            "1/1 [==============================] - 0s 3ms/step - loss: 1.1233e-05\n",
            "Epoch 465/600\n",
            "1/1 [==============================] - 0s 4ms/step - loss: 1.1271e-05\n",
            "Epoch 466/600\n",
            "1/1 [==============================] - 0s 4ms/step - loss: 1.1208e-05\n",
            "Epoch 467/600\n",
            "1/1 [==============================] - 0s 2ms/step - loss: 1.1246e-05\n",
            "Epoch 468/600\n",
            "1/1 [==============================] - 0s 6ms/step - loss: 1.1183e-05\n",
            "Epoch 469/600\n",
            "1/1 [==============================] - 0s 4ms/step - loss: 1.1222e-05\n",
            "Epoch 470/600\n",
            "1/1 [==============================] - 0s 8ms/step - loss: 1.1160e-05\n",
            "Epoch 471/600\n",
            "1/1 [==============================] - 0s 3ms/step - loss: 1.1199e-05\n",
            "Epoch 472/600\n",
            "1/1 [==============================] - 0s 2ms/step - loss: 1.1137e-05\n",
            "Epoch 473/600\n",
            "1/1 [==============================] - 0s 3ms/step - loss: 1.1176e-05\n",
            "Epoch 474/600\n",
            "1/1 [==============================] - 0s 3ms/step - loss: 1.1115e-05\n",
            "Epoch 475/600\n",
            "1/1 [==============================] - 0s 5ms/step - loss: 1.1154e-05\n",
            "Epoch 476/600\n",
            "1/1 [==============================] - 0s 4ms/step - loss: 1.1093e-05\n",
            "Epoch 477/600\n",
            "1/1 [==============================] - 0s 6ms/step - loss: 1.1132e-05\n",
            "Epoch 478/600\n",
            "1/1 [==============================] - 0s 6ms/step - loss: 1.1071e-05\n",
            "Epoch 479/600\n",
            "1/1 [==============================] - 0s 4ms/step - loss: 1.1109e-05\n",
            "Epoch 480/600\n",
            "1/1 [==============================] - 0s 3ms/step - loss: 1.1050e-05\n",
            "Epoch 481/600\n",
            "1/1 [==============================] - 0s 3ms/step - loss: 1.1089e-05\n",
            "Epoch 482/600\n",
            "1/1 [==============================] - 0s 3ms/step - loss: 1.1030e-05\n",
            "Epoch 483/600\n",
            "1/1 [==============================] - 0s 7ms/step - loss: 1.1070e-05\n",
            "Epoch 484/600\n",
            "1/1 [==============================] - 0s 6ms/step - loss: 1.1011e-05\n",
            "Epoch 485/600\n",
            "1/1 [==============================] - 0s 7ms/step - loss: 1.1051e-05\n",
            "Epoch 486/600\n",
            "1/1 [==============================] - 0s 3ms/step - loss: 1.0993e-05\n",
            "Epoch 487/600\n",
            "1/1 [==============================] - 0s 5ms/step - loss: 1.1032e-05\n",
            "Epoch 488/600\n",
            "1/1 [==============================] - 0s 3ms/step - loss: 1.0975e-05\n",
            "Epoch 489/600\n",
            "1/1 [==============================] - 0s 4ms/step - loss: 1.1013e-05\n",
            "Epoch 490/600\n",
            "1/1 [==============================] - 0s 6ms/step - loss: 1.0956e-05\n",
            "Epoch 491/600\n",
            "1/1 [==============================] - 0s 4ms/step - loss: 1.0994e-05\n",
            "Epoch 492/600\n",
            "1/1 [==============================] - 0s 4ms/step - loss: 1.0938e-05\n",
            "Epoch 493/600\n",
            "1/1 [==============================] - 0s 3ms/step - loss: 1.0977e-05\n",
            "Epoch 494/600\n",
            "1/1 [==============================] - 0s 3ms/step - loss: 1.0921e-05\n",
            "Epoch 495/600\n",
            "1/1 [==============================] - 0s 3ms/step - loss: 1.0961e-05\n",
            "Epoch 496/600\n",
            "1/1 [==============================] - 0s 3ms/step - loss: 1.0906e-05\n",
            "Epoch 497/600\n",
            "1/1 [==============================] - 0s 4ms/step - loss: 1.0945e-05\n",
            "Epoch 498/600\n",
            "1/1 [==============================] - 0s 3ms/step - loss: 1.0890e-05\n",
            "Epoch 499/600\n",
            "1/1 [==============================] - 0s 3ms/step - loss: 1.0929e-05\n",
            "Epoch 500/600\n",
            "1/1 [==============================] - 0s 3ms/step - loss: 1.0874e-05\n",
            "Epoch 501/600\n",
            "1/1 [==============================] - 0s 3ms/step - loss: 1.0912e-05\n",
            "Epoch 502/600\n",
            "1/1 [==============================] - 0s 3ms/step - loss: 1.0857e-05\n",
            "Epoch 503/600\n",
            "1/1 [==============================] - 0s 3ms/step - loss: 1.0896e-05\n",
            "Epoch 504/600\n",
            "1/1 [==============================] - 0s 3ms/step - loss: 1.0843e-05\n",
            "Epoch 505/600\n",
            "1/1 [==============================] - 0s 5ms/step - loss: 1.0882e-05\n",
            "Epoch 506/600\n",
            "1/1 [==============================] - 0s 6ms/step - loss: 1.0829e-05\n",
            "Epoch 507/600\n",
            "1/1 [==============================] - 0s 3ms/step - loss: 1.0868e-05\n",
            "Epoch 508/600\n",
            "1/1 [==============================] - 0s 6ms/step - loss: 1.0815e-05\n",
            "Epoch 509/600\n",
            "1/1 [==============================] - 0s 6ms/step - loss: 1.0854e-05\n",
            "Epoch 510/600\n",
            "1/1 [==============================] - 0s 3ms/step - loss: 1.0802e-05\n",
            "Epoch 511/600\n",
            "1/1 [==============================] - 0s 4ms/step - loss: 1.0840e-05\n",
            "Epoch 512/600\n",
            "1/1 [==============================] - 0s 3ms/step - loss: 1.0788e-05\n",
            "Epoch 513/600\n",
            "1/1 [==============================] - 0s 7ms/step - loss: 1.0827e-05\n",
            "Epoch 514/600\n",
            "1/1 [==============================] - 0s 3ms/step - loss: 1.0775e-05\n",
            "Epoch 515/600\n",
            "1/1 [==============================] - 0s 5ms/step - loss: 1.0813e-05\n",
            "Epoch 516/600\n",
            "1/1 [==============================] - 0s 5ms/step - loss: 1.0762e-05\n",
            "Epoch 517/600\n",
            "1/1 [==============================] - 0s 8ms/step - loss: 1.0800e-05\n",
            "Epoch 518/600\n",
            "1/1 [==============================] - 0s 4ms/step - loss: 1.0749e-05\n",
            "Epoch 519/600\n",
            "1/1 [==============================] - 0s 3ms/step - loss: 1.0788e-05\n",
            "Epoch 520/600\n",
            "1/1 [==============================] - 0s 3ms/step - loss: 1.0737e-05\n",
            "Epoch 521/600\n",
            "1/1 [==============================] - 0s 3ms/step - loss: 1.0776e-05\n",
            "Epoch 522/600\n",
            "1/1 [==============================] - 0s 6ms/step - loss: 1.0726e-05\n",
            "Epoch 523/600\n",
            "1/1 [==============================] - 0s 4ms/step - loss: 1.0765e-05\n",
            "Epoch 524/600\n",
            "1/1 [==============================] - 0s 3ms/step - loss: 1.0715e-05\n",
            "Epoch 525/600\n",
            "1/1 [==============================] - 0s 3ms/step - loss: 1.0753e-05\n",
            "Epoch 526/600\n",
            "1/1 [==============================] - 0s 4ms/step - loss: 1.0702e-05\n",
            "Epoch 527/600\n",
            "1/1 [==============================] - 0s 3ms/step - loss: 1.0740e-05\n",
            "Epoch 528/600\n",
            "1/1 [==============================] - 0s 3ms/step - loss: 1.0691e-05\n",
            "Epoch 529/600\n",
            "1/1 [==============================] - 0s 3ms/step - loss: 1.0730e-05\n",
            "Epoch 530/600\n",
            "1/1 [==============================] - 0s 6ms/step - loss: 1.0681e-05\n",
            "Epoch 531/600\n",
            "1/1 [==============================] - 0s 3ms/step - loss: 1.0719e-05\n",
            "Epoch 532/600\n",
            "1/1 [==============================] - 0s 3ms/step - loss: 1.0671e-05\n",
            "Epoch 533/600\n",
            "1/1 [==============================] - 0s 3ms/step - loss: 1.0709e-05\n",
            "Epoch 534/600\n",
            "1/1 [==============================] - 0s 3ms/step - loss: 1.0661e-05\n",
            "Epoch 535/600\n",
            "1/1 [==============================] - 0s 4ms/step - loss: 1.0699e-05\n",
            "Epoch 536/600\n",
            "1/1 [==============================] - 0s 5ms/step - loss: 1.0651e-05\n",
            "Epoch 537/600\n",
            "1/1 [==============================] - 0s 6ms/step - loss: 1.0688e-05\n",
            "Epoch 538/600\n",
            "1/1 [==============================] - 0s 2ms/step - loss: 1.0640e-05\n",
            "Epoch 539/600\n",
            "1/1 [==============================] - 0s 6ms/step - loss: 1.0678e-05\n",
            "Epoch 540/600\n",
            "1/1 [==============================] - 0s 6ms/step - loss: 1.0630e-05\n",
            "Epoch 541/600\n",
            "1/1 [==============================] - 0s 5ms/step - loss: 1.0668e-05\n",
            "Epoch 542/600\n",
            "1/1 [==============================] - 0s 5ms/step - loss: 1.0621e-05\n",
            "Epoch 543/600\n",
            "1/1 [==============================] - 0s 3ms/step - loss: 1.0659e-05\n",
            "Epoch 544/600\n",
            "1/1 [==============================] - 0s 4ms/step - loss: 1.0613e-05\n",
            "Epoch 545/600\n",
            "1/1 [==============================] - 0s 4ms/step - loss: 1.0651e-05\n",
            "Epoch 546/600\n",
            "1/1 [==============================] - 0s 3ms/step - loss: 1.0604e-05\n",
            "Epoch 547/600\n",
            "1/1 [==============================] - 0s 3ms/step - loss: 1.0642e-05\n",
            "Epoch 548/600\n",
            "1/1 [==============================] - 0s 3ms/step - loss: 1.0595e-05\n",
            "Epoch 549/600\n",
            "1/1 [==============================] - 0s 4ms/step - loss: 1.0633e-05\n",
            "Epoch 550/600\n",
            "1/1 [==============================] - 0s 3ms/step - loss: 1.0586e-05\n",
            "Epoch 551/600\n",
            "1/1 [==============================] - 0s 4ms/step - loss: 1.0623e-05\n",
            "Epoch 552/600\n",
            "1/1 [==============================] - 0s 3ms/step - loss: 1.0576e-05\n",
            "Epoch 553/600\n",
            "1/1 [==============================] - 0s 3ms/step - loss: 1.0613e-05\n",
            "Epoch 554/600\n",
            "1/1 [==============================] - 0s 8ms/step - loss: 1.0567e-05\n",
            "Epoch 555/600\n",
            "1/1 [==============================] - 0s 3ms/step - loss: 1.0605e-05\n",
            "Epoch 556/600\n",
            "1/1 [==============================] - 0s 3ms/step - loss: 1.0559e-05\n",
            "Epoch 557/600\n",
            "1/1 [==============================] - 0s 2ms/step - loss: 1.0598e-05\n",
            "Epoch 558/600\n",
            "1/1 [==============================] - 0s 3ms/step - loss: 1.0553e-05\n",
            "Epoch 559/600\n",
            "1/1 [==============================] - 0s 3ms/step - loss: 1.0591e-05\n",
            "Epoch 560/600\n",
            "1/1 [==============================] - 0s 4ms/step - loss: 1.0546e-05\n",
            "Epoch 561/600\n",
            "1/1 [==============================] - 0s 3ms/step - loss: 1.0584e-05\n",
            "Epoch 562/600\n",
            "1/1 [==============================] - 0s 3ms/step - loss: 1.0538e-05\n",
            "Epoch 563/600\n",
            "1/1 [==============================] - 0s 4ms/step - loss: 1.0575e-05\n",
            "Epoch 564/600\n",
            "1/1 [==============================] - 0s 3ms/step - loss: 1.0529e-05\n",
            "Epoch 565/600\n",
            "1/1 [==============================] - 0s 3ms/step - loss: 1.0566e-05\n",
            "Epoch 566/600\n",
            "1/1 [==============================] - 0s 2ms/step - loss: 1.0521e-05\n",
            "Epoch 567/600\n",
            "1/1 [==============================] - 0s 4ms/step - loss: 1.0558e-05\n",
            "Epoch 568/600\n",
            "1/1 [==============================] - 0s 6ms/step - loss: 1.0514e-05\n",
            "Epoch 569/600\n",
            "1/1 [==============================] - 0s 5ms/step - loss: 1.0551e-05\n",
            "Epoch 570/600\n",
            "1/1 [==============================] - 0s 4ms/step - loss: 1.0507e-05\n",
            "Epoch 571/600\n",
            "1/1 [==============================] - 0s 4ms/step - loss: 1.0544e-05\n",
            "Epoch 572/600\n",
            "1/1 [==============================] - 0s 4ms/step - loss: 1.0500e-05\n",
            "Epoch 573/600\n",
            "1/1 [==============================] - 0s 3ms/step - loss: 1.0537e-05\n",
            "Epoch 574/600\n",
            "1/1 [==============================] - 0s 3ms/step - loss: 1.0493e-05\n",
            "Epoch 575/600\n",
            "1/1 [==============================] - 0s 3ms/step - loss: 1.0530e-05\n",
            "Epoch 576/600\n",
            "1/1 [==============================] - 0s 3ms/step - loss: 1.0486e-05\n",
            "Epoch 577/600\n",
            "1/1 [==============================] - 0s 3ms/step - loss: 1.0523e-05\n",
            "Epoch 578/600\n",
            "1/1 [==============================] - 0s 4ms/step - loss: 1.0479e-05\n",
            "Epoch 579/600\n",
            "1/1 [==============================] - 0s 11ms/step - loss: 1.0516e-05\n",
            "Epoch 580/600\n",
            "1/1 [==============================] - 0s 7ms/step - loss: 1.0472e-05\n",
            "Epoch 581/600\n",
            "1/1 [==============================] - 0s 3ms/step - loss: 1.0509e-05\n",
            "Epoch 582/600\n",
            "1/1 [==============================] - 0s 4ms/step - loss: 1.0466e-05\n",
            "Epoch 583/600\n",
            "1/1 [==============================] - 0s 10ms/step - loss: 1.0503e-05\n",
            "Epoch 584/600\n",
            "1/1 [==============================] - 0s 5ms/step - loss: 1.0460e-05\n",
            "Epoch 585/600\n",
            "1/1 [==============================] - 0s 5ms/step - loss: 1.0496e-05\n",
            "Epoch 586/600\n",
            "1/1 [==============================] - 0s 3ms/step - loss: 1.0453e-05\n",
            "Epoch 587/600\n",
            "1/1 [==============================] - 0s 3ms/step - loss: 1.0489e-05\n",
            "Epoch 588/600\n",
            "1/1 [==============================] - 0s 3ms/step - loss: 1.0447e-05\n",
            "Epoch 589/600\n",
            "1/1 [==============================] - 0s 3ms/step - loss: 1.0484e-05\n",
            "Epoch 590/600\n",
            "1/1 [==============================] - 0s 3ms/step - loss: 1.0441e-05\n",
            "Epoch 591/600\n",
            "1/1 [==============================] - 0s 8ms/step - loss: 1.0478e-05\n",
            "Epoch 592/600\n",
            "1/1 [==============================] - 0s 10ms/step - loss: 1.0436e-05\n",
            "Epoch 593/600\n",
            "1/1 [==============================] - 0s 6ms/step - loss: 1.0471e-05\n",
            "Epoch 594/600\n",
            "1/1 [==============================] - 0s 5ms/step - loss: 1.0429e-05\n",
            "Epoch 595/600\n",
            "1/1 [==============================] - 0s 3ms/step - loss: 1.0464e-05\n",
            "Epoch 596/600\n",
            "1/1 [==============================] - 0s 4ms/step - loss: 1.0422e-05\n",
            "Epoch 597/600\n",
            "1/1 [==============================] - 0s 3ms/step - loss: 1.0458e-05\n",
            "Epoch 598/600\n",
            "1/1 [==============================] - 0s 3ms/step - loss: 1.0416e-05\n",
            "Epoch 599/600\n",
            "1/1 [==============================] - 0s 4ms/step - loss: 1.0452e-05\n",
            "Epoch 600/600\n",
            "1/1 [==============================] - 0s 3ms/step - loss: 1.0410e-05\n",
            "CPU times: user 28.4 s, sys: 1.73 s, total: 30.2 s\n",
            "Wall time: 26.8 s\n"
          ],
          "name": "stdout"
        },
        {
          "output_type": "execute_result",
          "data": {
            "text/plain": [
              "<tensorflow.python.keras.callbacks.History at 0x7f537b81ff28>"
            ]
          },
          "metadata": {
            "tags": []
          },
          "execution_count": 84
        }
      ]
    },
    {
      "cell_type": "code",
      "metadata": {
        "id": "YPS7SbBcvA5B"
      },
      "source": [
        "###Evaluate Models"
      ],
      "execution_count": 85,
      "outputs": []
    },
    {
      "cell_type": "code",
      "metadata": {
        "id": "ujwxHrHNvDlf"
      },
      "source": [
        "combined_set = np.concatenate((train_data, test_data), axis=1)\n",
        "\n",
        "def evaluate_model(model, kind='series'):\n",
        "    \"\"\"Compute the MSE for all future weeks in period.\n",
        "    \n",
        "    Parameters\n",
        "    ----------\n",
        "    model: Keras trained model\n",
        "    \n",
        "    kind: str, default 'series'\n",
        "        Kind of evaluation to perform. If 'series', \n",
        "        then the model will perform an evaluation \n",
        "        over the complete series.\n",
        "    \n",
        "    Returns\n",
        "    -------\n",
        "    evaluated_weeks: list\n",
        "        List of MSE values for each evaluated\n",
        "        test week.\n",
        "    \"\"\"\n",
        "    if kind == 'series':\n",
        "        predicted_weeks = []\n",
        "        for i in range(0, test_data.shape[1]):\n",
        "            input_series = combined_set[0:,i:i+76]\n",
        "            predicted_weeks.append(model.predict(input_series))\n",
        "\n",
        "        predicted_days = []\n",
        "        for week in predicted_weeks:\n",
        "            predicted_days += list(week[0])\n",
        "\n",
        "        return predicted_days\n",
        "    else:\n",
        "        evaluated_weeks = []\n",
        "        for i in range(0, test_data.shape[1]):\n",
        "            input_series = combined_set[0:,i:i+77]\n",
        "\n",
        "            X_test = input_series[0:,:-1].reshape(1, input_series.shape[1] - 1, 7)\n",
        "            Y_test = input_series[0:,-1:][0]\n",
        "\n",
        "            result = model.evaluate(x=X_test, y=Y_test, verbose=0)\n",
        "            evaluated_weeks.append(result)\n",
        "            \n",
        "            return evaluated_weeks"
      ],
      "execution_count": 86,
      "outputs": []
    },
    {
      "cell_type": "code",
      "metadata": {
        "id": "EVQe-fGEvIYa"
      },
      "source": [
        "def plot_weekly_mse(series, model_name, color):\n",
        "    \"\"\"Plot weekly MSE.\"\"\"\n",
        "    ax = pd.Series(series).plot(drawstyle=\"steps-post\",\n",
        "                                figsize=(14,4),\n",
        "                                color=color,\n",
        "                                grid=True,\n",
        "                                label=model_name,\n",
        "                                alpha=0.7,\n",
        "                                title='Mean Squared Error (MSE) for Test Data (all models)'.format(\n",
        "                                       model_name))\n",
        "\n",
        "    ax.set_xticks(range(0, len(series)))\n",
        "    ax.set_xlabel(\"Predicted Week\")\n",
        "    ax.set_ylabel(\"MSE\")\n",
        "\n",
        "    return ax"
      ],
      "execution_count": 87,
      "outputs": []
    },
    {
      "cell_type": "code",
      "metadata": {
        "id": "vNYqV-m5vKY2"
      },
      "source": [
        "def plot_weekly_predictions(predicted_days, name, display_plot=True, \n",
        "                            variable='close'):\n",
        "    \"\"\"Plot weekly predictions and calculate RMSE and MAPE.\"\"\"\n",
        "    \n",
        "    # Create dataframe to store predictions and associated dates\n",
        "    last_day = datetime.strptime(train['date'].max(), '%Y-%m-%d')\n",
        "    list_of_days = []\n",
        "    for days in range(1, len(predicted_days) + 1):\n",
        "        D = (last_day + timedelta(days=days)).strftime('%Y-%m-%d')\n",
        "        list_of_days.append(D)\n",
        "    \n",
        "    predicted = pd.DataFrame({\n",
        "        'date': list_of_days,\n",
        "        'close_point_relative_normalization': predicted_days\n",
        "    })\n",
        "    \n",
        "    # Convert `date` variable to datetime\n",
        "    predicted['date'] = predicted['date'].apply(\n",
        "        lambda x: datetime.strptime(x, '%Y-%m-%d'))\n",
        "\n",
        "    # Create iso_week column in `predicted` dataframe\n",
        "    predicted['iso_week'] = predicted['date'].apply(\n",
        "        lambda x: x.strftime('%Y-%U'))\n",
        "\n",
        "    # Denormalize predictions\n",
        "    predicted_close = predicted.groupby('iso_week').apply(\n",
        "        lambda x: denormalize(test[:-3], x))\n",
        "\n",
        "    # Plot denormalized predictions and observed values\n",
        "    plot_two_series(test[:-3], predicted_close,\n",
        "                    variable=variable,\n",
        "                    title=f'{name}: Predictions per Week')\n",
        "    \n",
        "    # Calculate RMSE and MAPE\n",
        "    print(f'RMSE: {rmse(test[:-3][variable], predicted_close[variable]):.2f}')\n",
        "    print(f'MAPE: {mape(test[:-3][variable], predicted_close[variable]):.2f}%')"
      ],
      "execution_count": 89,
      "outputs": []
    },
    {
      "cell_type": "code",
      "metadata": {
        "id": "9qfEGfyBvWj-",
        "outputId": "01bf15b8-06d1-4bd3-927a-caf88719162e",
        "colab": {
          "base_uri": "https://localhost:8080/",
          "height": 665
        }
      },
      "source": [
        "#  Evaluate each model trained in this activity in sequence\n",
        "models = [model_v0, model_v1, model_v2, model_v3, model_v4]\n",
        "for i, M in enumerate(models):\n",
        "    predicted_days = evaluate_model(M, kind='series')\n",
        "    plot_weekly_predictions(predicted_days, f'model_v{i}')"
      ],
      "execution_count": 93,
      "outputs": [
        {
          "output_type": "display_data",
          "data": {
            "image/png": "[encoded data removed]",
            "text/plain": [
              "<Figure size 1008x288 with 1 Axes>"
            ]
          },
          "metadata": {
            "tags": []
          }
        },
        {
          "output_type": "stream",
          "text": [
            "RMSE: 2350.77\n",
            "MAPE: 47.06%\n"
          ],
          "name": "stdout"
        },
        {
          "output_type": "error",
          "ename": "IndexError",
          "evalue": "ignored",
          "traceback": [
            "\u001b[0;31m---------------------------------------------------------------------------\u001b[0m",
            "\u001b[0;31mIndexError\u001b[0m                                Traceback (most recent call last)",
            "\u001b[0;32m<ipython-input-93-d02718c006ce>\u001b[0m in \u001b[0;36m<module>\u001b[0;34m()\u001b[0m\n\u001b[1;32m      3\u001b[0m \u001b[0;32mfor\u001b[0m \u001b[0mi\u001b[0m\u001b[0;34m,\u001b[0m \u001b[0mM\u001b[0m \u001b[0;32min\u001b[0m \u001b[0menumerate\u001b[0m\u001b[0;34m(\u001b[0m\u001b[0mmodels\u001b[0m\u001b[0;34m)\u001b[0m\u001b[0;34m:\u001b[0m\u001b[0;34m\u001b[0m\u001b[0;34m\u001b[0m\u001b[0m\n\u001b[1;32m      4\u001b[0m     \u001b[0mpredicted_days\u001b[0m \u001b[0;34m=\u001b[0m \u001b[0mevaluate_model\u001b[0m\u001b[0;34m(\u001b[0m\u001b[0mM\u001b[0m\u001b[0;34m,\u001b[0m \u001b[0mkind\u001b[0m\u001b[0;34m=\u001b[0m\u001b[0;34m'series'\u001b[0m\u001b[0;34m)\u001b[0m\u001b[0;34m\u001b[0m\u001b[0;34m\u001b[0m\u001b[0m\n\u001b[0;32m----> 5\u001b[0;31m     \u001b[0mplot_weekly_predictions\u001b[0m\u001b[0;34m(\u001b[0m\u001b[0mpredicted_days\u001b[0m\u001b[0;34m,\u001b[0m \u001b[0;34mf'model_v{i}'\u001b[0m\u001b[0;34m)\u001b[0m\u001b[0;34m\u001b[0m\u001b[0;34m\u001b[0m\u001b[0m\n\u001b[0m",
            "\u001b[0;32m<ipython-input-89-57f857207e83>\u001b[0m in \u001b[0;36mplot_weekly_predictions\u001b[0;34m(predicted_days, name, display_plot, variable)\u001b[0m\n\u001b[1;32m     25\u001b[0m     \u001b[0;31m# Denormalize predictions\u001b[0m\u001b[0;34m\u001b[0m\u001b[0;34m\u001b[0m\u001b[0;34m\u001b[0m\u001b[0m\n\u001b[1;32m     26\u001b[0m     predicted_close = predicted.groupby('iso_week').apply(\n\u001b[0;32m---> 27\u001b[0;31m         lambda x: denormalize(test[:-3], x))\n\u001b[0m\u001b[1;32m     28\u001b[0m \u001b[0;34m\u001b[0m\u001b[0m\n\u001b[1;32m     29\u001b[0m     \u001b[0;31m# Plot denormalized predictions and observed values\u001b[0m\u001b[0;34m\u001b[0m\u001b[0;34m\u001b[0m\u001b[0;34m\u001b[0m\u001b[0m\n",
            "\u001b[0;32m/usr/local/lib/python3.6/dist-packages/pandas/core/groupby/groupby.py\u001b[0m in \u001b[0;36mapply\u001b[0;34m(self, func, *args, **kwargs)\u001b[0m\n\u001b[1;32m    857\u001b[0m         \u001b[0;32mwith\u001b[0m \u001b[0moption_context\u001b[0m\u001b[0;34m(\u001b[0m\u001b[0;34m\"mode.chained_assignment\"\u001b[0m\u001b[0;34m,\u001b[0m \u001b[0;32mNone\u001b[0m\u001b[0;34m)\u001b[0m\u001b[0;34m:\u001b[0m\u001b[0;34m\u001b[0m\u001b[0;34m\u001b[0m\u001b[0m\n\u001b[1;32m    858\u001b[0m             \u001b[0;32mtry\u001b[0m\u001b[0;34m:\u001b[0m\u001b[0;34m\u001b[0m\u001b[0;34m\u001b[0m\u001b[0m\n\u001b[0;32m--> 859\u001b[0;31m                 \u001b[0mresult\u001b[0m \u001b[0;34m=\u001b[0m \u001b[0mself\u001b[0m\u001b[0;34m.\u001b[0m\u001b[0m_python_apply_general\u001b[0m\u001b[0;34m(\u001b[0m\u001b[0mf\u001b[0m\u001b[0;34m,\u001b[0m \u001b[0mself\u001b[0m\u001b[0;34m.\u001b[0m\u001b[0m_selected_obj\u001b[0m\u001b[0;34m)\u001b[0m\u001b[0;34m\u001b[0m\u001b[0;34m\u001b[0m\u001b[0m\n\u001b[0m\u001b[1;32m    860\u001b[0m             \u001b[0;32mexcept\u001b[0m \u001b[0mTypeError\u001b[0m\u001b[0;34m:\u001b[0m\u001b[0;34m\u001b[0m\u001b[0;34m\u001b[0m\u001b[0m\n\u001b[1;32m    861\u001b[0m                 \u001b[0;31m# gh-20949\u001b[0m\u001b[0;34m\u001b[0m\u001b[0;34m\u001b[0m\u001b[0;34m\u001b[0m\u001b[0m\n",
            "\u001b[0;32m/usr/local/lib/python3.6/dist-packages/pandas/core/groupby/groupby.py\u001b[0m in \u001b[0;36m_python_apply_general\u001b[0;34m(self, f, data)\u001b[0m\n\u001b[1;32m    890\u001b[0m             \u001b[0mdata\u001b[0m \u001b[0mafter\u001b[0m \u001b[0mapplying\u001b[0m \u001b[0mf\u001b[0m\u001b[0;34m\u001b[0m\u001b[0;34m\u001b[0m\u001b[0m\n\u001b[1;32m    891\u001b[0m         \"\"\"\n\u001b[0;32m--> 892\u001b[0;31m         \u001b[0mkeys\u001b[0m\u001b[0;34m,\u001b[0m \u001b[0mvalues\u001b[0m\u001b[0;34m,\u001b[0m \u001b[0mmutated\u001b[0m \u001b[0;34m=\u001b[0m \u001b[0mself\u001b[0m\u001b[0;34m.\u001b[0m\u001b[0mgrouper\u001b[0m\u001b[0;34m.\u001b[0m\u001b[0mapply\u001b[0m\u001b[0;34m(\u001b[0m\u001b[0mf\u001b[0m\u001b[0;34m,\u001b[0m \u001b[0mdata\u001b[0m\u001b[0;34m,\u001b[0m \u001b[0mself\u001b[0m\u001b[0;34m.\u001b[0m\u001b[0maxis\u001b[0m\u001b[0;34m)\u001b[0m\u001b[0;34m\u001b[0m\u001b[0;34m\u001b[0m\u001b[0m\n\u001b[0m\u001b[1;32m    893\u001b[0m \u001b[0;34m\u001b[0m\u001b[0m\n\u001b[1;32m    894\u001b[0m         return self._wrap_applied_output(\n",
            "\u001b[0;32m/usr/local/lib/python3.6/dist-packages/pandas/core/groupby/ops.py\u001b[0m in \u001b[0;36mapply\u001b[0;34m(self, f, data, axis)\u001b[0m\n\u001b[1;32m    211\u001b[0m             \u001b[0;31m# group might be modified\u001b[0m\u001b[0;34m\u001b[0m\u001b[0;34m\u001b[0m\u001b[0;34m\u001b[0m\u001b[0m\n\u001b[1;32m    212\u001b[0m             \u001b[0mgroup_axes\u001b[0m \u001b[0;34m=\u001b[0m \u001b[0mgroup\u001b[0m\u001b[0;34m.\u001b[0m\u001b[0maxes\u001b[0m\u001b[0;34m\u001b[0m\u001b[0;34m\u001b[0m\u001b[0m\n\u001b[0;32m--> 213\u001b[0;31m             \u001b[0mres\u001b[0m \u001b[0;34m=\u001b[0m \u001b[0mf\u001b[0m\u001b[0;34m(\u001b[0m\u001b[0mgroup\u001b[0m\u001b[0;34m)\u001b[0m\u001b[0;34m\u001b[0m\u001b[0;34m\u001b[0m\u001b[0m\n\u001b[0m\u001b[1;32m    214\u001b[0m             \u001b[0;32mif\u001b[0m \u001b[0;32mnot\u001b[0m \u001b[0m_is_indexed_like\u001b[0m\u001b[0;34m(\u001b[0m\u001b[0mres\u001b[0m\u001b[0;34m,\u001b[0m \u001b[0mgroup_axes\u001b[0m\u001b[0;34m)\u001b[0m\u001b[0;34m:\u001b[0m\u001b[0;34m\u001b[0m\u001b[0;34m\u001b[0m\u001b[0m\n\u001b[1;32m    215\u001b[0m                 \u001b[0mmutated\u001b[0m \u001b[0;34m=\u001b[0m \u001b[0;32mTrue\u001b[0m\u001b[0;34m\u001b[0m\u001b[0;34m\u001b[0m\u001b[0m\n",
            "\u001b[0;32m<ipython-input-89-57f857207e83>\u001b[0m in \u001b[0;36m<lambda>\u001b[0;34m(x)\u001b[0m\n\u001b[1;32m     25\u001b[0m     \u001b[0;31m# Denormalize predictions\u001b[0m\u001b[0;34m\u001b[0m\u001b[0;34m\u001b[0m\u001b[0;34m\u001b[0m\u001b[0m\n\u001b[1;32m     26\u001b[0m     predicted_close = predicted.groupby('iso_week').apply(\n\u001b[0;32m---> 27\u001b[0;31m         lambda x: denormalize(test[:-3], x))\n\u001b[0m\u001b[1;32m     28\u001b[0m \u001b[0;34m\u001b[0m\u001b[0m\n\u001b[1;32m     29\u001b[0m     \u001b[0;31m# Plot denormalized predictions and observed values\u001b[0m\u001b[0;34m\u001b[0m\u001b[0;34m\u001b[0m\u001b[0;34m\u001b[0m\u001b[0m\n",
            "\u001b[0;32m/content/utilities_activity7.py\u001b[0m in \u001b[0;36mdenormalize\u001b[0;34m(reference, series, normalized_variable, denormalized_variable)\u001b[0m\n\u001b[1;32m    166\u001b[0m     \"\"\"\n\u001b[1;32m    167\u001b[0m     \u001b[0mweek_values\u001b[0m \u001b[0;34m=\u001b[0m \u001b[0mreference\u001b[0m\u001b[0;34m[\u001b[0m\u001b[0mreference\u001b[0m\u001b[0;34m[\u001b[0m\u001b[0;34m'iso_week'\u001b[0m\u001b[0;34m]\u001b[0m \u001b[0;34m==\u001b[0m \u001b[0mseries\u001b[0m\u001b[0;34m[\u001b[0m\u001b[0;34m'iso_week'\u001b[0m\u001b[0;34m]\u001b[0m\u001b[0;34m.\u001b[0m\u001b[0mvalues\u001b[0m\u001b[0;34m[\u001b[0m\u001b[0;36m0\u001b[0m\u001b[0;34m]\u001b[0m\u001b[0;34m]\u001b[0m\u001b[0;34m\u001b[0m\u001b[0;34m\u001b[0m\u001b[0m\n\u001b[0;32m--> 168\u001b[0;31m     \u001b[0mlast_value\u001b[0m \u001b[0;34m=\u001b[0m \u001b[0mweek_values\u001b[0m\u001b[0;34m[\u001b[0m\u001b[0mdenormalized_variable\u001b[0m\u001b[0;34m]\u001b[0m\u001b[0;34m.\u001b[0m\u001b[0mvalues\u001b[0m\u001b[0;34m[\u001b[0m\u001b[0;36m0\u001b[0m\u001b[0;34m]\u001b[0m\u001b[0;34m\u001b[0m\u001b[0;34m\u001b[0m\u001b[0m\n\u001b[0m\u001b[1;32m    169\u001b[0m     \u001b[0mseries\u001b[0m\u001b[0;34m[\u001b[0m\u001b[0mdenormalized_variable\u001b[0m\u001b[0;34m]\u001b[0m \u001b[0;34m=\u001b[0m \u001b[0mlast_value\u001b[0m \u001b[0;34m*\u001b[0m \u001b[0;34m(\u001b[0m\u001b[0mseries\u001b[0m\u001b[0;34m[\u001b[0m\u001b[0mnormalized_variable\u001b[0m\u001b[0;34m]\u001b[0m \u001b[0;34m+\u001b[0m \u001b[0;36m1\u001b[0m\u001b[0;34m)\u001b[0m\u001b[0;34m\u001b[0m\u001b[0;34m\u001b[0m\u001b[0m\n\u001b[1;32m    170\u001b[0m \u001b[0;34m\u001b[0m\u001b[0m\n",
            "\u001b[0;31mIndexError\u001b[0m: index 0 is out of bounds for axis 0 with size 0"
          ]
        }
      ]
    },
    {
      "cell_type": "code",
      "metadata": {
        "id": "DiVaRsvjxcOY"
      },
      "source": [
        ""
      ],
      "execution_count": null,
      "outputs": []
    }
  ]
}